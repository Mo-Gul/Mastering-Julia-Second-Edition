{
 "cells": [
  {
   "cell_type": "markdown",
   "metadata": {},
   "source": [
    "# Chapter 3"
   ]
  },
  {
   "cell_type": "code",
   "execution_count": 47,
   "metadata": {
    "scrolled": true
   },
   "outputs": [],
   "source": [
    "# Add these here as they are required later\n",
    "\n",
    "using BenchmarkTools, LinearAlgebra, StaticArrays"
   ]
  },
  {
   "cell_type": "markdown",
   "metadata": {},
   "source": [
    "---\n",
    "\n",
    "### Solve Basel series _(again)_"
   ]
  },
  {
   "cell_type": "code",
   "execution_count": null,
   "metadata": {},
   "outputs": [],
   "source": [
    "# Reciprocal square\n",
    "\n",
    "function rsq(x)\n",
    "  y = 1/(x*x)\n",
    "  return y\n",
    "end"
   ]
  },
  {
   "cell_type": "code",
   "execution_count": 45,
   "metadata": {},
   "outputs": [
    {
     "data": {
      "text/plain": [
       "4-element Vector{Float64}:\n",
       " 1.0\n",
       " 0.25\n",
       " 0.1111111111111111\n",
       " 0.0625"
      ]
     },
     "execution_count": 45,
     "metadata": {},
     "output_type": "execute_result"
    }
   ],
   "source": [
    "# Test the rsq() function out\n",
    "\n",
    "map([1,2,3,4]) do x\n",
    "  rsq(x)\n",
    "end later"
   ]
  },
  {
   "cell_type": "code",
   "execution_count": 46,
   "metadata": {},
   "outputs": [
    {
     "data": {
      "text/plain": [
       "1.6449330668487272"
      ]
     },
     "execution_count": 46,
     "metadata": {},
     "output_type": "execute_result"
    }
   ],
   "source": [
    "# Sum up first million (10^6) term\n",
    "\n",
    "sum(collect(1:10^6)) do x\n",
    "  rsq(x)\n",
    "end"
   ]
  },
  {
   "cell_type": "markdown",
   "metadata": {},
   "source": [
    "---"
   ]
  },
  {
   "cell_type": "markdown",
   "metadata": {},
   "source": [
    "### Collatz conjecture \n",
    "\n",
    "The Hailstone sequence of numbers can be generated from a starting positive integer, n by:\n",
    "\n",
    "- If n is 1 then the sequence ends.\n",
    "- If n is even then the next n of the sequence = n/2\n",
    "- If n is odd then the next n of the sequence = (3 * n) + 1\n",
    "\n",
    "The Collatz conjecture is that the hailstone sequence for any starting number always terminates."
   ]
  },
  {
   "cell_type": "code",
   "execution_count": 3,
   "metadata": {},
   "outputs": [
    {
     "data": {
      "text/plain": [
       "hailstone (generic function with 1 method)"
      ]
     },
     "execution_count": 3,
     "metadata": {},
     "output_type": "execute_result"
    }
   ],
   "source": [
    "function hailstone(n)\n",
    "  k = 1\n",
    "  a = [n]\n",
    "  while n > 1\n",
    "    n = (n % 2 == 0) ? n >> 1 : 3n + 1\n",
    "    push!(a,n)\n",
    "    k += 1\n",
    "  end\n",
    "  a\n",
    "end"
   ]
  },
  {
   "cell_type": "code",
   "execution_count": 4,
   "metadata": {},
   "outputs": [
    {
     "data": {
      "text/plain": [
       "13-element Vector{Int64}:\n",
       " 17\n",
       " 52\n",
       " 26\n",
       " 13\n",
       " 40\n",
       " 20\n",
       " 10\n",
       "  5\n",
       " 16\n",
       "  8\n",
       "  4\n",
       "  2\n",
       "  1"
      ]
     },
     "execution_count": 4,
     "metadata": {},
     "output_type": "execute_result"
    }
   ],
   "source": [
    "hailstone(17)"
   ]
  },
  {
   "cell_type": "code",
   "execution_count": 5,
   "metadata": {},
   "outputs": [
    {
     "data": {
      "text/plain": [
       "153-element Vector{Int64}:\n",
       " 1000000\n",
       "  500000\n",
       "  250000\n",
       "  125000\n",
       "   62500\n",
       "   31250\n",
       "   15625\n",
       "   46876\n",
       "   23438\n",
       "   11719\n",
       "   35158\n",
       "   17579\n",
       "   52738\n",
       "       ⋮\n",
       "      53\n",
       "     160\n",
       "      80\n",
       "      40\n",
       "      20\n",
       "      10\n",
       "       5\n",
       "      16\n",
       "       8\n",
       "       4\n",
       "       2\n",
       "       1"
      ]
     },
     "execution_count": 5,
     "metadata": {},
     "output_type": "execute_result"
    }
   ],
   "source": [
    "(m,s) = hailstone(1000000)"
   ]
  },
  {
   "cell_type": "markdown",
   "metadata": {},
   "source": [
    "---"
   ]
  },
  {
   "cell_type": "markdown",
   "metadata": {},
   "source": [
    "---\n",
    "\n",
    "### Pattern Matching"
   ]
  },
  {
   "cell_type": "code",
   "execution_count": 7,
   "metadata": {},
   "outputs": [],
   "source": [
    "using Match"
   ]
  },
  {
   "cell_type": "code",
   "execution_count": 8,
   "metadata": {},
   "outputs": [
    {
     "data": {
      "text/plain": [
       "allodds (generic function with 1 method)"
      ]
     },
     "execution_count": 8,
     "metadata": {},
     "output_type": "execute_result"
    }
   ],
   "source": [
    "allodds(x) = @match x begin\n",
    "    m::Int, if iseven(m) || (m < 3) end        => \"Not a valid choice\"\n",
    "    n::Int, if n == 3 || n == 5 || n == 7 end  => \"$x is prime\"\n",
    "    _  =>  \"By induction all numbers are prime\"\n",
    "end"
   ]
  },
  {
   "cell_type": "code",
   "execution_count": 9,
   "metadata": {},
   "outputs": [
    {
     "data": {
      "text/plain": [
       "\"3 is prime\""
      ]
     },
     "execution_count": 9,
     "metadata": {},
     "output_type": "execute_result"
    }
   ],
   "source": [
    "allodds(3)"
   ]
  },
  {
   "cell_type": "code",
   "execution_count": 10,
   "metadata": {},
   "outputs": [
    {
     "data": {
      "text/plain": [
       "\"Not a valid choice\""
      ]
     },
     "execution_count": 10,
     "metadata": {},
     "output_type": "execute_result"
    }
   ],
   "source": [
    "allodds(6)"
   ]
  },
  {
   "cell_type": "code",
   "execution_count": 11,
   "metadata": {},
   "outputs": [
    {
     "data": {
      "text/plain": [
       "\"By induction all numbers are prime\""
      ]
     },
     "execution_count": 11,
     "metadata": {},
     "output_type": "execute_result"
    }
   ],
   "source": [
    "allodds(9)"
   ]
  },
  {
   "cell_type": "markdown",
   "metadata": {
    "collapsed": true
   },
   "source": [
    "### Solve Queens problem"
   ]
  },
  {
   "cell_type": "code",
   "execution_count": 12,
   "metadata": {},
   "outputs": [],
   "source": [
    "struct Queen\n",
    "    x::Int\n",
    "    y::Int\n",
    "end"
   ]
  },
  {
   "cell_type": "code",
   "execution_count": 13,
   "metadata": {},
   "outputs": [],
   "source": [
    "qhorz(qa, qb) = qa.x == qb.x;\n",
    "qvert(qa, qb) = qa.y == qb.y;\n",
    "qdiag(qa, qb) = abs(qa.x - qb.x) == abs(qa.y - qb.y);\n",
    "\n",
    "qhvd(qa, qb) = qhorz(qa, qb) || qvert(qa, qb) || qdiag(qa, qb);\n",
    "qany(testq, qs) = any(q -> qhvd(testq, q), qs);"
   ]
  },
  {
   "cell_type": "code",
   "execution_count": 14,
   "metadata": {},
   "outputs": [
    {
     "data": {
      "text/plain": [
       "qsolve (generic function with 3 methods)"
      ]
     },
     "execution_count": 14,
     "metadata": {},
     "output_type": "execute_result"
    }
   ],
   "source": [
    "function qsolve(nsqsx, nsqsy, nqs, presqs = ())\n",
    "    nqs == 0 && return presqs\n",
    "    for xsq in 1:nsqsx\n",
    "        for ysq in 1:nsqsy\n",
    "            testq = Queen(xsq, ysq)\n",
    "            if !qany(testq, presqs)\n",
    "                tryqs = (presqs..., testq)\n",
    "                maybe = qsolve(nsqsx, nsqsy, nqs - 1, tryqs)\n",
    "                maybe !== nothing && return maybe\n",
    "            end\n",
    "        end\n",
    "    end\n",
    "    return nothing\n",
    "end\n",
    "\n",
    "qsolve(nqs) = qsolve(nqs, nqs, nqs)"
   ]
  },
  {
   "cell_type": "code",
   "execution_count": 15,
   "metadata": {},
   "outputs": [
    {
     "data": {
      "text/plain": [
       "(Queen(1, 1), Queen(2, 5), Queen(3, 8), Queen(4, 6), Queen(5, 3), Queen(6, 7), Queen(7, 2), Queen(8, 4))"
      ]
     },
     "execution_count": 15,
     "metadata": {},
     "output_type": "execute_result"
    }
   ],
   "source": [
    "qsolve(8)"
   ]
  },
  {
   "cell_type": "markdown",
   "metadata": {},
   "source": [
    "---"
   ]
  },
  {
   "cell_type": "markdown",
   "metadata": {},
   "source": [
    "## Persistence\n",
    "\n",
    "What is so special about 277777788888899?\n"
   ]
  },
  {
   "cell_type": "code",
   "execution_count": null,
   "metadata": {},
   "outputs": [],
   "source": [
    "function persistence(n::Integer)\n",
    "  @assert n > 0\n",
    "  s = string(n)\n",
    "  j = 0\n",
    "  while length(s) > 1\n",
    "    j += 1\n",
    "    s = string(prod(parse.(Int64,split(s,\"\"))))\n",
    "    @show s\n",
    "  end\n",
    "  return j\n",
    "end"
   ]
  },
  {
   "cell_type": "code",
   "execution_count": 2,
   "metadata": {},
   "outputs": [
    {
     "name": "stdout",
     "output_type": "stream",
     "text": [
      "s = \"4996238671872\"\n",
      "s = \"438939648\"\n",
      "s = \"4478976\"\n",
      "s = \"338688\"\n",
      "s = \"27648\"\n",
      "s = \"2688\"\n",
      "s = \"768\"\n",
      "s = \"336\"\n",
      "s = \"54\"\n",
      "s = \"20\"\n",
      "s = \"0\"\n",
      "Terminates in 11 steps\n"
     ]
    }
   ],
   "source": [
    "m = persistence(277777788888899);\n",
    "println(\"Terminates in $m steps\")"
   ]
  },
  {
   "cell_type": "markdown",
   "metadata": {},
   "source": [
    "---"
   ]
  },
  {
   "cell_type": "markdown",
   "metadata": {},
   "source": [
    "## A Vehicle module"
   ]
  },
  {
   "cell_type": "code",
   "execution_count": 16,
   "metadata": {},
   "outputs": [
    {
     "data": {
      "text/plain": [
       "Main.Vehicles"
      ]
     },
     "execution_count": 16,
     "metadata": {},
     "output_type": "execute_result"
    }
   ],
   "source": [
    "module Vehicles\n",
    "\n",
    "export Contact, Vehicle, Car, Bike, Yacht, Powerboat, Boat\n",
    "export Ford, BMW, VW, Scooter, MotorBike, Speedboat\n",
    "\n",
    "const KNOTS_TO_MPH = 1.151\n",
    "\n",
    "struct Contact\n",
    "    name::String\n",
    "    email::String\n",
    "    phone::String\n",
    "end\n",
    "\n",
    "abstract type Vehicle end\n",
    "\n",
    "abstract type Car <: Vehicle end\n",
    "abstract type Bike <: Vehicle  end\n",
    "abstract type Boat <: Vehicle end\n",
    "\n",
    "abstract type Powerboat <: Boat end\n",
    "\n",
    "struct Ford <: Car\n",
    "    owner::Contact\n",
    "    make::String\n",
    "    fuel::String\n",
    "    color::String\n",
    "    engine_cc::Int64\n",
    "    speed_mph::Float64\n",
    "    function Ford(owner, make, engine_cc,speed_mph)\n",
    "        new(owner,make,\"Petrol\",\"Black\",engine_cc,speed_mph)\n",
    "    end\n",
    "end\n",
    "\n",
    "struct BMW <: Car\n",
    "    owner::Contact\n",
    "    make::String\n",
    "    fuel::String\n",
    "    color::String\n",
    "    engine_cc::Int64\n",
    "    speed_mph::Float64\n",
    "    function BMW(owner,make,engine_cc,speed_mph)\n",
    "        new(owner,make,\"Petrol\",\"Blue\",engine_cc,speed_mph)\n",
    "    end\n",
    "end\n",
    "\n",
    "struct VW <: Car\n",
    "    owner::Contact\n",
    "    make::String\n",
    "    fuel::String\n",
    "    color::String\n",
    "    engine_cc::Int64\n",
    "    speed_mph::Float64\n",
    "end\n",
    "\n",
    "struct MotorBike <: Bike\n",
    "    owner::Contact\n",
    "    make::String\n",
    "    engine_cc::Int64\n",
    "    speed_mph::Float64\n",
    "end\n",
    "\n",
    "struct Scooter <: Bike\n",
    "    owner::Contact\n",
    "    make::String\n",
    "    engine_cc::Int64\n",
    "    speed_mph::Float64\n",
    "end\n",
    "\n",
    "mutable struct Yacht <: Boat\n",
    "    owner::Contact\n",
    "    make::String\n",
    "    length_m::Float64\n",
    "end\n",
    "\n",
    "mutable struct Speedboat <: Powerboat\n",
    "    owner::Contact\n",
    "    make::String\n",
    "    fuel::String\n",
    "    engine_cc::Int64\n",
    "    speed_knots::Float64\n",
    "    length_m::Float64\n",
    "end\n",
    "\n",
    "function is_quicker(a::VW, b::BMW)\n",
    "    if (a.speed_mph == b.speed_mph)\n",
    "      return nothing\n",
    "    else\n",
    "      return(a.speed_mph > b.speed_mph ? a : b)\n",
    "    end\n",
    "end\n",
    "\n",
    "function is_quicker(a::Speedboat, b::Scooter)\n",
    "  a_mph = KNOTS_TO_MPH * a.speed_knots\n",
    "  if (a_mph == b.speed_mph)\n",
    "    return nothing\n",
    "  else\n",
    "    return(a_mph > b.speed_mph ? a : b)\n",
    "  end\n",
    "end\n",
    "\n",
    "function is_longer(a::Yacht, b::Speedboat)\n",
    "  if (a.length_m == b.length_m)\n",
    "    return nothing\n",
    "  else\n",
    "    return(a.length > b.length_m ? a : b)\n",
    "  end\n",
    "end\n",
    "\n",
    "is_quicker(a::BMW, b::VW) = is_quicker(b,a)\n",
    "is_quicker(a::Scooter, b::Speedboat) = is_quicker(b,a)\n",
    "is_longer(a::Speedboat, b::Yacht) = is_longer(b,a)\n",
    "\n",
    "end"
   ]
  },
  {
   "cell_type": "code",
   "execution_count": 17,
   "metadata": {},
   "outputs": [],
   "source": [
    "using Main.Vehicles;\n",
    "\n",
    "malcolm = Contact(\"Malcolm\",\"malcolm@abc.net\",\"07777555999\");\n",
    "myCar = Ford(malcolm, \"Model T\", 1000, 50.0);\n",
    "myBike = Scooter(malcolm, \"Vespa\", 125, 35.0);\n",
    "\n",
    "james = Contact(\"James\",\"james@abc.net\",\"07777666888\");\n",
    "jmCar = BMW(james,\"Series 500\", 3200, 125.0);\n",
    "jmBoat = Yacht(james,\"Oceanis 44\",14.6);\n",
    "jmBike = MotorBike(james, \"Harley\", 850, 120.0);\n",
    "\n",
    "david = Contact(\"David\",\"dave@abc.net\",\"07777222444\");\n",
    "dvCar = VW(david,\"Golf\", \"diesel\", \"red\", 1800, 85.0);\n",
    "dvBoat = Speedboat(david,\"Sealine\",\"petrol\", 600, 45.0, 8.2);"
   ]
  },
  {
   "cell_type": "code",
   "execution_count": 18,
   "metadata": {},
   "outputs": [
    {
     "ename": "LoadError",
     "evalue": "setfield!: immutable struct of type Ford cannot be changed",
     "output_type": "error",
     "traceback": [
      "setfield!: immutable struct of type Ford cannot be changed",
      "",
      "Stacktrace:",
      " [1] setproperty!(x::Ford, f::Symbol, v::Contact)",
      "   @ Base ./Base.jl:38",
      " [2] top-level scope",
      "   @ In[18]:1"
     ]
    }
   ],
   "source": [
    "myCar.owner = david"
   ]
  },
  {
   "cell_type": "code",
   "execution_count": 19,
   "metadata": {},
   "outputs": [
    {
     "data": {
      "text/plain": [
       "Contact(\"Malcolm\", \"malcolm@abc.net\", \"07777555999\")"
      ]
     },
     "execution_count": 19,
     "metadata": {},
     "output_type": "execute_result"
    }
   ],
   "source": [
    "dvBoat.owner = malcolm"
   ]
  },
  {
   "cell_type": "code",
   "execution_count": 20,
   "metadata": {},
   "outputs": [
    {
     "name": "stdout",
     "output_type": "stream",
     "text": [
      "Malcolm has a Model T car\n",
      "James has a Series 500 car\n",
      "David has a Golf car\n"
     ]
    }
   ],
   "source": [
    "s = [myCar, jmCar, dvCar]\n",
    "for c in s\n",
    "    who = c.owner.name\n",
    "    model = c.make\n",
    "    println(\"$who has a $model car\")\n",
    "end"
   ]
  },
  {
   "cell_type": "code",
   "execution_count": 21,
   "metadata": {},
   "outputs": [
    {
     "name": "stdout",
     "output_type": "stream",
     "text": [
      "David has a Golf vehicle\n",
      "Malcolm has a Sealine vehicle\n"
     ]
    }
   ],
   "source": [
    "# Note that Malcolm now owns Dave's boat\n",
    "#\n",
    "s =[dvCar, dvBoat]\n",
    "for c in s\n",
    "    who = c.owner.name\n",
    "    model = c.make\n",
    "    println(\"$who has a $model vehicle\")\n",
    "end"
   ]
  },
  {
   "cell_type": "code",
   "execution_count": 22,
   "metadata": {},
   "outputs": [
    {
     "name": "stdout",
     "output_type": "stream",
     "text": [
      "James owns these vehicles: \n",
      "....\tSeries 500\n",
      "....\tHarley\n",
      "....\tOceanis 44\n"
     ]
    }
   ],
   "source": [
    "println(\"James owns these vehicles: \")\n",
    "s = [jmCar, jmBike, jmBoat]\n",
    "for c in s\n",
    "    println(\"....\\t$(c.make)\")\n",
    "end"
   ]
  },
  {
   "cell_type": "code",
   "execution_count": 23,
   "metadata": {},
   "outputs": [],
   "source": [
    "# Make this mutable as I might change where I live\n",
    "#\n",
    "mutable struct Address\n",
    "  name::String\n",
    "  street::String\n",
    "  city::String\n",
    "  country::String\n",
    "  postcode::String\n",
    "end"
   ]
  },
  {
   "cell_type": "code",
   "execution_count": 24,
   "metadata": {},
   "outputs": [],
   "source": [
    "postal = Address(\"Malcolm Sherrington\",\"1 Main Street\", \"London\", \"UK\", \"WC2N 9ZZ\");"
   ]
  },
  {
   "cell_type": "code",
   "execution_count": 25,
   "metadata": {},
   "outputs": [
    {
     "data": {
      "text/plain": [
       "Owner\u001b[90m (alias for \u001b[39m\u001b[90mUnion{Address, Contact}\u001b[39m\u001b[90m)\u001b[39m"
      ]
     },
     "execution_count": 25,
     "metadata": {},
     "output_type": "execute_result"
    }
   ],
   "source": [
    "const Owner = Union{Contact, Address}"
   ]
  },
  {
   "cell_type": "code",
   "execution_count": 26,
   "metadata": {},
   "outputs": [],
   "source": [
    "struct Skiff <: Boat\n",
    "  owner::Owner\n",
    "  make::String\n",
    "  length_m::Float64\n",
    "end"
   ]
  },
  {
   "cell_type": "code",
   "execution_count": 27,
   "metadata": {},
   "outputs": [
    {
     "data": {
      "text/plain": [
       "Skiff(Contact(\"Malcolm\", \"malcolm@abc.net\", \"07777555999\"), \"Moody 36\", 11.02)"
      ]
     },
     "execution_count": 27,
     "metadata": {},
     "output_type": "execute_result"
    }
   ],
   "source": [
    "y1 = Skiff(malcolm,\"Moody 36\", 11.02)"
   ]
  },
  {
   "cell_type": "code",
   "execution_count": 28,
   "metadata": {},
   "outputs": [
    {
     "data": {
      "text/plain": [
       "Skiff(Address(\"Malcolm Sherrington\", \"1 Main Street\", \"London\", \"UK\", \"WC2N 9ZZ\"), \"Dufour 44\", 13.47)"
      ]
     },
     "execution_count": 28,
     "metadata": {},
     "output_type": "execute_result"
    }
   ],
   "source": [
    "y2 = Skiff(postal,\"Dufour 44\", 13.47)"
   ]
  },
  {
   "cell_type": "code",
   "execution_count": 29,
   "metadata": {},
   "outputs": [],
   "source": [
    "@assert y1.length_m < y2.length_m"
   ]
  },
  {
   "cell_type": "markdown",
   "metadata": {},
   "source": [
    "---\n",
    "\n",
    "### 3D vectors\n",
    "\n",
    "---"
   ]
  },
  {
   "cell_type": "code",
   "execution_count": 30,
   "metadata": {},
   "outputs": [
    {
     "data": {
      "text/plain": [
       "Main.V3D"
      ]
     },
     "execution_count": 30,
     "metadata": {},
     "output_type": "execute_result"
    }
   ],
   "source": [
    "# This module uses Float64 components but could use a parameterized type {T}\n",
    "#\n",
    "module V3D\n",
    "\n",
    "# import Base.+, Base.*, Base./, Base.==, Base.<, Base.>\n",
    "#\n",
    "import Base: +, *, /, ==, <, >, zero, one\n",
    "import LinearAlgebra: norm, dot\n",
    "\n",
    "export Vec3, norm, dist, zero, one\n",
    "\n",
    "struct Vec3\n",
    "    x::Float64\n",
    "    y::Float64\n",
    "    z::Float64\n",
    "end\n",
    "\n",
    "(+)(a::Vec3, b::Vec3) = Vec3(a.x+b.x, a.y+b.y, a.z+b.z)\n",
    "(*)(p::Vec3, s::Real) = Vec3(p.x*s, p.y*s, p.z*s)\n",
    "(*)(s::Real, p::Vec3) = p*s\n",
    "(/)(p::Vec3, s::Real) = (1.0/s)*p\n",
    "\n",
    "(==)(a::Vec3, b::Vec3) = (a.x==b.x)&&(a.y==b.y)&&(a.z==b.z) ? true : false;\n",
    "\n",
    "dot(a::Vec3, b::Vec3) = a.x*b.x + a.y*b.y + a.z*b.z;\n",
    "norm(a::Vec3) = sqrt(dot(a,a));\n",
    "\n",
    "zero(a::Vec3) = Vec3(0.0,0.0,0.0);\n",
    "one(a::Vec3)  = Vec3(1.0,1.0,1.0);\n",
    "\n",
    "(<)(a::Vec3, b::Vec3) = norm(a) < norm(b) ? true : false;\n",
    "(>)(a::Vec3, b::Vec3) = norm(a) > norm(b) ? true : false;\n",
    "\n",
    "dist(a::Vec3, b::Vec3) = sqrt((a.x-b.x)*(a.x-b.x) + (a.y-b.y)*(a.y-b.y) + (a.z-b.z)*(a.z-b.z))\n",
    "\n",
    "end"
   ]
  },
  {
   "cell_type": "code",
   "execution_count": 31,
   "metadata": {},
   "outputs": [
    {
     "name": "stdout",
     "output_type": "stream",
     "text": [
      "Distance between vectors is 1.559 \n"
     ]
    }
   ],
   "source": [
    "using Main.V3D\n",
    "using Printf\n",
    "\n",
    "v1 = Vec3(1.2,3.4,5.6);\n",
    "v2 = Vec3(2.1,4.3,6.5);\n",
    "@printf \"Distance between vectors is %.3f \\n\" dist(v1,v2)"
   ]
  },
  {
   "cell_type": "code",
   "execution_count": 32,
   "metadata": {},
   "outputs": [
    {
     "data": {
      "text/plain": [
       "1000×1000 Matrix{Vec3}:\n",
       " Vec3(0.579898, 0.868496, 0.142093)     …  Vec3(0.746175, 0.139276, 0.248815)\n",
       " Vec3(0.76661, 0.266889, 0.60155)          Vec3(0.777862, 0.801402, 0.382963)\n",
       " Vec3(0.893782, 0.175078, 0.27662)         Vec3(0.236333, 0.967027, 0.486909)\n",
       " Vec3(0.454937, 0.157881, 0.440178)        Vec3(0.55442, 0.553979, 0.550037)\n",
       " Vec3(0.384037, 0.25421, 0.233728)         Vec3(0.887501, 0.00035359, 0.590963)\n",
       " Vec3(0.811274, 0.459338, 0.729067)     …  Vec3(0.866069, 0.340157, 0.196891)\n",
       " Vec3(0.425144, 0.795121, 0.336199)        Vec3(0.770606, 0.626304, 0.530395)\n",
       " Vec3(0.75144, 0.054024, 0.314219)         Vec3(0.457533, 0.389343, 0.105318)\n",
       " Vec3(0.46958, 0.182187, 0.555169)         Vec3(0.38068, 0.914203, 0.0406046)\n",
       " Vec3(0.161871, 0.365293, 0.899617)        Vec3(0.703969, 0.511545, 0.492544)\n",
       " Vec3(0.963401, 0.689999, 0.421457)     …  Vec3(0.603613, 0.780433, 0.931181)\n",
       " Vec3(0.0868113, 0.873974, 0.108336)       Vec3(0.385335, 0.280994, 0.871827)\n",
       " Vec3(0.739637, 0.679852, 0.667105)        Vec3(0.197813, 0.0615595, 0.449354)\n",
       " ⋮                                      ⋱  \n",
       " Vec3(0.284217, 0.565187, 0.584406)        Vec3(0.047761, 0.907966, 0.2119)\n",
       " Vec3(0.737251, 0.733038, 0.00956701)      Vec3(0.139458, 0.370897, 0.275507)\n",
       " Vec3(0.964119, 0.266525, 0.976711)     …  Vec3(0.602226, 0.864063, 0.319036)\n",
       " Vec3(0.722387, 0.255078, 0.685799)        Vec3(0.669614, 0.642522, 0.482913)\n",
       " Vec3(0.305005, 0.662288, 0.0836438)       Vec3(0.145226, 0.546382, 0.542576)\n",
       " Vec3(0.217897, 0.000925371, 0.168351)     Vec3(0.448695, 0.606876, 0.907465)\n",
       " Vec3(0.650443, 0.902228, 0.246367)        Vec3(0.743786, 0.399728, 0.382016)\n",
       " Vec3(0.278621, 0.0199453, 0.276766)    …  Vec3(0.729855, 0.350537, 0.231639)\n",
       " Vec3(0.230297, 0.638446, 0.164908)        Vec3(0.964601, 0.957421, 0.0456262)\n",
       " Vec3(0.064585, 0.870134, 0.304609)        Vec3(0.768416, 0.844133, 0.601301)\n",
       " Vec3(0.54388, 0.634931, 0.230042)         Vec3(0.459339, 0.155709, 0.211816)\n",
       " Vec3(0.699174, 0.808761, 0.566888)        Vec3(0.0146183, 0.186468, 0.898527)"
      ]
     },
     "execution_count": 32,
     "metadata": {},
     "output_type": "execute_result"
    }
   ],
   "source": [
    "vv = [Vec3(rand(),rand(),rand()) for i = 1:1000000];\n",
    "vs = reshape(vv,1000,1000)"
   ]
  },
  {
   "cell_type": "code",
   "execution_count": 33,
   "metadata": {},
   "outputs": [
    {
     "data": {
      "text/plain": [
       "Eigen{ComplexF64, ComplexF64, Matrix{ComplexF64}, Vector{ComplexF64}}\n",
       "values:\n",
       "1000-element Vector{ComplexF64}:\n",
       " -8.697374032110387 + 0.0im\n",
       " -8.640733468987332 - 1.4481830265177589im\n",
       " -8.640733468987332 + 1.4481830265177589im\n",
       " -8.533859050177496 - 1.0093634300023806im\n",
       " -8.533859050177496 + 1.0093634300023806im\n",
       " -8.402547972095508 + 0.0im\n",
       " -8.289652253751527 - 2.292319795167901im\n",
       " -8.289652253751527 + 2.292319795167901im\n",
       " -8.100539052020537 - 1.1559491382236424im\n",
       " -8.100539052020537 + 1.1559491382236424im\n",
       " -8.080353836336261 - 1.5348982917964933im\n",
       " -8.080353836336261 + 1.5348982917964933im\n",
       " -8.056490204070359 - 2.155995758071399im\n",
       "                    ⋮\n",
       "  8.153226056183055 + 1.5211417962377771im\n",
       "  8.219720194159432 - 0.9115382985621477im\n",
       "  8.219720194159432 + 0.9115382985621477im\n",
       "  8.391566698016284 - 2.5510552235374355im\n",
       "  8.391566698016284 + 2.5510552235374355im\n",
       "  8.427399087615786 - 0.5103192661508726im\n",
       "  8.427399087615786 + 0.5103192661508726im\n",
       "  8.464320153718987 - 1.2093374060207094im\n",
       "  8.464320153718987 + 1.2093374060207094im\n",
       "  8.497313348290735 - 2.0221723372512046im\n",
       "  8.497313348290735 + 2.0221723372512046im\n",
       "  960.2887429105184 + 0.0im\n",
       "vectors:\n",
       "1000×1000 Matrix{ComplexF64}:\n",
       "  -0.0146062+0.0im    -0.0422405-0.00673072im   …  -0.0313814+0.0im\n",
       "  -0.0132748+0.0im    -0.0206144-0.0140749im       -0.0317077+0.0im\n",
       "   0.0241347+0.0im    0.00161099-0.0162847im       -0.0315129+0.0im\n",
       "   0.0285679+0.0im    -0.0115684-0.0136396im       -0.0313808+0.0im\n",
       " 0.000399098+0.0im  -0.000406544+0.0283843im       -0.0315635+0.0im\n",
       "   0.0222403+0.0im    -0.0257135-0.0124864im    …  -0.0311163+0.0im\n",
       "  0.00536613+0.0im   -0.00541843-0.0369684im       -0.0317446+0.0im\n",
       "   0.0221865+0.0im    -0.0377452+0.00639485im      -0.0312471+0.0im\n",
       "  -0.0584222+0.0im   -0.00140296+0.0075788im        -0.031211+0.0im\n",
       "   0.0733624+0.0im    -0.0195774-0.00587009im      -0.0314134+0.0im\n",
       "   0.0406444+0.0im    -0.0427055+0.00139583im   …  -0.0317547+0.0im\n",
       "   0.0320163+0.0im   -0.00421567-0.0308955im       -0.0315631+0.0im\n",
       " -0.00633798+0.0im     0.0169036+0.00573463im        -0.03139+0.0im\n",
       "            ⋮                                   ⋱  \n",
       " -0.00945338+0.0im     0.0188903-0.0114694im       -0.0315964+0.0im\n",
       "   0.0321028+0.0im     0.0643688+0.0211694im       -0.0310383+0.0im\n",
       "  -0.0491501+0.0im    0.00875399+0.0083382im    …   -0.031327+0.0im\n",
       "  -0.0141122+0.0im    -0.0228685+0.00491052im      -0.0315369+0.0im\n",
       "   0.0757097+0.0im      0.026189+0.0416283im       -0.0316352+0.0im\n",
       " 0.000946729+0.0im     0.0298154+0.0133416im       -0.0313897+0.0im\n",
       "  -0.0677403+0.0im     0.0239383-0.0171127im       -0.0317413+0.0im\n",
       "   0.0204024+0.0im    0.00579261-0.00197291im   …  -0.0312765+0.0im\n",
       "   0.0108361+0.0im  -0.000361809+0.0243438im        -0.031972+0.0im\n",
       "   0.0026878+0.0im    -0.0293889+0.00663232im      -0.0316672+0.0im\n",
       "  -0.0137373+0.0im    -0.0193003-0.000440632im     -0.0320281+0.0im\n",
       "   0.0123636+0.0im    0.00987322+0.0173829im       -0.0320421+0.0im"
      ]
     },
     "execution_count": 33,
     "metadata": {},
     "output_type": "execute_result"
    }
   ],
   "source": [
    "using LinearAlgebra\n",
    "\n",
    "dv = map(v -> norm(v), vs)\n",
    "dw = dv'\n",
    "ee = eigen(dw)"
   ]
  },
  {
   "cell_type": "code",
   "execution_count": 34,
   "metadata": {},
   "outputs": [
    {
     "name": "stdout",
     "output_type": "stream",
     "text": [
      "Estimate of PI is   3.14558\n"
     ]
    }
   ],
   "source": [
    "k = 0\n",
    "for i in 1:length(vv)\n",
    "  if norm(vv[i]) < 1.0\n",
    "    global k +=1\n",
    "  end\n",
    "end\n",
    "@printf \"Estimate of π is %9.5f\\n\" 6.0*k/length(vv)"
   ]
  },
  {
   "cell_type": "code",
   "execution_count": 35,
   "metadata": {},
   "outputs": [
    {
     "data": {
      "text/plain": [
       "Main.V3P"
      ]
     },
     "execution_count": 35,
     "metadata": {},
     "output_type": "execute_result"
    }
   ],
   "source": [
    "#\n",
    "# Defining the Vec3 parameterically and the rest of the module is unchanged\n",
    "# i.e.\n",
    "#\n",
    "# immutable Vec3P{T}\n",
    "#    x::T\n",
    "#    y::T\n",
    "#    z::T\n",
    "# end\n",
    "#\n",
    "module V3P\n",
    "#\n",
    "# import Base.+, Base.*, Base./, Base.norm, Base.==, Base.<, Base.>\n",
    "#\n",
    "import Base: +, *, /, ==, <, >\n",
    "import LinearAlgebra: norm, dot\n",
    "export Vec3P, norm, distp\n",
    "\n",
    "struct Vec3P{T}\n",
    "    x::T\n",
    "    y::T\n",
    "    z::T\n",
    "end\n",
    "\n",
    "(+)(a::Vec3P, b::Vec3P) = Vec3P(a.x+b.x, a.y+b.y, a.z+b.z)\n",
    "(*)(p::Vec3P, s::Real) = Vec3P(p.x*s, p.y*s, p.z*s)\n",
    "(*)(s::Real, p::Vec3P) = p*s\n",
    "(/)(p::Vec3P, s::Real) = (1.0/s)*p\n",
    "\n",
    "(==)(a::Vec3P, b::Vec3P) = (a.x==b.x)&&(a.y==b.y)&&(a.z==b.z) ? true : false;\n",
    "\n",
    "dot(a::Vec3P, b::Vec3P) = a.x*b.x + a.y*b.y + a.z*b.z;\n",
    "norm(a::Vec3P) = sqrt(dot(a,a));\n",
    "\n",
    "(<)(a::Vec3P, b::Vec3P) = norm(a) < norm(b) ? true : false;\n",
    "(>)(a::Vec3P, b::Vec3P) = norm(a) > norm(b) ? true : false;\n",
    "\n",
    "distp(a::Vec3P, b::Vec3P) = sqrt((a.x-b.x)*(a.x-b.x) + (a.y-b.y)*(a.y-b.y) + (a.z-b.z)*(a.z-b.z))\n",
    "\n",
    "end"
   ]
  },
  {
   "cell_type": "code",
   "execution_count": 36,
   "metadata": {},
   "outputs": [
    {
     "data": {
      "text/plain": [
       "Vec3P{Complex{Int64}}(4 + 0im, 6 + 0im, 8 + 0im)"
      ]
     },
     "execution_count": 36,
     "metadata": {},
     "output_type": "execute_result"
    }
   ],
   "source": [
    "using Main.V3P\n",
    "\n",
    "z1 = Vec3P{Complex}(1+2im,2+3im,3+4im);\n",
    "z2 = Vec3P{Complex}(3-2im,4-3im,5-4im);\n",
    "z1 + z2"
   ]
  },
  {
   "cell_type": "code",
   "execution_count": 37,
   "metadata": {},
   "outputs": [
    {
     "data": {
      "text/plain": [
       "10.770329614269007 + 0.0im"
      ]
     },
     "execution_count": 37,
     "metadata": {},
     "output_type": "execute_result"
    }
   ],
   "source": [
    "zn = norm(z1 + z2)        # => sqrt(116) but IS a complex number.\n",
    "@assert zn == sqrt(116)\n",
    "\n",
    "# Notice that the value is returned as a complex.\n",
    "zn"
   ]
  },
  {
   "cell_type": "code",
   "execution_count": 38,
   "metadata": {},
   "outputs": [
    {
     "data": {
      "text/plain": [
       "Vec3P{Rational{Int64}}(218//63, 62//15, 36//17)"
      ]
     },
     "execution_count": 38,
     "metadata": {},
     "output_type": "execute_result"
    }
   ],
   "source": [
    "r1 = Vec3P{Rational}(11//7,13//5,8//17)\n",
    "r2 = Vec3P{Rational}(17//9,23//15,28//17)\n",
    "r1 + r2"
   ]
  },
  {
   "cell_type": "code",
   "execution_count": 39,
   "metadata": {},
   "outputs": [
    {
     "data": {
      "text/plain": [
       "5.791603442602598"
      ]
     },
     "execution_count": 39,
     "metadata": {},
     "output_type": "execute_result"
    }
   ],
   "source": [
    "# Norm is promoted to a Real as it can not be represented as a Rational\n",
    "#\n",
    "norm(r1 + r2)"
   ]
  },
  {
   "cell_type": "markdown",
   "metadata": {},
   "source": [
    "---\n",
    "\n",
    "### It is possible to extend the above to an *nD* vector simply using static arrays.\n",
    "\n",
    "---"
   ]
  },
  {
   "cell_type": "code",
   "execution_count": 40,
   "metadata": {},
   "outputs": [
    {
     "data": {
      "text/plain": [
       "Main.VNX"
      ]
     },
     "execution_count": 40,
     "metadata": {},
     "output_type": "execute_result"
    }
   ],
   "source": [
    "module VNX\n",
    "using StaticArrays\n",
    "\n",
    "import Base: +, *, /, ==, <, >\n",
    "import LinearAlgebra: norm, dot\n",
    "export VecN, norm, distx\n",
    "\n",
    "struct VecN\n",
    "    sv::SVector;\n",
    "end\n",
    "\n",
    "sizeof(a::VecN) = length(a.sv)\n",
    "sOK(a::VecN, b::VecN) =\n",
    "  (sizeof(a) == sizeof(b)) ? true : throw(BoundsError(\"Vector of different lengths\"));\n",
    "\n",
    "(+)(a::VecN, b::VecN) = [a.sv[i] + b.sv[i] for i in 1:sizeof(a) if sOK(a,b)]\n",
    "(*)(x::Real, a::VecN) = [a.sv[i]*x for i in 1:sizeof(a)]\n",
    "(*)(a::VecN, x::Real) = x*a\n",
    "(/)(a::VecN, x::Real) = [a.sv[i]/x for i in 1:sizeof(a)]\n",
    "\n",
    "(==)(a::VecN, b::VecN) = any([(a.sv[i] == b.sv[i]) for i in 1:sizeof(a) if sOK(a,b)])\n",
    "\n",
    "dot(a::VecN, b::VecN) = sum([a.sv[i]*b.sv[i] for i in 1:sizeof(a) if sOK(a,b)])\n",
    "norm(a::VecN) = sqrt(dot(a,a));\n",
    "\n",
    "(<)(a::VecN, b::VecN) = norm(a) < norm(b) ? true : false;\n",
    "(>)(a::VecN, b::VecN) = norm(a) > norm(b) ? true : false;\n",
    "\n",
    "distx(a::VecN, b::VecN) = sum(map(x -> x*x,[a.sv[i]-b.sv[i] for i in 1:sizeof(a) if sOK(a,b)]))\n",
    "\n",
    "end"
   ]
  },
  {
   "cell_type": "code",
   "execution_count": 41,
   "metadata": {},
   "outputs": [],
   "source": [
    "# Generate K 4-vectors\n",
    "#\n",
    "using Main.VNX, StaticArrays\n",
    "\n",
    "K = 10^5;\n",
    "vv = Array{VecN}(undef,K);\n",
    "\n",
    "for j = 1:K\n",
    "  vv[j] =  VecN(@SVector [rand() for i = 1:4])\n",
    "end"
   ]
  },
  {
   "cell_type": "code",
   "execution_count": 42,
   "metadata": {},
   "outputs": [],
   "source": [
    "# Sum up the vectors which lie within the 4-ball\n",
    "#\n",
    "s = 0;\n",
    "for j = 1:K\n",
    "  if (norm(vv[j]) < 1.0) s += 1 end\n",
    "end"
   ]
  },
  {
   "cell_type": "code",
   "execution_count": 43,
   "metadata": {},
   "outputs": [
    {
     "data": {
      "text/plain": [
       "3.127529376360836"
      ]
     },
     "execution_count": 43,
     "metadata": {},
     "output_type": "execute_result"
    }
   ],
   "source": [
    "# Volume of the unit 4-ball is 2*π*π\n",
    "# The count is 1/16th of the volume\n",
    "#\n",
    "mypi = sqrt(32*s/K)"
   ]
  },
  {
   "cell_type": "code",
   "execution_count": null,
   "metadata": {},
   "outputs": [],
   "source": []
  }
 ],
 "metadata": {
  "kernelspec": {
   "display_name": "Julia 1.9.1",
   "language": "julia",
   "name": "julia-1.9"
  },
  "language_info": {
   "file_extension": ".jl",
   "mimetype": "application/julia",
   "name": "julia",
   "version": "1.9.2"
  }
 },
 "nbformat": 4,
 "nbformat_minor": 2
}
