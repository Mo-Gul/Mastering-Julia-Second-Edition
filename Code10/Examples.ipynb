{
 "cells": [
  {
   "cell_type": "code",
   "execution_count": 1,
   "metadata": {},
   "outputs": [
    {
     "name": "stdout",
     "output_type": "stream",
     "text": [
      "\u001b[32m\u001b[1m  Updating\u001b[22m\u001b[39m registry at `~/.julia/registries/General`\n",
      "\u001b[32m\u001b[1m  Updating\u001b[22m\u001b[39m git-repo `https://github.com/JuliaRegistries/General.git`\n",
      "\u001b[?25l\u001b[2K\u001b[?25h"
     ]
    },
    {
     "name": "stderr",
     "output_type": "stream",
     "text": [
      "┌ Warning: Some registries failed to update:\n",
      "│     — /Users/malcolm/.julia/registries/General — failed to fetch from repo\n",
      "└ @ Pkg.API /Users/osx/buildbot/slave/package_osx64/build/usr/share/julia/stdlib/v1.0/Pkg/src/API.jl:157\n"
     ]
    },
    {
     "name": "stdout",
     "output_type": "stream",
     "text": [
      "\u001b[32m\u001b[1m  Updating\u001b[22m\u001b[39m git-repo `https://github.com/tonyhffong/Lint.jl.git`\n",
      "\u001b[?25l\u001b[2K\u001b[?25h"
     ]
    },
    {
     "ename": "Pkg.Types.PkgError",
     "evalue": "failed to fetch from https://github.com/tonyhffong/Lint.jl.git, error: GitError(Code:ERROR, Class:Net, curl error: Could not resolve host: github.com\n)",
     "output_type": "error",
     "traceback": [
      "failed to fetch from https://github.com/tonyhffong/Lint.jl.git, error: GitError(Code:ERROR, Class:Net, curl error: Could not resolve host: github.com\n)",
      ""
     ]
    }
   ],
   "source": [
    "using Pkg\n",
    "Pkg.update()\n",
    "\n",
    "ipks = Pkg.installed()\n",
    "pkgs = [\"PyCall\",\"HTML\",\"HTTP\",\"SQLite\",\"Gumbo\",\"Distributed\"]\n",
    "for p in pkgs\n",
    "    !haskey(ipks,p) && Pkg.add(p)\n",
    "end\n"
   ]
  },
  {
   "cell_type": "markdown",
   "metadata": {},
   "source": [
    "# Chapter 11 - Networks and  Parallel Processing"
   ]
  },
  {
   "cell_type": "code",
   "execution_count": 1,
   "metadata": {},
   "outputs": [],
   "source": [
    "using Sockets, Dates"
   ]
  },
  {
   "cell_type": "code",
   "execution_count": 2,
   "metadata": {},
   "outputs": [
    {
     "data": {
      "text/plain": [
       "(UDPSocket(init), UDPSocket(init))"
      ]
     },
     "execution_count": 2,
     "metadata": {},
     "output_type": "execute_result"
    }
   ],
   "source": [
    "s1 = UDPSocket();     # => UDPSocket(init)\n",
    "s2 = UDPSocket();     # => UDPSocket(init)\n",
    "(s1, s2)"
   ]
  },
  {
   "cell_type": "code",
   "execution_count": 3,
   "metadata": {},
   "outputs": [
    {
     "data": {
      "text/plain": [
       "true"
      ]
     },
     "execution_count": 3,
     "metadata": {},
     "output_type": "execute_result"
    }
   ],
   "source": [
    "bind(s1,ip\"127.0.0.1\",8011)"
   ]
  },
  {
   "cell_type": "code",
   "execution_count": 4,
   "metadata": {},
   "outputs": [
    {
     "data": {
      "text/plain": [
       "true"
      ]
     },
     "execution_count": 4,
     "metadata": {},
     "output_type": "execute_result"
    }
   ],
   "source": [
    "bind(s2,ip\"127.0.0.1\",8012)"
   ]
  },
  {
   "cell_type": "code",
   "execution_count": 5,
   "metadata": {},
   "outputs": [],
   "source": [
    "now = string(Dates.now())\n",
    "send(s2,ip\"127.0.0.1\",8011,string(Dates.now()))"
   ]
  },
  {
   "cell_type": "code",
   "execution_count": 6,
   "metadata": {},
   "outputs": [
    {
     "name": "stdout",
     "output_type": "stream",
     "text": [
      "2019-03-14T13:45:58.912\n"
     ]
    }
   ],
   "source": [
    "(who, msg) = recvfrom(s1)\n",
    "println(String(msg))"
   ]
  },
  {
   "cell_type": "code",
   "execution_count": 7,
   "metadata": {},
   "outputs": [],
   "source": [
    "close(s1);\n",
    "close(s2);"
   ]
  },
  {
   "cell_type": "markdown",
   "metadata": {},
   "source": [
    "---"
   ]
  },
  {
   "cell_type": "markdown",
   "metadata": {},
   "source": [
    "## Working with the WEB"
   ]
  },
  {
   "cell_type": "code",
   "execution_count": 28,
   "metadata": {},
   "outputs": [
    {
     "data": {
      "text/plain": [
       "HTTP.Messages.Response:\n",
       "\"\"\"\n",
       "HTTP/1.1 200 OK\r\n",
       "Date: Wed, 20 Mar 2019 22:21:43 GMT\r\n",
       "Server: Apache\r\n",
       "Last-Modified: Fri, 02 Nov 2018 09:07:33 GMT\r\n",
       "Accept-Ranges: bytes\r\n",
       "Content-Length: 5755\r\n",
       "Content-Type: text/html\r\n",
       "\r\n",
       "<!DOCTYPE html>\n",
       "<html>\n",
       "<head>\n",
       "\t<meta charset=\"utf-8\">\n",
       "    <meta name=\"Description\" content=\"Elegance Theme\">\n",
       "    <meta name=\"author\" content=\"CoffeeCup Software, Inc.\">\n",
       "    <meta name=\"Copyright\" content=\"Copyright (c) 2011 CoffeeCup, all rights reserved.\">\n",
       "    <title>Amis Consulting LLP - About Us</title>\n",
       "    <link rel=\"stylesheet\" href=\"stylesheets/default.css\" />\n",
       "    <!--[if IE]>\n",
       "    <script src=\"http://html5shim.googlecode.com/svn/trunk/html5.js\"></script>\n",
       "    <![endif]-->\n",
       "</head>\n",
       "<body>\n",
       "    <section id=\"mainRight\" class=\"clear\">\n",
       "         <header>\n",
       "<img src=\"images/banner_home.png\" width=\"960\" height=\"140\" alt=\"\" title=\"\" />\n",
       "        </header>\n",
       "\t\t   \n",
       "      <nav>\n",
       "      <ul>\n",
       "      <li><a href=\"index.html\" class=\"selected\">Home Page</a></li>\n",
       "      <li><a href=\"about.html\">About Us</a></li>\n",
       "      <li><a href=\"consultancy.html\">Consultancy</a></li>\n",
       "      <li><a href=\"web.html\">Web Design</a></li>\n",
       "      <li><a href=\"analytics.html\">Analytics</a></li>\n",
       "\t  <li><a href=\"projects.html\">Projects<\n",
       "⋮\n",
       "5755-byte body\n",
       "\"\"\""
      ]
     },
     "execution_count": 28,
     "metadata": {},
     "output_type": "execute_result"
    }
   ],
   "source": [
    "using HTTP\n",
    "r = HTTP.request(\"GET\", \"http://amisllp.com\")"
   ]
  },
  {
   "cell_type": "code",
   "execution_count": null,
   "metadata": {},
   "outputs": [],
   "source": [
    "### Cut and paste the following into a terminal tab\n",
    "#=\n",
    "using HTTP, Sockets\n",
    "HTTP.listen(ip\"127.0.0.1\",8082) do http::HTTP.Stream\n",
    "    @show HTTP.header(http, \"Content-Type\")\n",
    "    @show http.message\n",
    "    while !eof(http)\n",
    "        println(\"body data: \", String(readavailable(http)))\n",
    "    end\n",
    "    HTTP.setstatus(http, 200)\n",
    "    HTTP.setheader(http, \"Content-Type\" => \"text/html\")\n",
    "    HTTP.startwrite(http)\n",
    "    write(http, \"<html><body>\\n\")\n",
    "    write(http, \"Is this a dagger?<br/>\\n\")\n",
    "    write(http, \"William Shakespeare<br/>\\n\")\n",
    "    write(http,\"</body></html>\\n\")\n",
    "end\n",
    "=#"
   ]
  },
  {
   "cell_type": "markdown",
   "metadata": {},
   "source": [
    "---"
   ]
  },
  {
   "cell_type": "code",
   "execution_count": 31,
   "metadata": {},
   "outputs": [
    {
     "data": {
      "text/plain": [
       "HTTP.Messages.Response:\n",
       "\"\"\"\n",
       "HTTP/1.1 200 OK\r\n",
       "Content-Type: text/html\r\n",
       "Transfer-Encoding: chunked\r\n",
       "\r\n",
       "<html><body>\n",
       "Is this a dagger?<br/>\n",
       "William Shakespeare<br/>\n",
       "</body></html>\n",
       "\"\"\""
      ]
     },
     "execution_count": 31,
     "metadata": {},
     "output_type": "execute_result"
    }
   ],
   "source": [
    "HTTP.get(\"http://localhost:8082/\")"
   ]
  },
  {
   "cell_type": "markdown",
   "metadata": {},
   "source": [
    "---"
   ]
  },
  {
   "cell_type": "code",
   "execution_count": 33,
   "metadata": {},
   "outputs": [
    {
     "data": {
      "text/plain": [
       "SQLite.DB(\"quotes.db\")"
      ]
     },
     "execution_count": 33,
     "metadata": {},
     "output_type": "execute_result"
    }
   ],
   "source": [
    "using SQLite\n",
    "db = SQLite.DB(\"quotes.db\")"
   ]
  },
  {
   "cell_type": "code",
   "execution_count": 71,
   "metadata": {},
   "outputs": [
    {
     "name": "stdout",
     "output_type": "stream",
     "text": [
      "Thomas Huxley => The great tragedy of science:  The slaying of a beautiful theory by an ugly fact"
     ]
    }
   ],
   "source": [
    "function getquote(db::SQLite.DB)\n",
    "    sql = \"select * from quotes where id =  (1 + abs(random() % 36))\";\n",
    "    res = SQLite.Query(db, sql) |> DataFrame\n",
    "    author  = res[:author][1]\n",
    "    if (author == \"missing\") author = \"\" end\n",
    "    quoname = res[:quoname][1]\n",
    "    (author, quoname)\n",
    "end\n",
    "\n",
    "(auth,quot) = getquote(db)\n",
    "@printf \"%s => %s\" auth quot"
   ]
  },
  {
   "cell_type": "markdown",
   "metadata": {},
   "source": [
    "---"
   ]
  },
  {
   "cell_type": "code",
   "execution_count": 78,
   "metadata": {},
   "outputs": [
    {
     "data": {
      "text/plain": [
       "extractlinks (generic function with 1 method)"
      ]
     },
     "execution_count": 78,
     "metadata": {},
     "output_type": "execute_result"
    }
   ],
   "source": [
    "using HTTP, Gumbo\n",
    "const JURL = \"https://julialang.org\"\n",
    "\n",
    "function fetchpage(url)\n",
    "  response = HTTP.get(url)\n",
    "  if response.status == 200 && \n",
    "        parse(Int, Dict(response.headers)[\"Content-Length\"]) > 0\n",
    "    String(response.body)\n",
    "  else\n",
    "    \"\"\n",
    "  end\n",
    "end\n",
    "\n",
    "function extractlinks(elem, links)\n",
    "  if  isa(elem, HTMLElement) &&\n",
    "      tag(elem) == :a &&\n",
    "      in(\"href\", collect(keys(attrs(elem))))\n",
    "        url = getattr(elem, \"href\")\n",
    "        startswith(url, \"/\") && length(url) > 1  && push!(links, url)\n",
    "  end\n",
    "  for child in children(elem)\n",
    "    extractlinks(child, links)\n",
    "  end\n",
    "end"
   ]
  },
  {
   "cell_type": "code",
   "execution_count": 79,
   "metadata": {},
   "outputs": [
    {
     "data": {
      "text/plain": [
       "16-element Array{String,1}:\n",
       " \"/downloads\"                  \n",
       " \"//docs.julialang.org\"        \n",
       " \"/blog/\"                      \n",
       " \"/community\"                  \n",
       " \"/learning\"                   \n",
       " \"/research\"                   \n",
       " \"/soc/ideas-page\"             \n",
       " \"/benchmarks/\"                \n",
       " \"//juliaobserver.com\"         \n",
       " \"/blog/2019/02/julia-entities\"\n",
       " \"/blog/2019/02/light-graphs\"  \n",
       " \"/blog/2019/01/fluxdiffeq\"    \n",
       " \"/blog\"                       \n",
       " \"/downloads/index.html\"       \n",
       " \"/downloads/oldreleases.html\" \n",
       " \"/research/\"                  "
      ]
     },
     "metadata": {},
     "output_type": "display_data"
    }
   ],
   "source": [
    "content = fetchpage(JURL)\n",
    "jlinks = String[]\n",
    "\n",
    "if ! isempty(content)\n",
    "  dom = Gumbo.parsehtml(content)\n",
    "  extractlinks(dom.root, jlinks)\n",
    "end\n",
    "\n",
    "display(unique(jlinks))"
   ]
  },
  {
   "cell_type": "code",
   "execution_count": null,
   "metadata": {},
   "outputs": [],
   "source": []
  },
  {
   "cell_type": "code",
   "execution_count": null,
   "metadata": {},
   "outputs": [],
   "source": []
  },
  {
   "cell_type": "code",
   "execution_count": null,
   "metadata": {},
   "outputs": [],
   "source": []
  },
  {
   "cell_type": "code",
   "execution_count": null,
   "metadata": {},
   "outputs": [],
   "source": []
  },
  {
   "cell_type": "markdown",
   "metadata": {},
   "source": [
    "---"
   ]
  },
  {
   "cell_type": "markdown",
   "metadata": {},
   "source": [
    "### Tasks"
   ]
  },
  {
   "cell_type": "code",
   "execution_count": 8,
   "metadata": {},
   "outputs": [
    {
     "data": {
      "text/plain": [
       "Task (runnable) @0x000000011c365210"
      ]
     },
     "execution_count": 8,
     "metadata": {},
     "output_type": "execute_result"
    }
   ],
   "source": [
    "ta = Task(() -> let s = 0; sum(s += i for i in 1:100); println(s) end)"
   ]
  },
  {
   "cell_type": "code",
   "execution_count": 9,
   "metadata": {},
   "outputs": [
    {
     "data": {
      "text/plain": [
       "false"
      ]
     },
     "execution_count": 9,
     "metadata": {},
     "output_type": "execute_result"
    }
   ],
   "source": [
    "istaskdone(ta)"
   ]
  },
  {
   "cell_type": "code",
   "execution_count": 10,
   "metadata": {},
   "outputs": [
    {
     "name": "stdout",
     "output_type": "stream",
     "text": [
      "5050\n"
     ]
    },
    {
     "data": {
      "text/plain": [
       "Task (done) @0x000000011c365210"
      ]
     },
     "execution_count": 10,
     "metadata": {},
     "output_type": "execute_result"
    }
   ],
   "source": [
    "schedule(ta)"
   ]
  },
  {
   "cell_type": "markdown",
   "metadata": {},
   "source": [
    "---"
   ]
  },
  {
   "cell_type": "code",
   "execution_count": 11,
   "metadata": {},
   "outputs": [
    {
     "data": {
      "text/plain": [
       "fib (generic function with 1 method)"
      ]
     },
     "execution_count": 11,
     "metadata": {},
     "output_type": "execute_result"
    }
   ],
   "source": [
    "# Define a Fibonnaci function\n",
    "fib(n::Integer) = n < 3 ? 1 : fib(n-1) + fib(n-2)"
   ]
  },
  {
   "cell_type": "code",
   "execution_count": 12,
   "metadata": {},
   "outputs": [
    {
     "data": {
      "text/plain": [
       "Task (runnable) @0x000000011bd79450"
      ]
     },
     "execution_count": 12,
     "metadata": {},
     "output_type": "execute_result"
    }
   ],
   "source": [
    "# ... and create an asynchronous task\n",
    "chnl = Channel{Int}(1)\n",
    "m = 15\n",
    "@async for i=1:m\n",
    "  put!(chnl, fib(i)) \n",
    "end"
   ]
  },
  {
   "cell_type": "code",
   "execution_count": null,
   "metadata": {},
   "outputs": [],
   "source": [
    "# The task blocks until we take from the channel\n",
    "for i in 1:m\n",
    "  println(i, \" => \", take!(chnl))\n",
    "end\n",
    "\n",
    "close(chnl);"
   ]
  },
  {
   "cell_type": "code",
   "execution_count": 13,
   "metadata": {},
   "outputs": [
    {
     "data": {
      "text/plain": [
       "Task (runnable) @0x000000011bd798d0"
      ]
     },
     "execution_count": 13,
     "metadata": {},
     "output_type": "execute_result"
    }
   ],
   "source": [
    "# Tasks are iterable, ...\n",
    "# ... we need to break out in order to close the task\n",
    "\n",
    "chnl = Channel{Int}(1)\n",
    "m = 20\n",
    "@async for i=1:m\n",
    "  put!(chnl, fib(i))\n",
    "end"
   ]
  },
  {
   "cell_type": "code",
   "execution_count": 14,
   "metadata": {},
   "outputs": [
    {
     "name": "stdout",
     "output_type": "stream",
     "text": [
      "1\n",
      "1\n",
      "2\n",
      "3\n",
      "5\n",
      "8\n",
      "13\n",
      "21\n",
      "34\n",
      "55\n",
      "89\n"
     ]
    }
   ],
   "source": [
    "# Take off the channel\n",
    "# Bail out is x gets large\n",
    "for p in chnl\n",
    "    if p > 100\n",
    "        break\n",
    "    else\n",
    "        println(p)\n",
    "        yield()\n",
    "    end\n",
    "end\n",
    "\n",
    "close(chnl)"
   ]
  },
  {
   "cell_type": "markdown",
   "metadata": {},
   "source": [
    "---"
   ]
  },
  {
   "cell_type": "markdown",
   "metadata": {
    "collapsed": true
   },
   "source": [
    "### Needles and PI-(ns)"
   ]
  },
  {
   "cell_type": "code",
   "execution_count": 15,
   "metadata": {},
   "outputs": [],
   "source": [
    "using Distributed"
   ]
  },
  {
   "cell_type": "code",
   "execution_count": 16,
   "metadata": {},
   "outputs": [
    {
     "data": {
      "text/plain": [
       "3-element Array{Int64,1}:\n",
       " 2\n",
       " 3\n",
       " 4"
      ]
     },
     "execution_count": 16,
     "metadata": {},
     "output_type": "execute_result"
    }
   ],
   "source": [
    "addprocs(3)   # Add three addition processors"
   ]
  },
  {
   "cell_type": "code",
   "execution_count": 17,
   "metadata": {},
   "outputs": [
    {
     "data": {
      "text/plain": [
       "3.053435114503817"
      ]
     },
     "execution_count": 17,
     "metadata": {},
     "output_type": "execute_result"
    }
   ],
   "source": [
    "# Sequential version\n",
    "function needles_seq(n::Integer)\n",
    "  @assert n > 0\n",
    "  k = 0\n",
    "  for i = 1:n\n",
    "    ρ = rand()\n",
    "    ϕ = (rand() * π) -  π / 2   # angle at which needle falls\n",
    "    xr = ρ + cos(ϕ)/2          # x-location of needle\n",
    "    xl = ρ - cos(ϕ)/2\n",
    "    # Count times when needle crosses either x == 0 or x == 1?\n",
    "    k += (xr >= 1 || xl <= 0) ? 1 : 0\n",
    "  end\n",
    "  m = n - k\n",
    "  return (n / k * 2)\n",
    "end\n",
    "\n",
    "needles_seq(1000)  # Compile and test the function, pretiming"
   ]
  },
  {
   "cell_type": "code",
   "execution_count": 18,
   "metadata": {},
   "outputs": [
    {
     "data": {
      "text/plain": [
       "3.125"
      ]
     },
     "execution_count": 18,
     "metadata": {},
     "output_type": "execute_result"
    }
   ],
   "source": [
    "# Parallel version\n",
    "\n",
    "function needles_par(n)\n",
    "  k = @distributed (+) for i = 1:n\n",
    "    ρ = rand()\n",
    "    ϕ = (rand() * π) - π / 2\n",
    "    xr = ρ + cos(ϕ)/2\n",
    "    xl = ρ - cos(ϕ)/2\n",
    "    (xr >= 1 || xl <= 0) ? 1 : 0\n",
    "  end\n",
    "  m = n - k\n",
    "  return(n / k * 2)\n",
    "end\n",
    "\n",
    "needles_par(250)    # Compile and test the function, pretiming\n",
    "                    # Need less 25% trials as using 4 processors"
   ]
  },
  {
   "cell_type": "code",
   "execution_count": 19,
   "metadata": {},
   "outputs": [
    {
     "name": "stdout",
     "output_type": "stream",
     "text": [
      "  4.040470 seconds (1.95 k allocations: 117.152 KiB)\n"
     ]
    },
    {
     "data": {
      "text/plain": [
       "3.141826296184395"
      ]
     },
     "execution_count": 19,
     "metadata": {},
     "output_type": "execute_result"
    }
   ],
   "source": [
    "# Now time the two approaches (make be effected by Jupyter)\n",
    "\n",
    "@time needles_seq(100*10^6)"
   ]
  },
  {
   "cell_type": "code",
   "execution_count": 20,
   "metadata": {},
   "outputs": [
    {
     "name": "stdout",
     "output_type": "stream",
     "text": [
      "  1.729999 seconds (347 allocations: 24.078 KiB)\n"
     ]
    },
    {
     "data": {
      "text/plain": [
       "3.1418380428045585"
      ]
     },
     "execution_count": 20,
     "metadata": {},
     "output_type": "execute_result"
    }
   ],
   "source": [
    "@time needles_par(100*10^6)"
   ]
  },
  {
   "cell_type": "markdown",
   "metadata": {},
   "source": [
    "---"
   ]
  },
  {
   "cell_type": "markdown",
   "metadata": {},
   "source": [
    "### Remote procedure calls and map-reduce"
   ]
  },
  {
   "cell_type": "code",
   "execution_count": 22,
   "metadata": {},
   "outputs": [],
   "source": [
    "using DistributedArrays"
   ]
  },
  {
   "cell_type": "code",
   "execution_count": 23,
   "metadata": {},
   "outputs": [
    {
     "name": "stdout",
     "output_type": "stream",
     "text": [
      "pid = 2\n",
      "pid = 3\n",
      "pid = 4\n",
      "pid = 5\n"
     ]
    }
   ],
   "source": [
    "# Add an extra processor and show the workers\n",
    "\n",
    "addprocs(1)\n",
    "for pid in workers()\n",
    "    @show pid\n",
    "end"
   ]
  },
  {
   "cell_type": "code",
   "execution_count": 24,
   "metadata": {},
   "outputs": [
    {
     "data": {
      "text/plain": [
       "Future(2, 1, 18, nothing)"
      ]
     },
     "execution_count": 24,
     "metadata": {},
     "output_type": "execute_result"
    }
   ],
   "source": [
    "# Run this on PID = 2\n",
    "r1 = remotecall(x -> x^2, 2, π)"
   ]
  },
  {
   "cell_type": "code",
   "execution_count": 25,
   "metadata": {},
   "outputs": [
    {
     "data": {
      "text/plain": [
       "9.869604401089358"
      ]
     },
     "execution_count": 25,
     "metadata": {},
     "output_type": "execute_result"
    }
   ],
   "source": [
    "# ... and get the result\n",
    "fetch(r1)"
   ]
  },
  {
   "cell_type": "code",
   "execution_count": 26,
   "metadata": {},
   "outputs": [
    {
     "data": {
      "text/plain": [
       "0.7071067811865475"
      ]
     },
     "execution_count": 26,
     "metadata": {},
     "output_type": "execute_result"
    }
   ],
   "source": [
    "# Remote call/fetch can be do in a single step\n",
    "remotecall_fetch(sin, 5, π/4)"
   ]
  },
  {
   "cell_type": "code",
   "execution_count": 27,
   "metadata": {},
   "outputs": [],
   "source": [
    "# Let's workout some factorials on different processors\n",
    "# Each one needs to 'know' the fac() definition\n",
    "@everywhere fac(n::Integer) = (n < 2) ? 1 : n*fac(n-1)"
   ]
  },
  {
   "cell_type": "code",
   "execution_count": 28,
   "metadata": {},
   "outputs": [
    {
     "data": {
      "text/plain": [
       "4-element Array{Future,1}:\n",
       " Future(2, 1, 29, nothing)\n",
       " Future(3, 1, 30, nothing)\n",
       " Future(4, 1, 31, nothing)\n",
       " Future(5, 1, 32, nothing)"
      ]
     },
     "execution_count": 28,
     "metadata": {},
     "output_type": "execute_result"
    }
   ],
   "source": [
    "# Spawn the task over all the workers\n",
    "r = [@spawnat w fac(3 + 2*w) for w in workers()]"
   ]
  },
  {
   "cell_type": "code",
   "execution_count": 29,
   "metadata": {},
   "outputs": [
    {
     "name": "stdout",
     "output_type": "stream",
     "text": [
      "(id, fetch(id)) = (Future(2, 1, 29, Some(5040)), 5040)\n",
      "(id, fetch(id)) = (Future(3, 1, 30, Some(362880)), 362880)\n",
      "(id, fetch(id)) = (Future(4, 1, 31, Some(39916800)), 39916800)\n",
      "(id, fetch(id)) = (Future(5, 1, 32, Some(6227020800)), 6227020800)\n"
     ]
    }
   ],
   "source": [
    "# ... and return all the results\n",
    "for id in r\n",
    "    @show id, fetch(id)\n",
    "end"
   ]
  },
  {
   "cell_type": "code",
   "execution_count": 30,
   "metadata": {},
   "outputs": [
    {
     "data": {
      "text/plain": [
       "(5040, 362880, 39916800, 6227020800)"
      ]
     },
     "execution_count": 30,
     "metadata": {},
     "output_type": "execute_result"
    }
   ],
   "source": [
    "# Just as a check\n",
    "fac(7),fac(9),fac(11),fac(13)"
   ]
  },
  {
   "cell_type": "raw",
   "metadata": {},
   "source": [
    "### Distributed Arrays and Map-Reduce"
   ]
  },
  {
   "cell_type": "code",
   "execution_count": 31,
   "metadata": {},
   "outputs": [],
   "source": [
    "@everywhere using DistributedArrays, Statistics"
   ]
  },
  {
   "cell_type": "code",
   "execution_count": 32,
   "metadata": {},
   "outputs": [],
   "source": [
    "# Create a DA, ~ Normal(0.0,1.0)\n",
    "#\n",
    "da = drandn(10,10,10,10);"
   ]
  },
  {
   "cell_type": "code",
   "execution_count": 33,
   "metadata": {},
   "outputs": [
    {
     "data": {
      "text/plain": [
       "(:id, :dims, :pids, :indices, :cuts, :localpart, :release)"
      ]
     },
     "execution_count": 33,
     "metadata": {},
     "output_type": "execute_result"
    }
   ],
   "source": [
    "fieldnames(typeof(da))"
   ]
  },
  {
   "cell_type": "code",
   "execution_count": 34,
   "metadata": {},
   "outputs": [
    {
     "data": {
      "text/plain": [
       "(10, 10, 10, 10)"
      ]
     },
     "execution_count": 34,
     "metadata": {},
     "output_type": "execute_result"
    }
   ],
   "source": [
    "da.dims"
   ]
  },
  {
   "cell_type": "code",
   "execution_count": 35,
   "metadata": {},
   "outputs": [
    {
     "data": {
      "text/plain": [
       "1×1×2×2 Array{NTuple{4,UnitRange{Int64}},4}:\n",
       "[:, :, 1, 1] =\n",
       " (1:10, 1:10, 1:5, 1:5)\n",
       "\n",
       "[:, :, 2, 1] =\n",
       " (1:10, 1:10, 6:10, 1:5)\n",
       "\n",
       "[:, :, 1, 2] =\n",
       " (1:10, 1:10, 1:5, 6:10)\n",
       "\n",
       "[:, :, 2, 2] =\n",
       " (1:10, 1:10, 6:10, 6:10)"
      ]
     },
     "execution_count": 35,
     "metadata": {},
     "output_type": "execute_result"
    }
   ],
   "source": [
    "da.indices"
   ]
  },
  {
   "cell_type": "code",
   "execution_count": 36,
   "metadata": {},
   "outputs": [
    {
     "name": "stdout",
     "output_type": "stream",
     "text": [
      "fetch(rp) = 0.008624726127582843\n",
      "fetch(rp) = 0.004794672601544152\n",
      "fetch(rp) = -0.02017443022421869\n",
      "fetch(rp) = -0.0013743698123322929\n"
     ]
    }
   ],
   "source": [
    "for ip in procs(da)\n",
    "    rp = @spawnat ip mean(localpart(da))\n",
    "    @show fetch(rp)\n",
    "end"
   ]
  },
  {
   "cell_type": "code",
   "execution_count": 37,
   "metadata": {},
   "outputs": [
    {
     "name": "stdout",
     "output_type": "stream",
     "text": [
      "Mean = -0.002032\n"
     ]
    }
   ],
   "source": [
    "# Calculate the mean (~ 0.0)\n",
    "\n",
    "using Printf\n",
    "let \n",
    "  μ = 0.0\n",
    "  for ip in procs(da)\n",
    "    rp = @spawnat ip mean(localpart(da))\n",
    "    μ += fetch(rp)\n",
    "  end\n",
    "  @printf \"Mean = %.6f\\n\" μ/length(workers())\n",
    "end"
   ]
  },
  {
   "cell_type": "code",
   "execution_count": 38,
   "metadata": {},
   "outputs": [
    {
     "name": "stdout",
     "output_type": "stream",
     "text": [
      "Standard Deviation = 0.987293\n"
     ]
    }
   ],
   "source": [
    "# ...  and the standard deviation (~ 1.0)\n",
    "let \n",
    "  σ = 0.0\n",
    "  for ip in procs(da)\n",
    "    rp = @spawnat ip std(localpart(da))\n",
    "    σ += fetch(rp)\n",
    "  end\n",
    "  @printf \"Standard Deviation = %.6f\\n\" σ/length(workers())\n",
    "end"
   ]
  },
  {
   "cell_type": "markdown",
   "metadata": {},
   "source": [
    "---"
   ]
  },
  {
   "cell_type": "code",
   "execution_count": 41,
   "metadata": {},
   "outputs": [
    {
     "data": {
      "text/plain": [
       "4-element Array{Int64,1}:\n",
       " 6\n",
       " 7\n",
       " 8\n",
       " 9"
      ]
     },
     "execution_count": 41,
     "metadata": {},
     "output_type": "execute_result"
    }
   ],
   "source": [
    "# Converting from a local array to a distributed is very simple\n",
    "# using the distribute() routine \n",
    "\n",
    "using Distributed\n",
    "addprocs(4)"
   ]
  },
  {
   "cell_type": "code",
   "execution_count": 43,
   "metadata": {},
   "outputs": [],
   "source": [
    "# Make sure the remote processors have a copy of the packages\n",
    "@everywhere using Distributed, DistributedArrays, SpecialFunctions\n",
    "\n",
    "aa = [rand() for i = 1:100,j = 1:100];\n",
    "da = distribute(aa);"
   ]
  },
  {
   "cell_type": "code",
   "execution_count": 44,
   "metadata": {},
   "outputs": [
    {
     "data": {
      "text/plain": [
       "((100, 100), Tuple{UnitRange{Int64},UnitRange{Int64}}[(1:50, 1:25) (1:50, 26:50) (1:50, 51:75) (1:50, 76:100); (51:100, 1:25) (51:100, 26:50) (51:100, 51:75) (51:100, 76:100)])"
      ]
     },
     "execution_count": 44,
     "metadata": {},
     "output_type": "execute_result"
    }
   ],
   "source": [
    "# Check da is a Distributed Array\n",
    "(da.dims,da.indices)"
   ]
  },
  {
   "cell_type": "code",
   "execution_count": 45,
   "metadata": {},
   "outputs": [
    {
     "data": {
      "text/plain": [
       "0.09991644"
      ]
     },
     "execution_count": 45,
     "metadata": {},
     "output_type": "execute_result"
    }
   ],
   "source": [
    "# This mapping works\n",
    "@elapsed bb = map(x -> abs(bessely0(x)), aa)"
   ]
  },
  {
   "cell_type": "code",
   "execution_count": 46,
   "metadata": {},
   "outputs": [
    {
     "data": {
      "text/plain": [
       "4.616189086"
      ]
     },
     "execution_count": 46,
     "metadata": {},
     "output_type": "execute_result"
    }
   ],
   "source": [
    "# ... and also so does this just a little more slowly!\n",
    "@elapsed db = map(x -> abs(bessely0(x)), da)"
   ]
  },
  {
   "cell_type": "code",
   "execution_count": 47,
   "metadata": {},
   "outputs": [
    {
     "data": {
      "text/plain": [
       "true"
      ]
     },
     "execution_count": 47,
     "metadata": {},
     "output_type": "execute_result"
    }
   ],
   "source": [
    "# Check random element are same\n",
    "i = rand(1:100); j = rand(1:100)\n",
    "bb[i,j] == db[i,j]"
   ]
  },
  {
   "cell_type": "code",
   "execution_count": 52,
   "metadata": {},
   "outputs": [
    {
     "data": {
      "text/plain": [
       "9.094947017729282e-13"
      ]
     },
     "execution_count": 52,
     "metadata": {},
     "output_type": "execute_result"
    }
   ],
   "source": [
    "abs(sum(bb) - sum(db))"
   ]
  }
 ],
 "metadata": {
  "kernelspec": {
   "display_name": "Julia 1.0.3",
   "language": "julia",
   "name": "julia-1.0"
  },
  "language_info": {
   "file_extension": ".jl",
   "mimetype": "application/julia",
   "name": "julia",
   "version": "1.0.3"
  }
 },
 "nbformat": 4,
 "nbformat_minor": 2
}
