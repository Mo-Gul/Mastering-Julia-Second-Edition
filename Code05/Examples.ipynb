{
 "cells": [
  {
   "cell_type": "code",
   "execution_count": null,
   "metadata": {
    "collapsed": true
   },
   "outputs": [],
   "source": [
    "using Pkg\n",
    "Pkg.update()\n",
    "\n",
    "ipks = Pkg.installed()\n",
    "pkgs = [\"PyCall\",\"RCall\",\"RDatasets\",\"LibCURL\",\"JavaCall\",\"DistributedArrays\",\"SymPy\"]\n",
    "for p in pkgs\n",
    "    !haskey(ipks,p) && Pkg.add(p)\n",
    "end"
   ]
  },
  {
   "cell_type": "markdown",
   "metadata": {},
   "source": [
    "# Chapter 5 - Interoperability"
   ]
  },
  {
   "cell_type": "code",
   "execution_count": 105,
   "metadata": {
    "collapsed": true
   },
   "outputs": [],
   "source": [
    "using PyCall, PyPlot, Plots, RCall, RDatasets, JavaCall\n",
    "using DistributedArrays, SymPy, LibCURL\n",
    "using Printf, Random, Distributed"
   ]
  },
  {
   "cell_type": "markdown",
   "metadata": {},
   "source": [
    "## Calling other languages"
   ]
  },
  {
   "cell_type": "code",
   "execution_count": 101,
   "metadata": {},
   "outputs": [
    {
     "data": {
      "text/plain": [
       "randomize (generic function with 1 method)"
      ]
     },
     "execution_count": 101,
     "metadata": {},
     "output_type": "execute_result"
    }
   ],
   "source": [
    "# Simple call to a C-routine\n",
    "# Can be used to set the random number seed using the system clock\n",
    "\n",
    "systime()   = ccall((:clock,\"libc\"),Int32,())\n",
    "randomize() = Random.seed!(systime())"
   ]
  },
  {
   "cell_type": "code",
   "execution_count": 102,
   "metadata": {},
   "outputs": [
    {
     "data": {
      "text/plain": [
       "241882270"
      ]
     },
     "execution_count": 102,
     "metadata": {},
     "output_type": "execute_result"
    }
   ],
   "source": [
    "systime()"
   ]
  },
  {
   "cell_type": "code",
   "execution_count": null,
   "metadata": {
    "collapsed": true
   },
   "outputs": [],
   "source": [
    "# A 'mad' example (a*b + c)\n",
    "# The routine is called fma in library: libc\n",
    "#\n",
    "mad(a,b,c) = ccall((:fma,\"libc\"),Float64,(Float64,Float64,Float64),a,b,c)\n",
    "mad(3.1,5.2,7.4)"
   ]
  },
  {
   "cell_type": "code",
   "execution_count": null,
   "metadata": {
    "collapsed": true
   },
   "outputs": [],
   "source": [
    "# Use the system library to generate some random numbers\n",
    "[ccall((:rand, \"libc\"), Int32, ()) for i = 1:6]"
   ]
  },
  {
   "cell_type": "code",
   "execution_count": null,
   "metadata": {
    "collapsed": true
   },
   "outputs": [],
   "source": [
    "# Call a FORTRAN routine from LAPACK to compute the dot product\n",
    "# between two arrays.\n",
    "# FORTRAN passes scalar arguments by reference\n",
    "# Note: the vectors arepassed by reference already.\n",
    "\n",
    "function compute_dot(DX::Vector{Float64},DY::Vector{Float64})\n",
    "    @assert length(DX) == length(DY)\n",
    "    n = length(DX)\n",
    "    incx = incy = 1\n",
    "    dotprod = ccall((:ddot, \"libLAPACK\"),\n",
    "                    Float64,\n",
    "                    (Ptr{Int64}, Ptr{Float64}, Ptr{Int64},\n",
    "                    Ptr{Float64}, Ptr{Int64}),\n",
    "                    Ref(n), DX, Ref(incx), DY, Ref(incy))\n",
    "    return dotprod\n",
    "end"
   ]
  },
  {
   "cell_type": "code",
   "execution_count": null,
   "metadata": {
    "collapsed": true
   },
   "outputs": [],
   "source": [
    "# Test it out\n",
    "aa = [rand() for i = 1:1000]\n",
    "bb = [rand() for i = 1:1000]\n",
    "compute_dot(aa,bb)    # => Should be about 250"
   ]
  },
  {
   "cell_type": "code",
   "execution_count": null,
   "metadata": {
    "collapsed": true
   },
   "outputs": [],
   "source": [
    "# Get the user's home directory ENV[\"HOME\"]\n",
    "ptr = ccall((:getenv, \"libc\"), Ptr{UInt8},(Ptr{UInt8},),\"HOME\")"
   ]
  },
  {
   "cell_type": "code",
   "execution_count": null,
   "metadata": {
    "collapsed": true
   },
   "outputs": [],
   "source": [
    "# My modules are in Julia/MyModules - put this on the LOAD PATH\n",
    "#\n",
    "myHome = unsafe_string(ptr)\n",
    "push!(LOAD_PATH,string(myHome,\"/Julia/MyModules\"))"
   ]
  },
  {
   "cell_type": "code",
   "execution_count": null,
   "metadata": {
    "collapsed": true
   },
   "outputs": [],
   "source": [
    "#=\n",
    "The system library call has a third parameter, which when set to zero will create a new variable but not overwrite an existing one.\n",
    "=#\n",
    "# Define the function to replace existing variable\n",
    "evset(var::String, val::String) =\n",
    "      ccall((:setenv,\"libc\"),Clong,\n",
    "            (Cstring,Cstring,Clong),var,val,1);\n",
    "\n",
    "# The unset routine is quite simple\n",
    "evunset(evvar::String) =\n",
    "    ccall((:unsetenv,\"libc\"),Clong,(Cstring,),evvar);"
   ]
  },
  {
   "cell_type": "code",
   "execution_count": null,
   "metadata": {
    "collapsed": true
   },
   "outputs": [],
   "source": [
    "#=\n",
    "The system library call has a third parameter, which when set to zero will create a new variable but not overwrite an existing one.\n",
    "=#\n",
    "# Define the function to replace existing variable\n",
    "evset(var::String, val::String) =\n",
    "    ccall((:setenv,\"libc\"),Clong,\n",
    "          (Cstring,Cstring,Clong),var,val,1);\n",
    "\n",
    "# The unset routine is quite simple\n",
    "evunset(evvar::String) =\n",
    "    ccall((:unsetenv,\"libc\"),Clong,(Cstring,),evvar);\n"
   ]
  },
  {
   "cell_type": "code",
   "execution_count": null,
   "metadata": {
    "collapsed": true
   },
   "outputs": [],
   "source": [
    "# Set an environment variable PACKT_HOME ...\n",
    "# ... and check it\n",
    "packt = evset(\"PACKT_HOME\",\n",
    "            string(myHome,\"/Users/malcolm/PacktPub\"));\n",
    "\n",
    "julia> ENV[\"PACKT_HOME\"]\n",
    "\"/Users/malcolm/PacktPub\"\n",
    "\n",
    "# Now unset it, verify it is so.\n",
    "julia> evunset(\"PACKT_HOME\");\n",
    "julia> ENV[\"PACKT_HOME\"]\n",
    "ERROR: KeyError: key \"PACKT_HOME\" not found"
   ]
  },
  {
   "cell_type": "markdown",
   "metadata": {},
   "source": [
    "---"
   ]
  },
  {
   "cell_type": "code",
   "execution_count": null,
   "metadata": {
    "collapsed": true
   },
   "outputs": [],
   "source": [
    "#=\n",
    "\n",
    "// Basel function in C\n",
    "\n",
    "#include<stdio.h>\n",
    "#include<stdlib.h>\n",
    "\n",
    "double basel(int N) {\n",
    "\n",
    "  double s = 0.0L;\n",
    "  int i;\n",
    "  double x;\n",
    "\n",
    "  if (N < 1) return s;\n",
    "  for (i = 1; i <= N; i++) {\n",
    "    x = 1.0L/((double) i);\n",
    "    s += x*x;\n",
    "  }\n",
    "  return s;\n",
    "}\n",
    "\n",
    "// Horner's method\n",
    "\n",
    "#include<math.h>\n",
    "\n",
    "double horner(double x, double aa[], long n) {\n",
    "  long i;\n",
    "  double s = aa[n-1];\n",
    "  if (n > 1) {\n",
    "    for (i = n-2; i >= 0; i--) {\n",
    "      s = s*x + aa[i];\n",
    "    }\n",
    "  }\n",
    "  return s;\n",
    "}\n",
    "\n",
    "// Build a dynamic library (on OSX) as:\n",
    "//\n",
    "// clang -c basel.c horner.c\n",
    "// libtool -dynamic basel.o horner.o -o libmyfuns.dylib\n",
    "//         -lSystem -macosx_version_min 10.13\n",
    "//\n",
    "// sudo cp libmyfuns.dylib /usr/local/lib\n",
    "\n",
    "=#\n",
    "\n",
    "run(`nm -g libmyfuns.dylib`)"
   ]
  },
  {
   "cell_type": "code",
   "execution_count": null,
   "metadata": {
    "collapsed": true
   },
   "outputs": [],
   "source": [
    "basel = ccall((:basel,\"libmyfuns\"),Float64,(Int64,),10000000)"
   ]
  },
  {
   "cell_type": "code",
   "execution_count": null,
   "metadata": {
    "collapsed": true
   },
   "outputs": [],
   "source": [
    "# Time the function for 10^7 loops\n",
    "@elapsed ccall((:basel,\"libmyfuns\"),Float64,(Int64,),10000000)"
   ]
  },
  {
   "cell_type": "code",
   "execution_count": null,
   "metadata": {
    "collapsed": true
   },
   "outputs": [],
   "source": [
    "# C version of Horners method\n",
    "# Note use of Cdouble, Clong rather than Float64, Int64 etc.\n",
    "#\n",
    "x = 2.1;\n",
    "aa = [1.0, 2.0, 3.0, 4.0, 5.0];\n",
    "\n",
    "ccall((:horner,\"libmyfuns.dylib\"),Cdouble,\n",
    "              (Cdouble,Ptr{Cdouble},Clong),x,aa,length(aa))"
   ]
  },
  {
   "cell_type": "markdown",
   "metadata": {},
   "source": [
    "### Embedding C in Julia"
   ]
  },
  {
   "cell_type": "code",
   "execution_count": null,
   "metadata": {
    "collapsed": true
   },
   "outputs": [],
   "source": [
    "# Compute PI in 'C', usual Monte Carlo method\n",
    "# We ca put the C code in a multiline string\n",
    "\n",
    "C_code = \"\"\"\n",
    "#include <stddef.h>\n",
    "#include <stdlib.h>\n",
    "\n",
    "double c_pi(long n) {\n",
    "    long k = 0L;\n",
    "    float rmax = (float) RAND_MAX;\n",
    "    for (long i = 0L; i < n; i++) {\n",
    "        float x = ((float) rand())/rmax;\n",
    "        float y = ((float) rand())/rmax;\n",
    "        if ((x*x + y*y) < 1.0) {\n",
    "            k++;\n",
    "        }\n",
    "    }\n",
    "    return 4.0*((double) k)/((double) n);\n",
    "}\n",
    "\"\"\"\n",
    "\n",
    "# Get a temporary name to create a library\n",
    "const Clib = tempname()   # ... make a temporary file"
   ]
  },
  {
   "cell_type": "code",
   "execution_count": null,
   "metadata": {
    "collapsed": true
   },
   "outputs": [],
   "source": [
    "# compile to a shared library by piping C_code to gcc\n",
    "# (works only if you have gcc installed):\n",
    "using Libdl\n",
    "tmplib = string(Clib,\".\",dlext)\n",
    "open(`gcc -fPIC -O3 -msse3 -xc -shared -o $tmplib -`, \"w\") do f\n",
    "    print(f, C_code)\n",
    "end\n",
    "\n",
    "# define a Julia function that calls the C function:\n",
    "c_pi(N::Int64) = ccall((\"c_pi\", Clib), Float64, (Clong,), N)"
   ]
  },
  {
   "cell_type": "code",
   "execution_count": null,
   "metadata": {
    "collapsed": true
   },
   "outputs": [],
   "source": [
    "using Random\n",
    "randomize();\n",
    "c_pi(1000000)"
   ]
  },
  {
   "cell_type": "markdown",
   "metadata": {},
   "source": [
    "### Using the Julia API"
   ]
  },
  {
   "cell_type": "code",
   "execution_count": null,
   "metadata": {
    "collapsed": true
   },
   "outputs": [],
   "source": [
    "include <julia.h>\n",
    "#include <stdio.h>\n",
    "#include <math.h>\n",
    "\n",
    "// Only define this once if in an executable ...\n",
    "// (i.e. not in a shared library) ...\n",
    "// ... and if we want the fastest code.\n",
    "JULIA_DEFINE_FAST_TLS()\n",
    "\n",
    "int main(int argc, char *argv[])\n",
    "{\n",
    "/* required: setup the Julia context */\n",
    "  jl_init();\n",
    "\n",
    "/* run Julia commands */\n",
    "  jl_function_t *fnc1 = jl_get_function(jl_base_module, \"exp\");\n",
    "  jl_function_t *fnc2 = jl_get_function(jl_base_module, \"sin\");\n",
    "  jl_value_t* arg1 = jl_box_float64(-0.3);\n",
    "  jl_value_t* arg2 = jl_box_float64(3.0);\n",
    "  jl_value_t* ret1 = jl_call1(fnc1, arg1);\n",
    "  jl_value_t* ret2 = jl_call1(fnc2, arg2);\n",
    "\n",
    "/* unbox and setup final result */\n",
    "  double retD1 = jl_unbox_float64(ret1);\n",
    "  double retD2 = jl_unbox_float64(ret2);\n",
    "  double retD3 = retD1*retD2;\n",
    "  printf(\"sin(3.0)*exp(-0.3) from Julia API: %e\\n\", retD3);\n",
    "  fflush(stdout);\n",
    "\n",
    "/* Allow Julia time to cleanup pending write requests etc. */\n",
    "  jl_atexit_hook(0);\n",
    "  return 0;\n",
    "}"
   ]
  },
  {
   "cell_type": "code",
   "execution_count": null,
   "metadata": {
    "collapsed": true
   },
   "outputs": [],
   "source": [
    "# Can use a nice command script in 'share/julia/julia-config.jl\n",
    "./julia-config.jl\n",
    "usage: julia-config [--cflags | --ldflags |\n",
    "                     --ldlibs | --allflags]"
   ]
  },
  {
   "cell_type": "code",
   "execution_count": null,
   "metadata": {
    "collapsed": true
   },
   "outputs": [],
   "source": [
    "JULIA_HOME = \\\n",
    "/Applications/Julia-1.1.app/Contents/Resources/julia; export JULIA_HOME\n",
    "\n",
    "ls $JULIA_HOME\n",
    "LICENSE.md bin etc include lib share"
   ]
  },
  {
   "cell_type": "code",
   "execution_count": null,
   "metadata": {
    "collapsed": true
   },
   "outputs": [],
   "source": [
    "cc jltest.c -o jltest -std=gnu99 \\\n",
    "      -I$JULIA_HOME/include/julia \\\n",
    "      -DJULIA_ENABLE_THREADING=1 -fPIC \\\n",
    "      -L$JULIA_HOME/lib \\\n",
    "      -Wl,-rpath,$JULIA_HOME/lib \\\n",
    "      -Wl,-rpath,$JULIA_HOME/lib/julia \\\n",
    "      -ljulia\n",
    "\n",
    "./jltest\n",
    "sin(3.0)*exp(-0.3) from Julia API: 1.045443e-01"
   ]
  },
  {
   "cell_type": "markdown",
   "metadata": {},
   "source": [
    "### An example using LibCURL"
   ]
  },
  {
   "cell_type": "code",
   "execution_count": null,
   "metadata": {
    "collapsed": true
   },
   "outputs": [],
   "source": [
    "using LibCURL\n",
    "url = \"http://LondonJulia.org/mastering-julia.html\""
   ]
  },
  {
   "cell_type": "code",
   "execution_count": null,
   "metadata": {
    "collapsed": true
   },
   "outputs": [],
   "source": [
    "# init a curl handle\n",
    "curl = curl_easy_init();\n",
    "\n",
    "# set the URL and request to follow redirects\n",
    "curl_easy_setopt(curl, CURLOPT_URL, url);\n",
    "curl_easy_setopt(curl, CURLOPT_FOLLOWLOCATION, 1);"
   ]
  },
  {
   "cell_type": "code",
   "execution_count": null,
   "metadata": {
    "collapsed": true
   },
   "outputs": [],
   "source": [
    "# setup the callback function to recv data\n",
    "function curl_write_cb(curlbuf::Ptr{Nothing}, s::Csize_t, n::Csize_t, p_ctxt::Ptr{Nothing})\n",
    "  sz = s * n\n",
    "  data = Array{UInt8}(undef,sz)\n",
    "  ccall(:memcpy, Ptr{Nothing}, (Ptr{Nothing}, Ptr{Nothing}, UInt64), data, curlbuf, sz)\n",
    "  println(String(data))\n",
    "  sz::Csize_t\n",
    "end"
   ]
  },
  {
   "cell_type": "code",
   "execution_count": null,
   "metadata": {
    "collapsed": true
   },
   "outputs": [],
   "source": [
    "c_curl_write_cb =\n",
    "  @cfunction(curl_write_cb, Csize_t,\n",
    "             (Ptr{Nothing}, Csize_t, Csize_t, Ptr{Nothing}));\n",
    "curl_easy_setopt(curl, CURLOPT_WRITEFUNCTION, c_curl_write_cb);"
   ]
  },
  {
   "cell_type": "code",
   "execution_count": null,
   "metadata": {
    "collapsed": true
   },
   "outputs": [],
   "source": [
    "# execute the query\n",
    "res = curl_easy_perform(curl)"
   ]
  },
  {
   "cell_type": "code",
   "execution_count": null,
   "metadata": {
    "collapsed": true
   },
   "outputs": [],
   "source": [
    "println(\"curl url exec response : \", res)"
   ]
  },
  {
   "cell_type": "code",
   "execution_count": null,
   "metadata": {
    "collapsed": true
   },
   "outputs": [],
   "source": [
    "# retrieve HTTP code\n",
    "http_code = Array{Clong}(undef,1)\n",
    "curl_easy_getinfo(curl, CURLINFO_RESPONSE_CODE, http_code)\n",
    "println(\"httpcode : \", http_code)"
   ]
  },
  {
   "cell_type": "code",
   "execution_count": null,
   "metadata": {
    "collapsed": true
   },
   "outputs": [],
   "source": [
    "# release handle\n",
    "curl_easy_cleanup(curl)"
   ]
  },
  {
   "cell_type": "markdown",
   "metadata": {},
   "source": [
    "---"
   ]
  },
  {
   "cell_type": "markdown",
   "metadata": {},
   "source": [
    "### Calling Python"
   ]
  },
  {
   "cell_type": "code",
   "execution_count": null,
   "metadata": {
    "collapsed": true
   },
   "outputs": [],
   "source": [
    "using PyCall"
   ]
  },
  {
   "cell_type": "code",
   "execution_count": null,
   "metadata": {
    "collapsed": true
   },
   "outputs": [],
   "source": [
    "@pyimport numpy.random as nr\n",
    "aa = nr.rand(4,5)      # aa is a Julia array generated with Numpy"
   ]
  },
  {
   "cell_type": "code",
   "execution_count": null,
   "metadata": {
    "collapsed": true
   },
   "outputs": [],
   "source": [
    "# So an array slice has no overhead(i.e. in Julia)\n",
    "aa[2:3,2:3]"
   ]
  },
  {
   "cell_type": "code",
   "execution_count": null,
   "metadata": {
    "collapsed": true
   },
   "outputs": [],
   "source": [
    "# Using the SciPy package\n",
    "@pyimport scipy.optimize as so\n",
    "so.ridder(x -> x*cos(x),1,π)"
   ]
  },
  {
   "cell_type": "code",
   "execution_count": null,
   "metadata": {
    "collapsed": true
   },
   "outputs": [],
   "source": [
    "@pyimport scipy.integrate as si\n",
    "si.quad(x -> x*sin(x),1,π)"
   ]
  },
  {
   "cell_type": "code",
   "execution_count": null,
   "metadata": {
    "collapsed": true
   },
   "outputs": [],
   "source": [
    "# ... and plotting with matplotlib\n",
    "@pyimport matplotlib.pyplot as plt\n",
    "x = range(0,stop=10,length=1000);\n",
    "y = sin.(3*x + 4*cos.(2*x));\n",
    "\n",
    "plt.plot(x, y, color=\"red\", linewidth=2.0, linestyle=\"--\")"
   ]
  },
  {
   "cell_type": "code",
   "execution_count": null,
   "metadata": {
    "collapsed": true
   },
   "outputs": [],
   "source": [
    "plt.show()"
   ]
  },
  {
   "cell_type": "markdown",
   "metadata": {},
   "source": [
    "---\n",
    "\n",
    "### SymPy\n"
   ]
  },
  {
   "cell_type": "code",
   "execution_count": 20,
   "metadata": {},
   "outputs": [
    {
     "name": "stderr",
     "output_type": "stream",
     "text": [
      "┌ Info: Precompiling SymPy [24249f21-da20-56a4-8eb1-6a02cf4ae2e6]\n",
      "└ @ Base loading.jl:1189\n"
     ]
    }
   ],
   "source": [
    "using SymPy"
   ]
  },
  {
   "cell_type": "code",
   "execution_count": 21,
   "metadata": {},
   "outputs": [
    {
     "data": {
      "text/plain": [
       "Sym"
      ]
     },
     "execution_count": 21,
     "metadata": {},
     "output_type": "execute_result"
    }
   ],
   "source": [
    "# We need to work with a special type: a symbol (in the SymPy sense)\n",
    "u = symbols(\"u\")\n",
    "x = symbols(\"x\", real=true)\n",
    "y1, y2 = symbols(\"y1, y2\", positive=true)\n",
    "alpha = symbols(\"alpha\", integer=true, positive=true)\n",
    "\n",
    "typeof(x)"
   ]
  },
  {
   "cell_type": "code",
   "execution_count": 22,
   "metadata": {},
   "outputs": [
    {
     "data": {
      "text/latex": [
       "\\begin{bmatrix}- i\\\\i\\end{bmatrix}"
      ],
      "text/plain": [
       "2-element Array{Sym,1}:\n",
       " -I\n",
       "  I"
      ]
     },
     "execution_count": 22,
     "metadata": {},
     "output_type": "execute_result"
    }
   ],
   "source": [
    "# We can solve some algebraic equations\n",
    "solve(u^2 + 1)"
   ]
  },
  {
   "cell_type": "code",
   "execution_count": 23,
   "metadata": {},
   "outputs": [
    {
     "data": {
      "text/latex": [
       "\\begin{equation*}\\sin{\\left (x^{-5.0} \\right )} \\sin{\\left (x^{-4.0} \\right )} \\sin{\\left (x^{-3.0} \\right )} \\sin{\\left (x^{-2.0} \\right )} \\sin{\\left (\\frac{1}{x^{1.0}} \\right )}\\end{equation*}"
      ],
      "text/plain": [
       "   / -5.0\\    / -4.0\\    / -3.0\\    / -2.0\\    / -1.0\\\n",
       "sin\\x    /*sin\\x    /*sin\\x    /*sin\\x    /*sin\\x    /"
      ]
     },
     "execution_count": 23,
     "metadata": {},
     "output_type": "execute_result"
    }
   ],
   "source": [
    "# Perform functional expansions\n",
    "p = expand(prod([sin(x^(-i)) for i in 1.0:1.0:5.0]))"
   ]
  },
  {
   "cell_type": "code",
   "execution_count": null,
   "metadata": {
    "collapsed": true
   },
   "outputs": [],
   "source": [
    "# SymPy can use the Plot API to display graphs\n",
    "x = symbols(\"x\")\n",
    "using Plots\n",
    "pyplot()\n",
    "\n",
    "plot(p, 0.0, 1.0)"
   ]
  },
  {
   "cell_type": "code",
   "execution_count": 24,
   "metadata": {},
   "outputs": [
    {
     "data": {
      "text/latex": [
       "\\begin{equation*}\\operatorname{harmonic}{\\left (n,2 \\right )}\\end{equation*}"
      ],
      "text/plain": [
       "harmonic(n, 2)"
      ]
     },
     "execution_count": 24,
     "metadata": {},
     "output_type": "execute_result"
    }
   ],
   "source": [
    "# For a more complex example, which we have seen before, ...\n",
    "# ... the sum of the Basel series\n",
    "#\n",
    "i, n = symbols(\"i, n\")\n",
    "sn = Sum(1/i^2, (i, 1, n))\n",
    "doit(sn)"
   ]
  },
  {
   "cell_type": "code",
   "execution_count": 25,
   "metadata": {},
   "outputs": [
    {
     "data": {
      "text/latex": [
       "\\begin{equation*}\\frac{\\pi^{2}}{6}\\end{equation*}"
      ],
      "text/plain": [
       "  2\n",
       "pi \n",
       "---\n",
       " 6 "
      ]
     },
     "execution_count": 25,
     "metadata": {},
     "output_type": "execute_result"
    }
   ],
   "source": [
    "limit(doit(sn), n, oo)"
   ]
  },
  {
   "cell_type": "code",
   "execution_count": 26,
   "metadata": {},
   "outputs": [
    {
     "data": {
      "text/latex": [
       "\\begin{equation*}- 3 x y{\\left (x \\right )} + \\frac{d}{d x} y{\\left (x \\right )} - 1\\end{equation*}"
      ],
      "text/plain": [
       "            d           \n",
       "-3*x*y(x) + --(y(x)) - 1\n",
       "            dx          "
      ]
     },
     "execution_count": 26,
     "metadata": {},
     "output_type": "execute_result"
    }
   ],
   "source": [
    "# An initial valued problem\n",
    "#\n",
    "y = SymFunction(\"y\")\n",
    "a, x = symbols(\"a,x\")\n",
    "eqn = y'(x) - 3*x*y(x) - 1"
   ]
  },
  {
   "cell_type": "code",
   "execution_count": 27,
   "metadata": {},
   "outputs": [
    {
     "data": {
      "text/latex": [
       "\\begin{equation*}y{\\left (x \\right )} = \\left(\\frac{\\sqrt{6} \\sqrt{\\pi}}{6} \\operatorname{erf}{\\left (\\frac{\\sqrt{6} x}{2} \\right )} + 2.1\\right) e^{\\frac{3 x^{2}}{2}}\\end{equation*}"
      ],
      "text/plain": [
       "       /                /  ___  \\      \\     2\n",
       "       |  ___   ____    |\\/ 6 *x|      |  3*x \n",
       "       |\\/ 6 *\\/ pi *erf|-------|      |  ----\n",
       "       |                \\   2   /      |   2  \n",
       "y(x) = |------------------------- + 2.1|*e    \n",
       "       \\            6                  /      "
      ]
     },
     "execution_count": 27,
     "metadata": {},
     "output_type": "execute_result"
    }
   ],
   "source": [
    "# Solve this equation for x0 = 0 ...\n",
    "# and currying the function y0 -> a\n",
    "#\n",
    "x0, y0 = 0, a\n",
    "out = dsolve(eqn, x, (y, x0, y0))\n",
    "\n",
    "# Resolve the curried function by substuting a value for 'a'\n",
    "out |> subs(a,2.1)"
   ]
  },
  {
   "cell_type": "markdown",
   "metadata": {},
   "source": [
    "## Calling R"
   ]
  },
  {
   "cell_type": "code",
   "execution_count": 31,
   "metadata": {
    "collapsed": true
   },
   "outputs": [],
   "source": [
    "using RCall"
   ]
  },
  {
   "cell_type": "code",
   "execution_count": 32,
   "metadata": {},
   "outputs": [
    {
     "data": {
      "text/plain": [
       "RObject{VecSxp}\n",
       "\n",
       "\tOne Sample t-test\n",
       "\n",
       "data:  `#JL`$x\n",
       "t = -2.3245, df = 999, p-value = 0.0203\n",
       "alternative hypothesis: true mean is not equal to 0\n",
       "95 percent confidence interval:\n",
       " -0.13405910 -0.01132606\n",
       "sample estimates:\n",
       "  mean of x \n",
       "-0.07269258 \n",
       "\n"
      ]
     },
     "execution_count": 32,
     "metadata": {},
     "output_type": "execute_result"
    }
   ],
   "source": [
    "# Perform a t-test on a set of 1000 normally distributed variates\n",
    "#\n",
    "x = randn(1000);\n",
    "R\"t.test($x)\""
   ]
  },
  {
   "cell_type": "code",
   "execution_count": 33,
   "metadata": {},
   "outputs": [
    {
     "data": {
      "text/plain": [
       "RObject{VecSxp}\n",
       "$par\n",
       "[1] -6.685958\n",
       "\n",
       "$value\n",
       "[1] 29.61426\n",
       "\n",
       "$counts\n",
       "function gradient \n",
       "      28        8 \n",
       "\n",
       "$convergence\n",
       "[1] 0\n",
       "\n",
       "$message\n",
       "NULL\n",
       "\n"
      ]
     },
     "execution_count": 33,
     "metadata": {},
     "output_type": "execute_result"
    }
   ],
   "source": [
    "# Optimize function using BFGS (Broyden–Fletcher–Goldfarb–Shannon) algorithm\n",
    "#\n",
    "f(x) = 10*sin(0.3*x)*sin(1.3*x^2) + 0.00001*x^4 + 0.2*x + 40\n",
    "R\"optim(0, $(x -> f(x)), method='BFGS')\""
   ]
  },
  {
   "cell_type": "code",
   "execution_count": 34,
   "metadata": {
    "collapsed": true
   },
   "outputs": [],
   "source": [
    "@rlibrary MASS"
   ]
  },
  {
   "cell_type": "code",
   "execution_count": 6,
   "metadata": {},
   "outputs": [
    {
     "data": {
      "text/html": [
       "<table class=\"data-frame\"><thead><tr><th></th><th>waiting</th><th>duration</th></tr><tr><th></th><th>Float64</th><th>Float64</th></tr></thead><tbody><tr><th>1</th><td>80.0</td><td>4.01667</td></tr><tr><th>2</th><td>71.0</td><td>2.15</td></tr><tr><th>3</th><td>57.0</td><td>4.0</td></tr><tr><th>4</th><td>80.0</td><td>4.0</td></tr><tr><th>5</th><td>75.0</td><td>4.0</td></tr><tr><th>6</th><td>77.0</td><td>2.0</td></tr><tr><th>7</th><td>60.0</td><td>4.38333</td></tr><tr><th>8</th><td>86.0</td><td>4.28333</td></tr><tr><th>9</th><td>77.0</td><td>2.03333</td></tr><tr><th>10</th><td>56.0</td><td>4.83333</td></tr><tr><th>11</th><td>81.0</td><td>1.83333</td></tr><tr><th>12</th><td>50.0</td><td>5.45</td></tr><tr><th>13</th><td>89.0</td><td>1.61667</td></tr><tr><th>14</th><td>54.0</td><td>4.86667</td></tr><tr><th>15</th><td>90.0</td><td>4.38333</td></tr><tr><th>16</th><td>73.0</td><td>1.76667</td></tr><tr><th>17</th><td>60.0</td><td>4.66667</td></tr><tr><th>18</th><td>83.0</td><td>2.0</td></tr><tr><th>19</th><td>65.0</td><td>4.73333</td></tr><tr><th>20</th><td>82.0</td><td>4.21667</td></tr><tr><th>21</th><td>84.0</td><td>1.9</td></tr><tr><th>22</th><td>54.0</td><td>4.96667</td></tr><tr><th>23</th><td>85.0</td><td>2.0</td></tr><tr><th>24</th><td>58.0</td><td>4.0</td></tr><tr><th>25</th><td>79.0</td><td>2.0</td></tr><tr><th>26</th><td>57.0</td><td>4.0</td></tr><tr><th>27</th><td>88.0</td><td>2.83333</td></tr><tr><th>28</th><td>68.0</td><td>4.5</td></tr><tr><th>29</th><td>76.0</td><td>4.06667</td></tr><tr><th>30</th><td>78.0</td><td>3.71667</td></tr><tr><th>&vellip;</th><td>&vellip;</td><td>&vellip;</td></tr></tbody></table>"
      ],
      "text/plain": [
       "299×2 DataFrames.DataFrame\n",
       "│ Row │ waiting │ duration │\n",
       "│     │ \u001b[90mFloat64\u001b[39m │ \u001b[90mFloat64\u001b[39m  │\n",
       "├─────┼─────────┼──────────┤\n",
       "│ 1   │ 80.0    │ 4.01667  │\n",
       "│ 2   │ 71.0    │ 2.15     │\n",
       "│ 3   │ 57.0    │ 4.0      │\n",
       "│ 4   │ 80.0    │ 4.0      │\n",
       "│ 5   │ 75.0    │ 4.0      │\n",
       "│ 6   │ 77.0    │ 2.0      │\n",
       "│ 7   │ 60.0    │ 4.38333  │\n",
       "│ 8   │ 86.0    │ 4.28333  │\n",
       "│ 9   │ 77.0    │ 2.03333  │\n",
       "│ 10  │ 56.0    │ 4.83333  │\n",
       "⋮\n",
       "│ 289 │ 47.0    │ 4.76667  │\n",
       "│ 290 │ 87.0    │ 1.95     │\n",
       "│ 291 │ 51.0    │ 4.68333  │\n",
       "│ 292 │ 78.0    │ 1.93333  │\n",
       "│ 293 │ 54.0    │ 4.41667  │\n",
       "│ 294 │ 87.0    │ 2.13333  │\n",
       "│ 295 │ 52.0    │ 4.08333  │\n",
       "│ 296 │ 85.0    │ 2.06667  │\n",
       "│ 297 │ 58.0    │ 4.0      │\n",
       "│ 298 │ 88.0    │ 4.0      │\n",
       "│ 299 │ 79.0    │ 2.0      │"
      ]
     },
     "execution_count": 6,
     "metadata": {},
     "output_type": "execute_result"
    }
   ],
   "source": [
    "geyser = rcopy(R\"MASS::geyser\")"
   ]
  },
  {
   "cell_type": "code",
   "execution_count": 35,
   "metadata": {},
   "outputs": [
    {
     "data": {
      "text/plain": [
       "20.8952"
      ]
     },
     "execution_count": 35,
     "metadata": {},
     "output_type": "execute_result"
    }
   ],
   "source": [
    "round(sum(geyser[:waiting])/sum(geyser[:duration]),digits=5)"
   ]
  },
  {
   "cell_type": "code",
   "execution_count": 36,
   "metadata": {},
   "outputs": [
    {
     "data": {
      "text/plain": [
       "RObject{RealSxp}\n",
       "   Min. 1st Qu.  Median    Mean 3rd Qu.    Max. \n",
       "  43.00   59.00   76.00   72.31   83.00  108.00 \n"
      ]
     },
     "execution_count": 36,
     "metadata": {},
     "output_type": "execute_result"
    }
   ],
   "source": [
    "rcall(:summary, geyser[:waiting])"
   ]
  },
  {
   "cell_type": "code",
   "execution_count": 37,
   "metadata": {},
   "outputs": [
    {
     "data": {
      "text/plain": [
       "RObject{RealSxp}\n",
       "   Min. 1st Qu.  Median    Mean 3rd Qu.    Max. \n",
       " 0.8333  2.0000  4.0000  3.4608  4.3833  5.4500 \n"
      ]
     },
     "execution_count": 37,
     "metadata": {},
     "output_type": "execute_result"
    }
   ],
   "source": [
    "rcall(:summary, geyser[:duration])"
   ]
  },
  {
   "cell_type": "code",
   "execution_count": 38,
   "metadata": {},
   "outputs": [
    {
     "name": "stderr",
     "output_type": "stream",
     "text": [
      "┌ Warning: RCall.jl: data.table 1.11.8  Latest news: r-datatable.com\n",
      "└ @ RCall /Users/malcolm/.julia/packages/RCall/Q4n8R/src/io.jl:110\n"
     ]
    },
    {
     "data": {
      "text/plain": [
       "RObject{VecSxp}\n"
      ]
     },
     "execution_count": 38,
     "metadata": {},
     "output_type": "execute_result"
    }
   ],
   "source": [
    "# Use R to grab some financial data\n",
    "# and plot it.\n",
    "\n",
    "R\"\"\"\n",
    "library(data.table)\n",
    "library(scales)\n",
    "library(ggplot2)\n",
    "\n",
    "link <- \"fin_data.csv\"\n",
    "dt <- data.table(read.csv(link))\n",
    "dt[, date := as.Date(date)]\n",
    "\n",
    "# create indexed values\n",
    "dt[, idx_price := price/price[1], by = ticker]\n",
    "\"\"\""
   ]
  },
  {
   "cell_type": "code",
   "execution_count": 39,
   "metadata": {},
   "outputs": [
    {
     "data": {
      "image/png": "[encoded data removed]"
     },
     "metadata": {},
     "output_type": "display_data"
    },
    {
     "data": {
      "text/plain": [
       "RObject{VecSxp}\n"
      ]
     },
     "execution_count": 39,
     "metadata": {},
     "output_type": "execute_result"
    }
   ],
   "source": [
    "R\"\"\"\n",
    "ggplot(dt, aes(x = date, y = idx_price, color = ticker)) +\n",
    "       geom_line() + theme_bw() +\n",
    "       xlab(\"Date\") + ylab(\"Pricen(Indexed 2000 = 1)\") +\n",
    "       scale_color_discrete(name = \"Company\")\n",
    "\"\"\""
   ]
  },
  {
   "cell_type": "markdown",
   "metadata": {},
   "source": [
    "---"
   ]
  },
  {
   "cell_type": "markdown",
   "metadata": {},
   "source": [
    "### Calling Java"
   ]
  },
  {
   "cell_type": "code",
   "execution_count": 12,
   "metadata": {
    "scrolled": true
   },
   "outputs": [
    {
     "name": "stderr",
     "output_type": "stream",
     "text": [
      "┌ Info: Precompiling JavaCall [494afd89-becb-516b-aafa-70d2670c0337]\n",
      "└ @ Base loading.jl:1189\n",
      "\n",
      "signal (11): Segmentation fault: 11\n",
      "in expression starting at /Users/malcolm/.julia/packages/IJulia/0cLgR/src/kernel.jl:41\n",
      "unknown function (ip: 0x136edf2b3)\n",
      "Allocations: 81255039 (Pool: 81238612; Big: 16427); GC: 178\n"
     ]
    }
   ],
   "source": [
    "using JavaCall\n",
    "JavaCall.init([\"-Xmx128M\"])     # Initialize and ask for additional memory\n",
    "\n",
    "#=\n",
    "  May set the current directory as the classpath in the init() call\n",
    "  viz. JavaCall.init([\"-Xmx128M -Djava.class.path=$(@__DIR__)\"])\n",
    "\n",
    "  Ignore the (possible) segmentation fault\n",
    "  See: http://juliainterop.github.io/JavaCall.jl/faq.html\n",
    "\n",
    "  This works inside in a Notebook, despite the segmentation fault (on OSX)\n",
    "  In the REPL, julia may need to be started with a --handle-signals=no\n",
    "  option to disable Julia's signal handler.\n",
    "  [This may cause issues with handling ^C in Julia programs.]\n",
    "=#"
   ]
  },
  {
   "cell_type": "code",
   "execution_count": 13,
   "metadata": {},
   "outputs": [
    {
     "data": {
      "text/plain": [
       "JavaObject{Symbol(\"java.lang.String\")}(Ptr{Nothing} @0x00007fe4d3027c90)"
      ]
     },
     "execution_count": 13,
     "metadata": {},
     "output_type": "execute_result"
    }
   ],
   "source": [
    "# JavaCall needs to modify Julia variables before using them in functions\n",
    "a = JString(\"Hello, Blue Eyes\")"
   ]
  },
  {
   "cell_type": "code",
   "execution_count": 14,
   "metadata": {},
   "outputs": [
    {
     "data": {
      "text/plain": [
       "(:ptr,)"
      ]
     },
     "execution_count": 14,
     "metadata": {},
     "output_type": "execute_result"
    }
   ],
   "source": [
    "# The JString as a single field (:ptr)\n",
    "fieldnames(typeof(a))"
   ]
  },
  {
   "cell_type": "code",
   "execution_count": 15,
   "metadata": {},
   "outputs": [
    {
     "data": {
      "text/plain": [
       "Ptr{Nothing} @0x00007fe4d3027c90"
      ]
     },
     "execution_count": 15,
     "metadata": {},
     "output_type": "execute_result"
    }
   ],
   "source": [
    "a.ptr"
   ]
  },
  {
   "cell_type": "code",
   "execution_count": 16,
   "metadata": {},
   "outputs": [
    {
     "data": {
      "text/plain": [
       "\"Hello, Blue Eyes\""
      ]
     },
     "execution_count": 16,
     "metadata": {},
     "output_type": "execute_result"
    }
   ],
   "source": [
    "# The pointer can now be used in a Java function\n",
    "\n",
    "b = ccall(JavaCall.jnifunc.GetStringUTFChars, Ptr{UInt8},\n",
    "            (Ptr{JavaCall.JNIEnv}, Ptr{Nothing}, Ptr{Nothing}),\n",
    "                                 JavaCall.penv, a.ptr, C_NULL)\n",
    "\n",
    "unsafe_string(b)"
   ]
  },
  {
   "cell_type": "code",
   "execution_count": 17,
   "metadata": {},
   "outputs": [
    {
     "data": {
      "text/plain": [
       "5.180668317897116"
      ]
     },
     "execution_count": 17,
     "metadata": {},
     "output_type": "execute_result"
    }
   ],
   "source": [
    "# Similar to PyCall, we can use JavaCall to perform some mathematics\n",
    "\n",
    "jlm = @jimport \"java.lang.Math\"\n",
    "jcall(jlm, \"exp\", jdouble, (jdouble,), pi*pi/6.0)"
   ]
  },
  {
   "cell_type": "code",
   "execution_count": 18,
   "metadata": {},
   "outputs": [
    {
     "data": {
      "text/plain": [
       "\"LondonJulia.org\""
      ]
     },
     "execution_count": 18,
     "metadata": {},
     "output_type": "execute_result"
    }
   ],
   "source": [
    "# ... and to access Internet libraries\n",
    "jnu = @jimport java.net.URL\n",
    "jurl = jnu((JString,), \"http://LondonJulia.org/mastering-julia.html\")\n",
    "www = jcall(jurl, \"getHost\", JString,())"
   ]
  },
  {
   "cell_type": "code",
   "execution_count": 19,
   "metadata": {},
   "outputs": [
    {
     "data": {
      "text/plain": [
       "\"'Twas brillig, and the slithy toves,\""
      ]
     },
     "execution_count": 19,
     "metadata": {},
     "output_type": "execute_result"
    }
   ],
   "source": [
    "# Finally let's import the ArrayList class, ...\n",
    "# ... define an instance and add some items to it\n",
    "JArrayList = @jimport(java.util.ArrayList)\n",
    "a = JArrayList(())\n",
    "jcall(a, \"add\", jboolean, (JObject,), \"'Twas \")\n",
    "jcall(a, \"add\", jboolean, (JObject,), \"brillig, \")\n",
    "jcall(a, \"add\", jboolean, (JObject,), \"and \")\n",
    "jcall(a, \"add\", jboolean, (JObject,), \"the \")\n",
    "jcall(a, \"add\", jboolean, (JObject,), \"slithy \")\n",
    "jcall(a, \"add\", jboolean, (JObject,), \"toves,\")\n",
    "\n",
    "# Now iterate thru' the array and push it on a Julia array ...\n",
    "# ... converting the bit type to an (unsafe) string.\n",
    "#\n",
    "t = Array{Any, 1}()\n",
    "for i in JavaCall.iterator(a)\n",
    "  push!(t, unsafe_string(i))\n",
    "end\n",
    "\n",
    "# Evaluate the  result.\n",
    "join(t)\n"
   ]
  },
  {
   "cell_type": "markdown",
   "metadata": {},
   "source": [
    "---"
   ]
  },
  {
   "cell_type": "markdown",
   "metadata": {},
   "source": [
    "## O/S commands and Pipelines"
   ]
  },
  {
   "cell_type": "code",
   "execution_count": 15,
   "metadata": {},
   "outputs": [
    {
     "data": {
      "text/plain": [
       "Cmd"
      ]
     },
     "execution_count": 15,
     "metadata": {},
     "output_type": "execute_result"
    }
   ],
   "source": [
    "# Get a webpage using curl or wget\n",
    "# Notice the backticks\n",
    "# First check that curl (or wget) is available, ...\n",
    "# ... otherwise you will need to install it.\n",
    "#\n",
    "cmd = `which curl`\n",
    "typeof(cmd)"
   ]
  },
  {
   "cell_type": "code",
   "execution_count": 16,
   "metadata": {},
   "outputs": [
    {
     "name": "stdout",
     "output_type": "stream",
     "text": [
      "/Users/malcolm/anaconda/bin/curl\n"
     ]
    },
    {
     "data": {
      "text/plain": [
       "Process(`\u001b[4mwhich\u001b[24m \u001b[4mcurl\u001b[24m`, ProcessExited(0))"
      ]
     },
     "execution_count": 16,
     "metadata": {},
     "output_type": "execute_result"
    }
   ],
   "source": [
    "#=\n",
    "  Commands now need to be run, i.e. they are not executed immediately\n",
    "  Since commands run as separate tasks, it is usually preferable to\n",
    "  suppress the output of the run() function\n",
    "\n",
    "  The task output will goto STDOUT (by default) but can be captured\n",
    "  and used by the Julia program\n",
    "=#\n",
    "run(cmd)"
   ]
  },
  {
   "cell_type": "code",
   "execution_count": 17,
   "metadata": {},
   "outputs": [
    {
     "name": "stdout",
     "output_type": "stream",
     "text": [
      "<!DOCTYPE html>\n",
      "<html>\n",
      "<head>\n",
      "<title>Mastering Julia Cover</title>\n",
      "<style type=\"text/css\">\n",
      "h2 { font-family: verdana; font-size: 150%;}\n",
      "p  { font-family: courier; font-size: 120%; }\n",
      "</style>\n",
      "</head>\n",
      "<body>\n",
      "<h2>Mastering Julia</h2>\n",
      "<p><i>Malcolm Sherrington (2015)</i></p>\n",
      "<img src=\"images/mastering-julia.jpg\" alt=\"Mastering Julia\" />\n",
      "<p>&nbsp;</p>\n",
      "</body>\n",
      "</html>"
     ]
    },
    {
     "name": "stderr",
     "output_type": "stream",
     "text": [
      "  % Total    % Received % Xferd  Average Speed   Time    Time     Time  Current\n",
      "                                 Dload  Upload   Total   Spent    Left  Speed\n",
      "\r\n",
      "  0     0    0     0    0     0      0      0 --:--:-- --:--:-- --:--:--     0\r\n",
      "100   364  100   364    0     0   4756      0 --:--:-- --:--:-- --:--:--  5055\n"
     ]
    }
   ],
   "source": [
    "# We can use curl to get the webpage ...\n",
    "# .. and can do it in one step\n",
    "proc = run(`curl \"http://LondonJulia.org/mastering-julia.html\"`);"
   ]
  },
  {
   "cell_type": "code",
   "execution_count": null,
   "metadata": {
    "collapsed": true
   },
   "outputs": [],
   "source": [
    "# Look at Base:process.jl for definition of Julia process structure\n",
    "\n",
    "#=\n",
    "mutable struct Process <: AbstractPipe\n",
    "    cmd::Cmd\n",
    "    handle::Ptr{Cvoid}\n",
    "    in::IO\n",
    "    out::IO\n",
    "    err::IO\n",
    "    exitcode::Int64\n",
    "    termsignal::Int32\n",
    "    exitnotify::Condition\n",
    "    closenotify::Condition\n",
    "    ...\n",
    "    ...\n",
    "end\n",
    "=#\n",
    "\n",
    "proc.exitcode   # Zero is normal exit status"
   ]
  },
  {
   "cell_type": "code",
   "execution_count": 18,
   "metadata": {},
   "outputs": [
    {
     "data": {
      "text/plain": [
       "\"/Users/malcolm/PacktPub/Alice\""
      ]
     },
     "execution_count": 18,
     "metadata": {},
     "output_type": "execute_result"
    }
   ],
   "source": [
    "cd(string(ENV[\"HOME\"],\"/PacktPub/Alice\"))\n",
    "pwd()  #  Needs to be where the chapter 5 files are"
   ]
  },
  {
   "cell_type": "code",
   "execution_count": 19,
   "metadata": {},
   "outputs": [
    {
     "data": {
      "text/plain": [
       "wc (generic function with 1 method)"
      ]
     },
     "execution_count": 19,
     "metadata": {},
     "output_type": "execute_result"
    }
   ],
   "source": [
    "# Define a function to use the wordcount ('wc') utility\n",
    "wc(f) = isfile(f) && run(`wc $f`)"
   ]
  },
  {
   "cell_type": "code",
   "execution_count": 20,
   "metadata": {
    "collapsed": true
   },
   "outputs": [],
   "source": [
    "# Count the number of occurrences of 'beaver\" in the Hunting of the Snark,\n",
    "# piping the output to a file\n",
    "\n",
    "txtfile = \"hunting-the-snark.txt\";\n",
    "logfile = \"hunting-the-snark.log\";\n",
    "\n",
    "run(pipeline(`grep -i beaver $txtfile`,stdout=logfile));"
   ]
  },
  {
   "cell_type": "code",
   "execution_count": 21,
   "metadata": {},
   "outputs": [
    {
     "name": "stdout",
     "output_type": "stream",
     "text": [
      "      19     138     821 hunting-the-snark.log\n"
     ]
    }
   ],
   "source": [
    "wc(logfile);"
   ]
  },
  {
   "cell_type": "code",
   "execution_count": 22,
   "metadata": {},
   "outputs": [
    {
     "name": "stdout",
     "output_type": "stream",
     "text": [
      "      49     371    2202 hunting-the-snark.log\n"
     ]
    }
   ],
   "source": [
    "# Do this again for the bellman but append the output to the log file.\n",
    "\n",
    "run(pipeline(`grep -i bellman $txtfile`,stdout=logfile,append=true));\n",
    "wc(logfile);"
   ]
  },
  {
   "cell_type": "code",
   "execution_count": 23,
   "metadata": {},
   "outputs": [
    {
     "name": "stdout",
     "output_type": "stream",
     "text": [
      "2523:He could only kill Beavers. The Bellman looked scared,\n"
     ]
    }
   ],
   "source": [
    "#=\n",
    "  Do we have any lines with both beaver and bellman\n",
    "  Note in the 'grep' we ignored case (-i) but will still find\n",
    "  plurals and possibly punctuation, viz.: Beavers.\n",
    "  I'll attend to this later.\n",
    "=#\n",
    "run(pipeline(`grep -bellman $txtfile`,`grep -i beaver`));"
   ]
  },
  {
   "cell_type": "markdown",
   "metadata": {},
   "source": [
    "---\n",
    "\n",
    "### A useful utility to find large files"
   ]
  },
  {
   "cell_type": "code",
   "execution_count": 1,
   "metadata": {},
   "outputs": [
    {
     "data": {
      "text/plain": [
       "ftop (generic function with 3 methods)"
      ]
     },
     "execution_count": 1,
     "metadata": {},
     "output_type": "execute_result"
    }
   ],
   "source": [
    "function ftop(dir=\".\", nf=20)\n",
    "  @assert nf > 0\n",
    "  efind =  `find $dir -type f -iname \"*\" -exec du -sh \"{}\" + `\n",
    "  try\n",
    "    run(pipeline(efind,`sort -rh`,`head -$nf`))\n",
    "    println(\"Done.\")\n",
    "  catch\n",
    "    println(\"No files found.\")\n",
    "  end\n",
    "end"
   ]
  },
  {
   "cell_type": "code",
   "execution_count": 4,
   "metadata": {},
   "outputs": [
    {
     "name": "stdout",
     "output_type": "stream",
     "text": [
      "300M\t/Users/malcolm/PacktPub/Chp05/Files/access.log\n",
      "160M\t/Users/malcolm/PacktPub/Chp05/Files/access_log\n",
      "135M\t/Users/malcolm/PacktPub/Chp06/Intro to JuliaDB.mp4\n",
      " 49M\t/Users/malcolm/PacktPub/Chp05/Files/javaforosx.dmg\n",
      " 18M\t/Users/malcolm/PacktPub/Julia for Data Science.pdf\n",
      " 11M\t/Users/malcolm/PacktPub/4795OS-Code/Getting_Started_with_Julia_Programming.pdf\n",
      "3.6M\t/Users/malcolm/PacktPub/.ipynb_checkpoints/AD-checkpoint.ipynb\n",
      "3.4M\t/Users/malcolm/PacktPub/Julia Documentation.pdf\n",
      "1.7M\t/Users/malcolm/PacktPub/naivebayes.pdf\n",
      "1.3M\t/Users/malcolm/PacktPub/Chp04/Chp04.pdf\n",
      "Done.\n"
     ]
    }
   ],
   "source": [
    "dd = ENV[\"HOME\"]*\"/PacktPub\"\n",
    "ftop(dd,10)\n"
   ]
  },
  {
   "cell_type": "code",
   "execution_count": null,
   "metadata": {
    "collapsed": true
   },
   "outputs": [],
   "source": [
    "# Code to run from the command line\n",
    "# Source: ftop-main.jl\n",
    "\n",
    "#=\n",
    "# See if any arguments have been passed\n",
    "# If so process them otherwise set the defaults\n",
    "#\n",
    "nargs = size(ARGS)[1]\n",
    "if nargs > 2\n",
    "  println(\"usage: ftop [dir [nfiles]]\")\n",
    "  exit(-1)\n",
    "else\n",
    "  dir = (nargs > 0) ? ARGS[1] : \".\"\n",
    "  nf  = (nargs > 1) ? ARGS[2] : 20\n",
    "end\n",
    "\n",
    "# Main 'find' command\n",
    "efind =  `find $dir -type f -iname \"*\" -exec du -sh \"{}\" + `\n",
    "\n",
    "# Get and print the directory to be searched\n",
    "cwd = string(pwd(),\"/\",dir)\n",
    "println(\"Directory: $cwd\")\n",
    "\n",
    "# Then run the pipeline\n",
    "try\n",
    "  run(pipeline(efind,`sort -rh`,`head -$nf`))\n",
    "  println(\"Done.\")\n",
    "catch\n",
    "  println(\"No files found.\")\n",
    "end\n",
    "=#"
   ]
  },
  {
   "cell_type": "markdown",
   "metadata": {},
   "source": [
    "---"
   ]
  },
  {
   "cell_type": "markdown",
   "metadata": {},
   "source": [
    "## Perl One Liners"
   ]
  },
  {
   "cell_type": "code",
   "execution_count": 5,
   "metadata": {},
   "outputs": [
    {
     "name": "stdout",
     "output_type": "stream",
     "text": [
      "deedeed\n",
      "degged\n",
      "hallah\n",
      "kakkak\n",
      "murdrum\n",
      "redder\n",
      "repaper\n",
      "retter\n",
      "reviver\n",
      "rotator\n",
      "sooloos\n",
      "tebbet\n",
      "terret\n"
     ]
    }
   ],
   "source": [
    "#=\n",
    "  Perl has fallen out of fashion with the rise of Python but still\n",
    "  but still remains one of the best methods for data munging.\n",
    "\n",
    "  Unix distros and OSX (normally) have Perl available but in Windows\n",
    "  it needs to installed and on the executable path.\n",
    "\n",
    "  Julia performance in handling string is not one of its greatest strengths\n",
    "  so munging large files can successfully done using Perl.\n",
    "\n",
    "  Note:\n",
    "  Julia has introduced an analytical engine (JuliaDB) to tackle the\n",
    "  processing of large datasets, employing some clever memory management\n",
    "  techniques and we will discuss this in the next chapter\n",
    "\n",
    "=#\n",
    "\n",
    "# On OSX and Linux, there is a word list in /usr/share/dict\n",
    "# This command outputs an palindromes of 6 or more letters\n",
    "# (I am not try to teach Perl but most of the syntax is easily followed)\n",
    "cmd = `perl -nle 'print if $_ eq reverse && length > 5' /usr/share/dict/words`\n",
    "run(cmd);"
   ]
  },
  {
   "cell_type": "code",
   "execution_count": 7,
   "metadata": {},
   "outputs": [
    {
     "data": {
      "text/plain": [
       "(UInt8, 97)"
      ]
     },
     "execution_count": 7,
     "metadata": {},
     "output_type": "execute_result"
    }
   ],
   "source": [
    "# Here is a work-around using temporary files\n",
    "# Capture the output of palindrome command and\n",
    "\n",
    "tmpfile = mktemp(tempdir());   # Alternative to tempfile() call\n",
    "cmd = `perl -nle 'print if $_ eq reverse && length > 5' /usr/share/dict/words`\n",
    "run(pipeline(cmd; stdout=tmpfile));\n",
    "dmp = read(tmpfile);\n",
    "run(`rm -f $tmpfile`);  # Good idea to remove the temporary file\n",
    "\n",
    "# Dump is a byte array\n",
    "(eltype(dmp),length(dmp))"
   ]
  },
  {
   "cell_type": "code",
   "execution_count": 8,
   "metadata": {},
   "outputs": [
    {
     "data": {
      "text/plain": [
       "\"deedeed\\ndegged\\nhallah\\nkakkak\\nmurdrum\\nredder\\nrepaper\\nretter\\nreviver\\nrotator\\nsooloos\\ntebbet\\nterret\\n\""
      ]
     },
     "execution_count": 8,
     "metadata": {},
     "output_type": "execute_result"
    }
   ],
   "source": [
    "# Convert the byte array to a string\n",
    "# Note the carriage returns\n",
    "ss = String(dmp)"
   ]
  },
  {
   "cell_type": "code",
   "execution_count": 9,
   "metadata": {},
   "outputs": [
    {
     "data": {
      "text/plain": [
       "Array{SubString{String},1}"
      ]
     },
     "execution_count": 9,
     "metadata": {},
     "output_type": "execute_result"
    }
   ],
   "source": [
    "# Remove the trailing \\n and then split into words\n",
    "sa = split(chomp(ss),\"\\n\")\n",
    "typeof(sa)"
   ]
  },
  {
   "cell_type": "code",
   "execution_count": 10,
   "metadata": {},
   "outputs": [
    {
     "name": "stdout",
     "output_type": "stream",
     "text": [
      " 299 the\n",
      " 153 and\n",
      " 123 a\n",
      " 105 to\n",
      "  91 it\n",
      "  82 with\n",
      "  76 of\n",
      "  76 in\n",
      "  75 he\n",
      "  69 that\n"
     ]
    }
   ],
   "source": [
    "# PERL is good (and quick) for processing strings\n",
    "# A large pipeline (probably not on Windows)\n",
    "# Get top 10 words in the Hunting of the Snark, ignoring blank lines\n",
    "# I'll leave it the the reader ti work out what the command do!\n",
    "#\n",
    "cd(ENV[\"HOME\"]*\"/PacktPub/Alice\")\n",
    "\n",
    "fl = \"hunting-the-snark.txt\";\n",
    "c1 = `perl -pne 'tr/[A-Z]/[a-z]/' $(fl)`;\n",
    "c2 = `perl -ne 'print join(\"\\n\", split(/\\s+/,$_));print(\"\\n\")'`;\n",
    "\n",
    "run(pipeline(c1,c2,`sort`,`grep -ve '^$'`,`uniq -c`,`sort -rn`,`head -10`));"
   ]
  },
  {
   "cell_type": "code",
   "execution_count": 11,
   "metadata": {},
   "outputs": [
    {
     "name": "stdout",
     "output_type": "stream",
     "text": [
      "  25 bellman\n",
      "   4 bellman,\n",
      "   1 bellman's\n"
     ]
    }
   ],
   "source": [
    "# Look at occurrences of Bellman\n",
    "#\n",
    "run(pipeline(c1,c2,`sort`,`grep -ve '^$'`,`uniq -c`,`sort -rn`,`grep -i Bellman`));"
   ]
  },
  {
   "cell_type": "code",
   "execution_count": 12,
   "metadata": {},
   "outputs": [
    {
     "name": "stdout",
     "output_type": "stream",
     "text": [
      "   1 'fritter\n",
      "   1 'friends,\n",
      "   1 'for,\n",
      "   1 'dunce.')\n",
      "   1 'come,\n",
      "   1 'candle-ends,'\n",
      "   1 'but,\n",
      "   1 'be\n",
      "   1 'a\n",
      "   1 '-jum!'\n"
     ]
    }
   ],
   "source": [
    "# Suspect there is a problem with punctuation marks\n",
    "# Here are the bottom 10 words.\n",
    "#\n",
    "run(pipeline(c1,c2,`sort`,`grep -ve '^$'`,`uniq -c`,`sort -rn`,`tail -10`));"
   ]
  },
  {
   "cell_type": "code",
   "execution_count": 13,
   "metadata": {},
   "outputs": [
    {
     "data": {
      "text/plain": [
       "munge (generic function with 1 method)"
      ]
     },
     "execution_count": 13,
     "metadata": {},
     "output_type": "execute_result"
    }
   ],
   "source": [
    "# So we need to add an extra task in the pipe\n",
    "# If we do this through a function we can pass any poem\n",
    "#\n",
    "function munge(fl)\n",
    "  c1 = `perl -pne 'tr/[A-Z]/[a-z]/' $(fl)`;\n",
    "  c2 = `perl -pne 's/()[[:punct:]]//g'`;\n",
    "  c3 = `perl -ne 'print join(\"\\n\", split(/\\s+/,$_));print(\"\\n\")'`\n",
    "  c4 = `grep -ve '^$'`\n",
    "  read(pipeline(c1,c2,c3,`sort`,c4,`uniq -c`,`sort -rn` ))\n",
    "end"
   ]
  },
  {
   "cell_type": "code",
   "execution_count": 14,
   "metadata": {},
   "outputs": [
    {
     "data": {
      "text/plain": [
       "(UInt8, 15889)"
      ]
     },
     "execution_count": 14,
     "metadata": {},
     "output_type": "execute_result"
    }
   ],
   "source": [
    "text = munge(\"hunting-the-snark.txt\");\n",
    "(eltype(text),length(text))"
   ]
  },
  {
   "cell_type": "code",
   "execution_count": 15,
   "metadata": {},
   "outputs": [
    {
     "data": {
      "text/plain": [
       "1323"
      ]
     },
     "execution_count": 15,
     "metadata": {},
     "output_type": "execute_result"
    }
   ],
   "source": [
    "lines = split(String(text),\"\\n\")\n",
    "n = length(lines)"
   ]
  },
  {
   "cell_type": "code",
   "execution_count": 25,
   "metadata": {},
   "outputs": [
    {
     "data": {
      "text/plain": [
       "10-element Array{Array{SubString{String},1},1}:\n",
       " [\"1\", \"aided\"]       \n",
       " [\"1\", \"aghast\"]      \n",
       " [\"1\", \"ages\"]        \n",
       " [\"1\", \"affectionate\"]\n",
       " [\"1\", \"advice\"]      \n",
       " [\"1\", \"additional\"]  \n",
       " [\"1\", \"aboard\"]      \n",
       " [\"1\", \"able\"]        \n",
       " [\"1\", \"abetted\"]     \n",
       " []                   "
      ]
     },
     "execution_count": 25,
     "metadata": {},
     "output_type": "execute_result"
    }
   ],
   "source": [
    "s2 = [split(lines[i]) for i = n-9:n]"
   ]
  },
  {
   "cell_type": "code",
   "execution_count": 20,
   "metadata": {},
   "outputs": [
    {
     "data": {
      "text/plain": [
       "\"/Users/malcolm/PacktPub/Alice\""
      ]
     },
     "execution_count": 20,
     "metadata": {},
     "output_type": "execute_result"
    }
   ],
   "source": [
    "pwd()"
   ]
  },
  {
   "cell_type": "code",
   "execution_count": 21,
   "metadata": {
    "collapsed": true
   },
   "outputs": [],
   "source": [
    "# We can use the process in/out channels to capture the I/O\n",
    "# (rev.pl is in the parent folder)\n",
    "jabber = \"jabberwocky.txt\";\n",
    "proc = open(`../rev.pl $jabber`,\"r+\");\n",
    "close(proc.in);"
   ]
  },
  {
   "cell_type": "code",
   "execution_count": 22,
   "metadata": {},
   "outputs": [
    {
     "data": {
      "text/plain": [
       "Pipe(RawFD(0xffffffff) closed => RawFD(0x00000041) open, 0 bytes waiting)"
      ]
     },
     "execution_count": 22,
     "metadata": {},
     "output_type": "execute_result"
    }
   ],
   "source": [
    "proc.out"
   ]
  },
  {
   "cell_type": "code",
   "execution_count": 23,
   "metadata": {
    "collapsed": true
   },
   "outputs": [],
   "source": [
    "poem = readlines(proc.out);\n",
    "close(proc.out)"
   ]
  },
  {
   "cell_type": "code",
   "execution_count": 24,
   "metadata": {},
   "outputs": [
    {
     "data": {
      "text/plain": [
       "34-element Array{String,1}:\n",
       " \"sevot yhtils eht dna ,gillirb sawT'\"      \n",
       " \":ebaw eht ni elbmig dna eryg diD\"         \n",
       " \",sevogorob eht erew ysmim llA\"            \n",
       " \".ebargtuo shtar emom eht dnA\"             \n",
       " \"\"                                         \n",
       " \"!nos ym ,kcowrebbaJ eht eraweB'\"          \n",
       " \"!hctac taht swalc eht ,etib taht swaj ehT\"\n",
       " \"nuhs dna ,drib bujbuJ eht eraweB\"         \n",
       " \"'!hctansrednaB suoimurf ehT\"              \n",
       " \"\"                                         \n",
       " \":dnah ni drows laprov sih koot eH\"        \n",
       " \"-- thguos eh eof emoxnam eht emit gnoL\"   \n",
       " \",eert mutmuT eht yb eh detser oS\"         \n",
       " ⋮                                          \n",
       " \"daeh sti htiw dna ,daed ti tfel eH\"       \n",
       " \".kcab gnihpmulag tnew eH\"                 \n",
       " \"\"                                         \n",
       " \"?kcowrebbaJ eht nials uoht tsah dnA'\"     \n",
       " \"!yob hsimaeb ym ,smra ym ot emoC\"         \n",
       " \"'!yallaC !hoollaC !yad suojbarf hO\"       \n",
       " \".yoj sih ni deltrohc eH\"                  \n",
       " \"\"                                         \n",
       " \"sevot yhtils eht dna ,gillirb sawT'\"      \n",
       " \":ebaw eht ni elbmig dna eryg diD\"         \n",
       " \",sevogorob eht erew ysmim llA\"            \n",
       " \"ebargtuo shtar emom eht dnA\"              "
      ]
     },
     "execution_count": 24,
     "metadata": {},
     "output_type": "execute_result"
    }
   ],
   "source": [
    "poem"
   ]
  },
  {
   "cell_type": "markdown",
   "metadata": {},
   "source": [
    "---"
   ]
  },
  {
   "cell_type": "code",
   "execution_count": 26,
   "metadata": {},
   "outputs": [
    {
     "name": "stdout",
     "output_type": "stream",
     "text": [
      "/Users/malcolm/bin/perl6\n"
     ]
    }
   ],
   "source": [
    "# We are not limited to just Perl(5)\n",
    "# Get Perl6 from https://rakudo.org/files/\n",
    "# Put it on the path OR setup a symbolic link to the binary:\n",
    "# viz: perl6 -> /Applications/Rakudo/bin/perl6\n",
    "\n",
    "run(`which perl6`);"
   ]
  },
  {
   "cell_type": "code",
   "execution_count": 28,
   "metadata": {},
   "outputs": [
    {
     "name": "stdout",
     "output_type": "stream",
     "text": [
      "'You must know ---' said the Judge: but the Snark exclaimed 'Fudge!'\n"
     ]
    }
   ],
   "source": [
    "# Use Perl6 to find the line of the greatest length\n",
    "#\n",
    "run(`perl6 -e 'my $max=\"\";\n",
    "      for (lines) {$max = $_ if .chars > $max.chars};\n",
    "      END { $max.say }' hunting-the-snark.txt`);"
   ]
  },
  {
   "cell_type": "markdown",
   "metadata": {},
   "source": [
    "---"
   ]
  },
  {
   "cell_type": "code",
   "execution_count": 29,
   "metadata": {},
   "outputs": [
    {
     "name": "stdout",
     "output_type": "stream",
     "text": [
      "Fit the First\u001b[31m\u001b[0m\n",
      "THE LANDING\u001b[31m\u001b[0m\n",
      "\u001b[31m\u001b[0m\n",
      "'Just the place for a Snark!' the Bellma\u001b[31mn cried,\u001b[0m\n",
      "As he landed his crew with care;\u001b[31m\u001b[0m\n",
      "Supporting each man on the top of the ti\u001b[31mde\u001b[0m\n",
      "By a finger entwined in his hair.\u001b[31m\u001b[0m\n",
      "\u001b[31m\u001b[0m\n",
      "'Just the place for a Snark! I have said\u001b[31m it twice:\u001b[0m\n",
      "That alone should encourage the crew.\u001b[31m\u001b[0m\n",
      "Just the place for a Snark! I have said \u001b[31mit thrice:\u001b[0m\n",
      "What i tell you three times is true.'\u001b[31m\u001b[0m\n",
      "\u001b[31m\u001b[0m\n",
      "The crew was complete: it included a Boo\u001b[31mts--\u001b[0m\n",
      "A maker of Bonnets and Hoods--\u001b[31m\u001b[0m\n",
      "A Barrister, brought to arrange their di\u001b[31msputes--\u001b[0m\n",
      "And a Broker, to value their goods.\u001b[31m\u001b[0m\n",
      "\u001b[31m\u001b[0m\n",
      "A Billiard-maker, whose skill was immens\u001b[31me,\u001b[0m\n",
      "Might perhaps have won more than his sha\u001b[31mre--\u001b[0m\n",
      "But a Banker, engaged at enormous expens\u001b[31me,\u001b[0m\n",
      "Had the whole of their cash in his care.\u001b[31m\u001b[0m\n",
      "\u001b[31m\u001b[0m\n",
      "There was also a Beaver, that paced on t\u001b[31mhe deck,\u001b[0m\n",
      "Or would sit making lace in the bow:\u001b[31m\u001b[0m\n",
      "And had often (the Bellman said) saved t\u001b[31mhem from wreck,\u001b[0m\n",
      "Though none of the sailors knew how.\u001b[31m\u001b[0m\n",
      "\u001b[31m\u001b[0m\n",
      "There was one who was famed for the numb\u001b[31mer of things\u001b[0m\n",
      "He forgot when he entered the ship:\u001b[31m\u001b[0m\n",
      "His umbrella, his watch, all his jewels \u001b[31mand rings,\u001b[0m\n",
      "And the clothes he had bought for the tr\u001b[31mip.\u001b[0m\n",
      "\u001b[31m\u001b[0m\n",
      "He had forty-two boxes, all carefully pa\u001b[31mcked,\u001b[0m\n",
      "With his name painted clearly on each:\u001b[31m\u001b[0m\n",
      "But, since he omitted to mention the fac\u001b[31mt,\u001b[0m\n",
      "They were all left behind on the beach.\u001b[31m\u001b[0m\n",
      "\u001b[31m\u001b[0m\n",
      "The loss of his clothes hardly mattered,\u001b[31m because\u001b[0m\n",
      "He had seven coats on when he came,\u001b[31m\u001b[0m\n",
      "With three pairs of boots--but the worst\u001b[31m of it was,\u001b[0m\n",
      "He had wholly forgotten his name.\u001b[31m\u001b[0m\n",
      "\u001b[31m\u001b[0m\n",
      "He would answer to 'Hi!' or to any loud \u001b[31mcry,\u001b[0m\n",
      "Such as 'Fry me!' or 'Fritter my wig!'\u001b[31m\u001b[0m\n",
      "To 'What-you-may-call-um!' or 'What-was-\u001b[31mhis-name!'\u001b[0m\n",
      "But especially 'Thing-um-a-jig!'\u001b[31m\u001b[0m\n",
      "\u001b[31m\u001b[0m\n",
      "While, for those who preferred a more fo\u001b[31mrcible word,\u001b[0m\n",
      "He had different names from these:\u001b[31m\u001b[0m\n",
      "His intimate friends called him 'Candle-\u001b[31mends,'\u001b[0m\n",
      "And his enemies 'Toasted-cheese.'\u001b[31m\u001b[0m\n",
      "\u001b[31m\u001b[0m\n",
      "'His form in ungainly--his intellect sma\u001b[31mll--'\u001b[0m\n",
      "(So the Bellman would often remark)\u001b[31m\u001b[0m\n",
      "'But his courage is perfect! And that, a\u001b[31mfter all,\u001b[0m\n",
      "Is the thing that one needs with a Snark\u001b[31m.'\u001b[0m\n",
      "\u001b[31m\u001b[0m\n",
      "He would joke with hyenas, returning the\u001b[31mir stare\u001b[0m\n",
      "With an impudent wag of the head:\u001b[31m\u001b[0m\n",
      "And he once went a walk, paw-in-paw, wit\u001b[31mh a bear,\u001b[0m\n",
      "'Just to keep up its spirits,' he said.\u001b[31m\u001b[0m\n",
      "\u001b[31m\u001b[0m\n",
      "He came as a Baker: but owned, when too \u001b[31mlate--\u001b[0m\n",
      "And it drove the poor Bellman half-mad--\u001b[31m\u001b[0m\n",
      "He could only bake Bridecake--for which,\u001b[31m I may state,\u001b[0m\n",
      "No materials were to be had.\u001b[31m\u001b[0m\n",
      "\u001b[31m\u001b[0m\n",
      "The last of the crew needs especial rema\u001b[31mrk,\u001b[0m\n",
      "Though he looked an incredible dunce:\u001b[31m\u001b[0m\n",
      "He had just one idea--but, that one bein\u001b[31mg 'Snark,'\u001b[0m\n",
      "The good Bellman engaged him at once.\u001b[31m\u001b[0m\n",
      "\u001b[31m\u001b[0m\n",
      "He came as a Butcher: but gravely declar\u001b[31med,\u001b[0m\n",
      "When the ship had been sailing a week,\u001b[31m\u001b[0m\n",
      "He could only kill Beavers. The Bellman \u001b[31mlooked scared,\u001b[0m\n",
      "And was almost too frightened to speak:\u001b[31m\u001b[0m\n",
      "\u001b[31m\u001b[0m\n",
      "But at length he explained, in a tremulo\u001b[31mus tone,\u001b[0m\n",
      "There was only one Beaver on board;\u001b[31m\u001b[0m\n",
      "And that was a tame one he had of his ow\u001b[31mn,\u001b[0m\n",
      "Whose death would be deeply deplored.\u001b[31m\u001b[0m\n",
      "\u001b[31m\u001b[0m\n",
      "The Beaver, who happened to hear the rem\u001b[31mark,\u001b[0m\n",
      "Protested, with tears in its eyes,\u001b[31m\u001b[0m\n",
      "That not even the rapture of hunting the\u001b[31m Snark\u001b[0m\n",
      "Could atone for that dismal surprise!\u001b[31m\u001b[0m\n",
      "\u001b[31m\u001b[0m\n",
      "It strongly advised that the Butcher sho\u001b[31muld be\u001b[0m\n",
      "Conveyed in a separate ship:\u001b[31m\u001b[0m\n",
      "But the Bellman declared that would neve\u001b[31mr agree\u001b[0m\n",
      "With the plans he had made for the trip:\u001b[31m\u001b[0m\n",
      "\u001b[31m\u001b[0m\n",
      "Navigation was always a difficult art,\u001b[31m\u001b[0m\n",
      "Though with only one ship and one bell:\u001b[31m\u001b[0m\n",
      "And he feared he must really decline, fo\u001b[31mr his part,\u001b[0m\n",
      "Undertaking another as well.\u001b[31m\u001b[0m\n",
      "\u001b[31m\u001b[0m\n",
      "The Beaver's best course was, no doubt, \u001b[31mto procure\u001b[0m\n",
      "A second-hand dagger-proof coat--\u001b[31m\u001b[0m\n",
      "So the Baker advised it-- and next, to i\u001b[31mnsure\u001b[0m\n",
      "Its life in some Office of note:\u001b[31m\u001b[0m\n",
      "\u001b[31m\u001b[0m\n",
      "This the Banker suggested, and offered f\u001b[31mor hire\u001b[0m\n",
      "(On moderate terms), or for sale,\u001b[31m\u001b[0m\n",
      "Two excellent Policies, one Against Fire\u001b[31m,\u001b[0m\n",
      "And one Against Damage From Hail.\u001b[31m\u001b[0m\n",
      "\u001b[31m\u001b[0m\n",
      "Yet still, ever after that sorrowful day\u001b[31m,\u001b[0m\n",
      "Whenever the Butcher was by,\u001b[31m\u001b[0m\n",
      "The Beaver kept looking the opposite way\u001b[31m,\u001b[0m\n",
      "And appeared unaccountably shy.\u001b[31m\u001b[0m\n",
      "\u001b[31m\u001b[0m\n",
      "\u001b[31m\u001b[0m\n",
      "Fit the Second\u001b[31m\u001b[0m\n",
      "THE BELLMAN'S SPEECH\u001b[31m\u001b[0m\n",
      "\u001b[31m\u001b[0m\n",
      "The Bellman himself they all praised to \u001b[31mthe skies--\u001b[0m\n",
      "Such a carriage, such ease and such grac\u001b[31me!\u001b[0m\n",
      "Such solemnity, too! One could see he wa\u001b[31ms wise,\u001b[0m\n",
      "The moment one looked in his face!\u001b[31m\u001b[0m\n",
      "\u001b[31m\u001b[0m\n",
      "He had bought a large map representing t\u001b[31mhe sea,\u001b[0m\n",
      "Without the least vestige of land:\u001b[31m\u001b[0m\n",
      "And the crew were much pleased when they\u001b[31m found it to be\u001b[0m\n",
      "A map they could all understand.\u001b[31m\u001b[0m\n",
      "\u001b[31m\u001b[0m\n",
      "'What's the good of Mercator's North Pol\u001b[31mes and Equators,\u001b[0m\n",
      "Tropics, Zones, and Meridian Lines?'\u001b[31m\u001b[0m\n",
      "So the Bellman would cry: and the crew w\u001b[31mould reply\u001b[0m\n",
      "'They are merely conventional signs!\u001b[31m\u001b[0m\n",
      "\u001b[31m\u001b[0m\n",
      "'Other maps are such shapes, with their \u001b[31mislands and capes!\u001b[0m\n",
      "But we've got our brave Captain to thank\u001b[31m:\u001b[0m\n",
      "(So the crew would protest) 'that he's b\u001b[31mought us the best--\u001b[0m\n",
      "A perfect and absolute blank!'\u001b[31m\u001b[0m\n",
      "\u001b[31m\u001b[0m\n",
      "This was charming, no doubt; but they sh\u001b[31mortly found out\u001b[0m\n",
      "That the Captain they trusted so well\u001b[31m\u001b[0m\n",
      "Had only one notion for crossing the oce\u001b[31man,\u001b[0m\n",
      "And that was to tingle his bell.\u001b[31m\u001b[0m\n",
      "\u001b[31m\u001b[0m\n",
      "He was thoughtful and grave--but the ord\u001b[31mers he gave\u001b[0m\n",
      "Were enough to bewilder a crew.\u001b[31m\u001b[0m\n",
      "When he cried 'Steer to starboard, but k\u001b[31meep her head larboard!'\u001b[0m\n",
      "What on earth was the helmsman to do?\u001b[31m\u001b[0m\n",
      "\u001b[31m\u001b[0m\n",
      "Then the bowsprit got mixed with the rud\u001b[31mder sometimes:\u001b[0m\n",
      "A thing, as the Bellman remarked,\u001b[31m\u001b[0m\n",
      "That frequently happens in tropical clim\u001b[31mes,\u001b[0m\n",
      "When a vessel is, so to speak, 'snarked.\u001b[31m'\u001b[0m\n",
      "\u001b[31m\u001b[0m\n",
      "But the principal failing occurred in th\u001b[31me sailing,\u001b[0m\n",
      "And the Bellman, perplexed and distresse\u001b[31md,\u001b[0m\n",
      "Said he had hoped, at least, when the wi\u001b[31mnd blew due East,\u001b[0m\n",
      "That the ship would not travel due West!\u001b[31m\u001b[0m\n",
      "\u001b[31m\u001b[0m\n",
      "But the danger was past--they had landed\u001b[31m at last,\u001b[0m\n",
      "With their boxes, portmanteaus, and bags\u001b[31m:\u001b[0m\n",
      "Yet at first sight the crew were not ple\u001b[31mased with the view,\u001b[0m\n",
      "Which consisted to chasms and crags.\u001b[31m\u001b[0m\n",
      "\u001b[31m\u001b[0m\n",
      "The Bellman perceived that their spirits\u001b[31m were low,\u001b[0m\n",
      "And repeated in musical tone\u001b[31m\u001b[0m\n",
      "Some jokes he had kept for a season of w\u001b[31moe--\u001b[0m\n",
      "But the crew would do nothing but groan.\u001b[31m\u001b[0m\n",
      "\u001b[31m\u001b[0m\n",
      "He served out some grog with a liberal h\u001b[31mand,\u001b[0m\n",
      "And bade them sit down on the beach:\u001b[31m\u001b[0m\n",
      "And they could not but own that their Ca\u001b[31mptain looked grand,\u001b[0m\n",
      "As he stood and delivered his speech.\u001b[31m\u001b[0m\n",
      "\u001b[31m\u001b[0m\n",
      "'Friends, Romans, and countrymen, lend m\u001b[31me your ears!'\u001b[0m\n",
      "(They were all of them fond of quotation\u001b[31ms:\u001b[0m\n",
      "So they drank to his health, and they ga\u001b[31mve him three cheers,\u001b[0m\n",
      "While he served out additional rations).\u001b[31m\u001b[0m\n",
      "\u001b[31m\u001b[0m\n",
      "'We have sailed many months, we have sai\u001b[31mled many weeks,\u001b[0m\n",
      "(Four weeks to the month you may mark),\u001b[31m\u001b[0m\n",
      "But never as yet ('tis your Captain who \u001b[31mspeaks)\u001b[0m\n",
      "Have we caught the least glimpse of a Sn\u001b[31mark!\u001b[0m\n",
      "\u001b[31m\u001b[0m\n",
      "'We have sailed many weeks, we have sail\u001b[31med many days,\u001b[0m\n",
      "(Seven days to the week I allow),\u001b[31m\u001b[0m\n",
      "But a Snark, on the which we might lovin\u001b[31mgly gaze,\u001b[0m\n",
      "We have never beheld till now!\u001b[31m\u001b[0m\n",
      "\u001b[31m\u001b[0m\n",
      "'Come, listen, my men, while I tell you \u001b[31magain\u001b[0m\n",
      "The five unmistakable marks\u001b[31m\u001b[0m\n",
      "By which you may know, wheresoever you g\u001b[31mo,\u001b[0m\n",
      "The warranted genuine Snarks.\u001b[31m\u001b[0m\n",
      "\u001b[31m\u001b[0m\n",
      "'Let us take them in order. The first is\u001b[31m the taste,\u001b[0m\n",
      "Which is meager and hollow, but crisp:\u001b[31m\u001b[0m\n",
      "Like a coat that is rather too tight in \u001b[31mthe waist,\u001b[0m\n",
      "With a flavor of Will-o-the-wisp.\u001b[31m\u001b[0m\n",
      "\u001b[31m\u001b[0m\n",
      "'Its habit of getting up late you'll agr\u001b[31mee\u001b[0m\n",
      "That it carries too far, when I say\u001b[31m\u001b[0m\n",
      "That it frequently breakfasts at five-o'\u001b[31mclock tea,\u001b[0m\n",
      "And dines on the following day.\u001b[31m\u001b[0m\n",
      "\u001b[31m\u001b[0m\n",
      "'The third is its slowness in taking a j\u001b[31mest.\u001b[0m\n",
      "Should you happen to venture on one,\u001b[31m\u001b[0m\n",
      "It will sigh like a thing that is deeply\u001b[31m distressed:\u001b[0m\n",
      "And it always looks grave at a pun.\u001b[31m\u001b[0m\n",
      "\u001b[31m\u001b[0m\n",
      "'The fourth is its fondness for bathing-\u001b[31mmachines,\u001b[0m\n",
      "Which is constantly carries about,\u001b[31m\u001b[0m\n",
      "And believes that they add to the beauty\u001b[31m of scenes--\u001b[0m\n",
      "A sentiment open to doubt.\u001b[31m\u001b[0m\n",
      "\u001b[31m\u001b[0m\n",
      "'The fifth is ambition. It next will be \u001b[31mright\u001b[0m\n",
      "To describe each particular batch:\u001b[31m\u001b[0m\n",
      "Distinguishing those that have feathers,\u001b[31m and bite,\u001b[0m\n",
      "And those that have whiskers, and scratc\u001b[31mh.\u001b[0m\n",
      "\u001b[31m\u001b[0m\n",
      "'For, although common Snarks do no manne\u001b[31mr of harm,\u001b[0m\n",
      "Yet, I feel it my duty to say,\u001b[31m\u001b[0m\n",
      "Some are Boojums--' The Bellman broke of\u001b[31mf in alarm,\u001b[0m\n",
      "For the Baker had fainted away.\u001b[31m\u001b[0m\n",
      "\u001b[31m\u001b[0m\n",
      "\u001b[31m\u001b[0m\n",
      "Fit the Third\u001b[31m\u001b[0m\n",
      "THE BAKER'S TALE\u001b[31m\u001b[0m\n",
      "\u001b[31m\u001b[0m\n",
      "They roused him with muffins--they rouse\u001b[31md him with ice--\u001b[0m\n",
      "They roused him with mustard and cress--\u001b[31m\u001b[0m\n",
      "They roused him with jam and judicious a\u001b[31mdvice--\u001b[0m\n",
      "They set him conundrums to guess.\u001b[31m\u001b[0m\n",
      "\u001b[31m\u001b[0m\n",
      "When at length he sat up and was able to\u001b[31m speak,\u001b[0m\n",
      "His sad story he offered to tell;\u001b[31m\u001b[0m\n",
      "And the Bellman cried 'Silence! Not even\u001b[31m a shriek!'\u001b[0m\n",
      "And excitedly tingled his bell.\u001b[31m\u001b[0m\n",
      "\u001b[31m\u001b[0m\n",
      "There was silence supreme! Not a shriek,\u001b[31m not a scream,\u001b[0m\n",
      "Scarcely even a howl or a groan,\u001b[31m\u001b[0m\n",
      "As the man they called 'Ho!' told his st\u001b[31mory of woe\u001b[0m\n",
      "In an antediluvian tone.\u001b[31m\u001b[0m\n",
      "\u001b[31m\u001b[0m\n",
      "'My father and mother were honest, thoug\u001b[31mh poor--'\u001b[0m\n",
      "'Skip all that!' cried the Bellman in ha\u001b[31mste.\u001b[0m\n",
      "'If it once becomes dark, there's no cha\u001b[31mnce of a Snark--\u001b[0m\n",
      "We have hardly a minute to waste!'\u001b[31m\u001b[0m\n",
      "\u001b[31m\u001b[0m\n",
      "'I skip forty years,' said the Baker, in\u001b[31m tears,\u001b[0m\n",
      "'And proceed without further remark\u001b[31m\u001b[0m\n",
      "To the day when you took me aboard of yo\u001b[31mur ship\u001b[0m\n",
      "To help you in hunting the Snark.\u001b[31m\u001b[0m\n",
      "\u001b[31m\u001b[0m\n",
      "'A dear uncle of mine (after whom I was \u001b[31mnamed)\u001b[0m\n",
      "Remarked, when I bade him farewell--'\u001b[31m\u001b[0m\n",
      "'Oh, skip your dear uncle!' the Bellman \u001b[31mexclaimed,\u001b[0m\n",
      "As he angrily tingled his bell.\u001b[31m\u001b[0m\n",
      "\u001b[31m\u001b[0m\n",
      "'He remarked to me then,' said that mild\u001b[31mest of men,\u001b[0m\n",
      "' 'If your Snark be a Snark, that is rig\u001b[31mht:\u001b[0m\n",
      "Fetch it home by all means--you may serv\u001b[31me it with greens,\u001b[0m\n",
      "And it's handy for striking a light.\u001b[31m\u001b[0m\n",
      "\u001b[31m\u001b[0m\n",
      "' 'You may seek it with thimbles--and se\u001b[31mek it with care;\u001b[0m\n",
      "You may hunt it with forks and hope;\u001b[31m\u001b[0m\n",
      "You may threaten its life with a railway\u001b[31m-share;\u001b[0m\n",
      "You may charm it with smiles and soap--'\u001b[31m '\u001b[0m\n",
      "\u001b[31m\u001b[0m\n",
      "('That's exactly the method,' the Bellma\u001b[31mn bold\u001b[0m\n",
      "In a hasty parenthesis cried,\u001b[31m\u001b[0m\n",
      "'That's exactly the way I have always be\u001b[31men told\u001b[0m\n",
      "That the capture of Snarks should be tri\u001b[31med!')\u001b[0m\n",
      "\u001b[31m\u001b[0m\n",
      "' 'But oh, beamish nephew, beware of the\u001b[31m day,\u001b[0m\n",
      "If your Snark be a Boojum! For then\u001b[31m\u001b[0m\n",
      "You will softly and suddenly vanish away\u001b[31m,\u001b[0m\n",
      "And never be met with again!'\u001b[31m\u001b[0m\n",
      "\u001b[31m\u001b[0m\n",
      "'It is this, it is this that oppresses m\u001b[31my soul,\u001b[0m\n",
      "When I think of my uncle's last words:\u001b[31m\u001b[0m\n",
      "And my heart is like nothing so much as \u001b[31ma bowl\u001b[0m\n",
      "Brimming over with quivering curds!\u001b[31m\u001b[0m\n",
      "\u001b[31m\u001b[0m\n",
      "'It is this, it is this--' 'We have had \u001b[31mthat before!'\u001b[0m\n",
      "The Bellman indignantly said.\u001b[31m\u001b[0m\n",
      "And the Baker replied 'Let me say it onc\u001b[31me more.\u001b[0m\n",
      "It is this, it is this that I dread!\u001b[31m\u001b[0m\n",
      "\u001b[31m\u001b[0m\n",
      "'I engage with the Snark--every night af\u001b[31mter dark--\u001b[0m\n",
      "In a dreamy delirious fight:\u001b[31m\u001b[0m\n",
      "I serve it with greens in those shadowy \u001b[31mscenes,\u001b[0m\n",
      "And I use it for striking a light:\u001b[31m\u001b[0m\n",
      "\u001b[31m\u001b[0m\n",
      "'But if ever I meet with a Boojum, that \u001b[31mday,\u001b[0m\n",
      "In a moment (of this I am sure),\u001b[31m\u001b[0m\n",
      "I shall softly and suddenly vanish away-\u001b[31m-\u001b[0m\n",
      "And the notion I cannot endure!'\u001b[31m\u001b[0m\n",
      "\u001b[31m\u001b[0m\n",
      "\u001b[31m\u001b[0m\n",
      "Fit the fourth\u001b[31m\u001b[0m\n",
      "THE HUNTING\u001b[31m\u001b[0m\n",
      "\u001b[31m\u001b[0m\n",
      "The Bellman looked uffish, and wrinkled \u001b[31mhis brow.\u001b[0m\n",
      "'If only you'd spoken before!\u001b[31m\u001b[0m\n",
      "It's excessively awkward to mention it n\u001b[31mow,\u001b[0m\n",
      "With the Snark, so to speak, at the door\u001b[31m!\u001b[0m\n",
      "\u001b[31m\u001b[0m\n",
      "'We should all of us grieve, as you well\u001b[31m may believe,\u001b[0m\n",
      "If you never were met with again--\u001b[31m\u001b[0m\n",
      "But surely, my man, when the voyage bega\u001b[31mn,\u001b[0m\n",
      "You might have suggested it then?\u001b[31m\u001b[0m\n",
      "\u001b[31m\u001b[0m\n",
      "'It's excessively awkward to mention it \u001b[31mnow--\u001b[0m\n",
      "As I think I've already remarked.'\u001b[31m\u001b[0m\n",
      "And the man they called 'Hi!' replied, w\u001b[31mith a sigh,\u001b[0m\n",
      "'I informed you the day we embarked.\u001b[31m\u001b[0m\n",
      "\u001b[31m\u001b[0m\n",
      "'You may charge me with murder--or want \u001b[31mof sense--\u001b[0m\n",
      "(We are all of us weak at times):\u001b[31m\u001b[0m\n",
      "But the slightest approach to a false pr\u001b[31metense\u001b[0m\n",
      "Was never among my crimes!\u001b[31m\u001b[0m\n",
      "\u001b[31m\u001b[0m\n",
      "'I said it in Hebrew--I said it in Dutch\u001b[31m--\u001b[0m\n",
      "I said it in German and Greek:\u001b[31m\u001b[0m\n",
      "But I wholly forgot (and it vexes me muc\u001b[31mh)\u001b[0m\n",
      "That English is what you speak!'\u001b[31m\u001b[0m\n",
      "\u001b[31m\u001b[0m\n",
      "''Tis a pitiful tale,' said the Bellman,\u001b[31m whose face\u001b[0m\n",
      "Had grown longer at every word:\u001b[31m\u001b[0m\n",
      "'But, now that you've stated the whole o\u001b[31mf your case,\u001b[0m\n",
      "More debate would be simply absurd.\u001b[31m\u001b[0m\n",
      "\u001b[31m\u001b[0m\n",
      "'The rest of my speech' (he explained to\u001b[31m his men)\u001b[0m\n",
      "'You shall hear when I've leisure to spe\u001b[31mak it.\u001b[0m\n",
      "But the Snark is at hand, let me tell yo\u001b[31mu again!\u001b[0m\n",
      "'Tis your glorious duty to seek it!\u001b[31m\u001b[0m\n",
      "\u001b[31m\u001b[0m\n",
      "'To seek it with thimbles, to seek it wi\u001b[31mth care;\u001b[0m\n",
      "To pursue it with forks and hope;\u001b[31m\u001b[0m\n",
      "To threaten its life with a railway-shar\u001b[31me;\u001b[0m\n",
      "To charm it with smiles and soap!\u001b[31m\u001b[0m\n",
      "\u001b[31m\u001b[0m\n",
      "'For the Snark's a peculiar creature, th\u001b[31mat won't\u001b[0m\n",
      "Be caught in a commonplace way.\u001b[31m\u001b[0m\n",
      "Do all that you know, and try all that y\u001b[31mou don't:\u001b[0m\n",
      "Not a chance must be wasted to-day!\u001b[31m\u001b[0m\n",
      "\u001b[31m\u001b[0m\n",
      "'For England expects--I forbear to proce\u001b[31med:\u001b[0m\n",
      "'Tis a maxim tremendous, but trite:\u001b[31m\u001b[0m\n",
      "And you'd best be unpacking the things t\u001b[31mhat you need\u001b[0m\n",
      "To rig yourselves out for the fight.'\u001b[31m\u001b[0m\n",
      "\u001b[31m\u001b[0m\n",
      "Then the Banker endorsed a blank check (\u001b[31mwhich he crossed),\u001b[0m\n",
      "And changed his loose silver for notes.\u001b[31m\u001b[0m\n",
      "The Baker with care combed his whiskers \u001b[31mand hair,\u001b[0m\n",
      "And shook the dust out of his coats.\u001b[31m\u001b[0m\n",
      "\u001b[31m\u001b[0m\n",
      "The Boots and the Broker were sharpening\u001b[31m a spade--\u001b[0m\n",
      "Each working the grindstone in turn:\u001b[31m\u001b[0m\n",
      "But the Beaver went on making lace, and \u001b[31mdisplayed\u001b[0m\n",
      "No interest in the concern:\u001b[31m\u001b[0m\n",
      "\u001b[31m\u001b[0m\n",
      "Though the Barrister tried to appeal to \u001b[31mits pride,\u001b[0m\n",
      "And vainly proceeded to cite\u001b[31m\u001b[0m\n",
      "A number of cases, in which making laces\u001b[31m\u001b[0m\n",
      "Had been proved an infringement of right\u001b[31m.\u001b[0m\n",
      "\u001b[31m\u001b[0m\n",
      "The maker of Bonnets ferociously planned\u001b[31m\u001b[0m\n",
      "A novel arrangement of bows:\u001b[31m\u001b[0m\n",
      "While the Billiard-marker with quivering\u001b[31m hand\u001b[0m\n",
      "Was chalking the tip of his nose.\u001b[31m\u001b[0m\n",
      "\u001b[31m\u001b[0m\n",
      "But the Butcher turned nervous, and dres\u001b[31msed himself fine,\u001b[0m\n",
      "With yellow kid gloves and a ruff--\u001b[31m\u001b[0m\n",
      "Said he felt it exactly like going to di\u001b[31mne,\u001b[0m\n",
      "Which the Bellman declared was all 'stuf\u001b[31mf.'\u001b[0m\n",
      "\u001b[31m\u001b[0m\n",
      "'Introduce me, now there's a good fellow\u001b[31m,' he said,\u001b[0m\n",
      "'If we happen to meet it together!'\u001b[31m\u001b[0m\n",
      "And the Bellman, sagaciously nodding his\u001b[31m head,\u001b[0m\n",
      "Said 'That must depend on the weather.'\u001b[31m\u001b[0m\n",
      "\u001b[31m\u001b[0m\n",
      "The Beaver went simply galumphing about,\u001b[31m\u001b[0m\n",
      "At seeing the Butcher so shy:\u001b[31m\u001b[0m\n",
      "And even the Baker, though stupid and st\u001b[31mout,\u001b[0m\n",
      "Made an effort to wink with one eye.\u001b[31m\u001b[0m\n",
      "\u001b[31m\u001b[0m\n",
      "'Be a man!' said the Bellman in wrath, a\u001b[31ms he heard\u001b[0m\n",
      "The Butcher beginning to sob.\u001b[31m\u001b[0m\n"
     ]
    },
    {
     "name": "stdout",
     "output_type": "stream",
     "text": [
      "'Should we meet with a Jubjub, that desp\u001b[31merate bird,\u001b[0m\n",
      "We shall need all our strength for the j\u001b[31mob!'\u001b[0m\n",
      "\u001b[31m\u001b[0m\n",
      "\u001b[31m\u001b[0m\n",
      "Fit the Fifth\u001b[31m\u001b[0m\n",
      "THE BEAVER'S LESSON\u001b[31m\u001b[0m\n",
      "\u001b[31m\u001b[0m\n",
      "They sought it with thimbles, they sough\u001b[31mt it with care;\u001b[0m\n",
      "They pursued it with forks and hope;\u001b[31m\u001b[0m\n",
      "They threatened its life with a railway-\u001b[31mshare;\u001b[0m\n",
      "They charmed it with smiles and soap.\u001b[31m\u001b[0m\n",
      "\u001b[31m\u001b[0m\n",
      "Then the Butcher contrived an ingenious \u001b[31mplan\u001b[0m\n",
      "For making a separate sally;\u001b[31m\u001b[0m\n",
      "And fixed on a spot unfrequented by man,\u001b[31m\u001b[0m\n",
      "A dismal and desolate valley.\u001b[31m\u001b[0m\n",
      "\u001b[31m\u001b[0m\n",
      "But the very same plan to the Beaver occ\u001b[31murred:\u001b[0m\n",
      "It had chosen the very same place:\u001b[31m\u001b[0m\n",
      "Yet neither betrayed, by a sign or a wor\u001b[31md,\u001b[0m\n",
      "The disgust that appeared in his face.\u001b[31m\u001b[0m\n",
      "\u001b[31m\u001b[0m\n",
      "Each thought he was thinking of nothing \u001b[31mbut 'Snark'\u001b[0m\n",
      "And the glorious work of the day;\u001b[31m\u001b[0m\n",
      "And each tried to pretend that he did no\u001b[31mt remark\u001b[0m\n",
      "That the other was going that way.\u001b[31m\u001b[0m\n",
      "\u001b[31m\u001b[0m\n",
      "But the valley grew narrow and narrower \u001b[31mstill,\u001b[0m\n",
      "And the evening got darker and colder,\u001b[31m\u001b[0m\n",
      "Till (merely from nervousness, not from \u001b[31mgoodwill)\u001b[0m\n",
      "They marched along shoulder to shoulder.\u001b[31m\u001b[0m\n",
      "\u001b[31m\u001b[0m\n",
      "Then a scream, shrill and high, rent the\u001b[31m shuddering sky,\u001b[0m\n",
      "And they knew that some danger was near:\u001b[31m\u001b[0m\n",
      "The Beaver turned pale to the tip of its\u001b[31m tail,\u001b[0m\n",
      "And even the Butcher felt queer.\u001b[31m\u001b[0m\n",
      "\u001b[31m\u001b[0m\n",
      "He thought of his childhood, left far fa\u001b[31mr behind--\u001b[0m\n",
      "That blissful and innocent state--\u001b[31m\u001b[0m\n",
      "The sound so exactly recalled to his min\u001b[31md\u001b[0m\n",
      "A pencil that squeaks on a slate!\u001b[31m\u001b[0m\n",
      "\u001b[31m\u001b[0m\n",
      "''Tis the voice of the Jubjub!' he sudde\u001b[31mnly cried.\u001b[0m\n",
      "(This man, that they used to call 'Dunce\u001b[31m.')\u001b[0m\n",
      "'As the Bellman would tell you,' he adde\u001b[31md with pride,\u001b[0m\n",
      "'I have uttered that sentiment once.\u001b[31m\u001b[0m\n",
      "\u001b[31m\u001b[0m\n",
      "''Tis the note of the Jubjub! Keep count\u001b[31m, I entreat;\u001b[0m\n",
      "You will find I have told it you twice.\u001b[31m\u001b[0m\n",
      "'Tis the song of the Jubjub! The proof i\u001b[31ms complete,\u001b[0m\n",
      "If only I've stated it thrice.'\u001b[31m\u001b[0m\n",
      "\u001b[31m\u001b[0m\n",
      "The Beaver had counted with scrupulous c\u001b[31mare,\u001b[0m\n",
      "Attending to every word:\u001b[31m\u001b[0m\n",
      "But it fairly lost heart, and outgrabe i\u001b[31mn despair,\u001b[0m\n",
      "When the third repetition occurred.\u001b[31m\u001b[0m\n",
      "\u001b[31m\u001b[0m\n",
      "It felt that, in spite of all possible p\u001b[31mains,\u001b[0m\n",
      "It had somehow contrived to lose count,\u001b[31m\u001b[0m\n",
      "And the only thing now was to rack its p\u001b[31moor brains\u001b[0m\n",
      "By reckoning up the amount.\u001b[31m\u001b[0m\n",
      "\u001b[31m\u001b[0m\n",
      "'Two added to one--if that could but be \u001b[31mdone,'\u001b[0m\n",
      "It said, 'with one's fingers and thumbs!\u001b[31m'\u001b[0m\n",
      "Recollecting with tears how, in earlier \u001b[31myears,\u001b[0m\n",
      "It had taken no pains with its sums.\u001b[31m\u001b[0m\n",
      "\u001b[31m\u001b[0m\n",
      "'The thing can be done,' said the Butche\u001b[31mr, 'I think.\u001b[0m\n",
      "The thing must be done, I am sure.\u001b[31m\u001b[0m\n",
      "The thing shall be done! Bring me paper \u001b[31mand ink,\u001b[0m\n",
      "The best there is time to procure.'\u001b[31m\u001b[0m\n",
      "\u001b[31m\u001b[0m\n",
      "The Beaver brought paper,portfolio, pens\u001b[31m,\u001b[0m\n",
      "And ink in unfailing supplies:\u001b[31m\u001b[0m\n",
      "While strange creepy creatures came out \u001b[31mof their dens,\u001b[0m\n",
      "And watched them with wondering eyes.\u001b[31m\u001b[0m\n",
      "\u001b[31m\u001b[0m\n",
      "So engrossed was the Butcher, he heeded \u001b[31mthem not,\u001b[0m\n",
      "As he wrote with a pen in each hand,\u001b[31m\u001b[0m\n",
      "And explained all the while in a popular\u001b[31m style\u001b[0m\n",
      "Which the Beaver could well understand.\u001b[31m\u001b[0m\n",
      "\u001b[31m\u001b[0m\n",
      "'Taking Three as the subject to reason a\u001b[31mbout--\u001b[0m\n",
      "A convenient number to state--\u001b[31m\u001b[0m\n",
      "We add Seven, and Ten, and then multiply\u001b[31m out\u001b[0m\n",
      "By One Thousand diminished by Eight.\u001b[31m\u001b[0m\n",
      "\u001b[31m\u001b[0m\n",
      "'The result we proceed to divide, as you\u001b[31m see,\u001b[0m\n",
      "By Nine Hundred and Ninety Two:\u001b[31m\u001b[0m\n",
      "Then subtract Seventeen, and the answer \u001b[31mmust be\u001b[0m\n",
      "Exactly and perfectly true.\u001b[31m\u001b[0m\n",
      "\u001b[31m\u001b[0m\n",
      "'The method employed I would gladly expl\u001b[31main,\u001b[0m\n",
      "While I have it so clear in my head,\u001b[31m\u001b[0m\n",
      "If I had but the time and you had but th\u001b[31me brain--\u001b[0m\n",
      "But much yet remains to be said.\u001b[31m\u001b[0m\n",
      "\u001b[31m\u001b[0m\n",
      "'In one moment I've seen what has hither\u001b[31mto been\u001b[0m\n",
      "Enveloped in absolute mystery,\u001b[31m\u001b[0m\n",
      "And without extra charge I will give you\u001b[31m at large\u001b[0m\n",
      "A Lesson in Natural History.'\u001b[31m\u001b[0m\n",
      "\u001b[31m\u001b[0m\n",
      "In his genial way he proceeded to say\u001b[31m\u001b[0m\n",
      "(Forgetting all laws of propriety,\u001b[31m\u001b[0m\n",
      "And that giving instruction, without int\u001b[31mroduction,\u001b[0m\n",
      "Would have caused quite a thrill in Soci\u001b[31mety),\u001b[0m\n",
      "\u001b[31m\u001b[0m\n",
      "'As to temper the Jubjub's a desperate b\u001b[31mird,\u001b[0m\n",
      "Since it lives in perpetual passion:\u001b[31m\u001b[0m\n",
      "Its taste in costume is entirely absurd-\u001b[31m-\u001b[0m\n",
      "It is ages ahead of the fashion:\u001b[31m\u001b[0m\n",
      "\u001b[31m\u001b[0m\n",
      "'But it knows any friend it has met once\u001b[31m before:\u001b[0m\n",
      "It never will look at a bride:\u001b[31m\u001b[0m\n",
      "And in charity-meetings it stands at the\u001b[31m door,\u001b[0m\n",
      "And collects--though it does not subscri\u001b[31mbe.\u001b[0m\n",
      "\u001b[31m\u001b[0m\n",
      "' Its flavor when cooked is more exquisi\u001b[31mte far\u001b[0m\n",
      "Than mutton, or oysters, or eggs:\u001b[31m\u001b[0m\n",
      "(Some think it keeps best in an ivory ja\u001b[31mr,\u001b[0m\n",
      "And some, in mahogany kegs:)\u001b[31m\u001b[0m\n",
      "\u001b[31m\u001b[0m\n",
      "'You boil it in sawdust: you salt it in \u001b[31mglue:\u001b[0m\n",
      "You condense it with locusts and tape:\u001b[31m\u001b[0m\n",
      "Still keeping one principal object in vi\u001b[31mew--\u001b[0m\n",
      "To preserve its symmetrical shape.'\u001b[31m\u001b[0m\n",
      "\u001b[31m\u001b[0m\n",
      "The Butcher would gladly have talked til\u001b[31ml next day,\u001b[0m\n",
      "But he felt that the lesson must end,\u001b[31m\u001b[0m\n",
      "And he wept with delight in attempting t\u001b[31mo say\u001b[0m\n",
      "He considered the Beaver his friend.\u001b[31m\u001b[0m\n",
      "\u001b[31m\u001b[0m\n",
      "While the Beaver confessed, with affecti\u001b[31monate looks\u001b[0m\n",
      "More eloquent even than tears,\u001b[31m\u001b[0m\n",
      "It had learned in ten minutes far more t\u001b[31mhan all books\u001b[0m\n",
      "Would have taught it in seventy years.\u001b[31m\u001b[0m\n",
      "\u001b[31m\u001b[0m\n",
      "They returned hand-in-hand, and the Bell\u001b[31mman, unmanned\u001b[0m\n",
      "(For a moment) with noble emotion,\u001b[31m\u001b[0m\n",
      "Said 'This amply repays all the wearisom\u001b[31me days\u001b[0m\n",
      "We have spent on the billowy ocean!'\u001b[31m\u001b[0m\n",
      "\u001b[31m\u001b[0m\n",
      "Such friends, as the Beaver and Butcher \u001b[31mbecame,\u001b[0m\n",
      "Have seldom if ever been known;\u001b[31m\u001b[0m\n",
      "In winter or summer, 'twas always the sa\u001b[31mme--\u001b[0m\n",
      "You could never meet either alone.\u001b[31m\u001b[0m\n",
      "\u001b[31m\u001b[0m\n",
      "And when quarrels arose--as one frequent\u001b[31mly finds\u001b[0m\n",
      "Quarrels will, spite of every endeavor--\u001b[31m\u001b[0m\n",
      "The song of the Jubjub recurred to their\u001b[31m minds,\u001b[0m\n",
      "And cemented their friendship for ever!\u001b[31m\u001b[0m\n",
      "\u001b[31m\u001b[0m\n",
      "\u001b[31m\u001b[0m\n",
      "Fit the Sixth\u001b[31m\u001b[0m\n",
      "THE BARRISTER'S DREAM\u001b[31m\u001b[0m\n",
      "\u001b[31m\u001b[0m\n",
      "They sought it with thimbles, they sough\u001b[31mt it with care;\u001b[0m\n",
      "They pursued it with forks and hope;\u001b[31m\u001b[0m\n",
      "They threatened its life with a railway-\u001b[31mshare;\u001b[0m\n",
      "They charmed it with smiles and soap.\u001b[31m\u001b[0m\n",
      "\u001b[31m\u001b[0m\n",
      "But the Barrister, weary of proving in v\u001b[31main\u001b[0m\n",
      "That the Beaver's lace-making was wrong,\u001b[31m\u001b[0m\n",
      "Fell asleep, and in dreams saw the creat\u001b[31mure quite plain\u001b[0m\n",
      "That his fancy had dwelt on so long.\u001b[31m\u001b[0m\n",
      "\u001b[31m\u001b[0m\n",
      "He dreamed that he stood in a shadowy Co\u001b[31murt,\u001b[0m\n",
      "Where the Snark, with a glass in its eye\u001b[31m,\u001b[0m\n",
      "Dressed in gown, bands, and wig, was def\u001b[31mending a pig\u001b[0m\n",
      "On the charge of deserting its sty.\u001b[31m\u001b[0m\n",
      "\u001b[31m\u001b[0m\n",
      "The Witnesses proved, without error or f\u001b[31mlaw,\u001b[0m\n",
      "That the sty was deserted when found:\u001b[31m\u001b[0m\n",
      "And the Judge kept explaining the state \u001b[31mof the law\u001b[0m\n",
      "In a soft under-current of sound.\u001b[31m\u001b[0m\n",
      "\u001b[31m\u001b[0m\n",
      "The indictment had never been clearly ex\u001b[31mpressed,\u001b[0m\n",
      "And it seemed that the Snark had begun,\u001b[31m\u001b[0m\n",
      "And had spoken three hours, before any o\u001b[31mne guessed\u001b[0m\n",
      "What the pig was supposed to have done.\u001b[31m\u001b[0m\n",
      "\u001b[31m\u001b[0m\n",
      "The Jury had each formed a different vie\u001b[31mw\u001b[0m\n",
      "(Long before the indictment was read),\u001b[31m\u001b[0m\n",
      "And they all spoke at once, so that none\u001b[31m of them knew\u001b[0m\n",
      "One word that the others had said.\u001b[31m\u001b[0m\n",
      "\u001b[31m\u001b[0m\n",
      "'You must know ---' said the Judge: but \u001b[31mthe Snark exclaimed 'Fudge!'\u001b[0m\n",
      "That statute is obsolete quite!\u001b[31m\u001b[0m\n",
      "Let me tell you, my friends, the whole q\u001b[31muestion depends\u001b[0m\n",
      "On an ancient manorial right.\u001b[31m\u001b[0m\n",
      "\u001b[31m\u001b[0m\n",
      "'In the matter of Treason the pig would \u001b[31mappear\u001b[0m\n",
      "To have aided, but scarcely abetted:\u001b[31m\u001b[0m\n",
      "While the charge of Insolvency fails, it\u001b[31m is clear,\u001b[0m\n",
      "If you grant the plea 'never indebted.'\u001b[31m\u001b[0m\n",
      "\u001b[31m\u001b[0m\n",
      "'The fact of Desertion I will not disput\u001b[31me;\u001b[0m\n",
      "But its guilt, as I trust, is removed\u001b[31m\u001b[0m\n",
      "(So far as related to the costs of this \u001b[31msuit)\u001b[0m\n",
      "By the Alibi which has been proved.\u001b[31m\u001b[0m\n",
      "\u001b[31m\u001b[0m\n",
      "'My poor client's fate now depends on yo\u001b[31mu votes.'\u001b[0m\n",
      "Here the speaker sat down in his place,\u001b[31m\u001b[0m\n",
      "And directed the Judge to refer to his n\u001b[31motes\u001b[0m\n",
      "And briefly to sum up the case.\u001b[31m\u001b[0m\n",
      "\u001b[31m\u001b[0m\n",
      "But the Judge said he never had summed u\u001b[31mp before;\u001b[0m\n",
      "So the Snark undertook it instead,\u001b[31m\u001b[0m\n",
      "And summed it so well that it came to fa\u001b[31mr more\u001b[0m\n",
      "Than the Witnesses ever had said!\u001b[31m\u001b[0m\n",
      "\u001b[31m\u001b[0m\n",
      "When the verdict was called for, the Jur\u001b[31my declined,\u001b[0m\n",
      "As the word was so puzzling to spell;\u001b[31m\u001b[0m\n",
      "But they ventured to hope that the Snark\u001b[31m wouldn't mind\u001b[0m\n",
      "Undertaking that duty as well.\u001b[31m\u001b[0m\n",
      "\u001b[31m\u001b[0m\n",
      "So the Snark found the verdict, although\u001b[31m, as it owned,\u001b[0m\n",
      "It was spent with the toils of the day:\u001b[31m\u001b[0m\n",
      "When it said the word 'GUILTY!' the Jury\u001b[31m all groaned,\u001b[0m\n",
      "And some of them fainted away.\u001b[31m\u001b[0m\n",
      "\u001b[31m\u001b[0m\n",
      "Then the Snark pronounced sentence, the \u001b[31mJudge being quite\u001b[0m\n",
      "Too nervous to utter a word:\u001b[31m\u001b[0m\n",
      "When it rose to its feet, there was sile\u001b[31mnce like night,\u001b[0m\n",
      "And the fall of a pin might be heard.\u001b[31m\u001b[0m\n",
      "\u001b[31m\u001b[0m\n",
      "'Transportation for lift' was the senten\u001b[31mce it gave,\u001b[0m\n",
      "'And *then* to be fined forty pound.'\u001b[31m\u001b[0m\n",
      "The Jury all cheered, though the Judge s\u001b[31maid he feared\u001b[0m\n",
      "That the phrase was not legally sound.\u001b[31m\u001b[0m\n",
      "\u001b[31m\u001b[0m\n",
      "But their wild exultation was suddenly c\u001b[31mhecked\u001b[0m\n",
      "When the jailer informed them, with tear\u001b[31ms,\u001b[0m\n",
      "Such a sentence would have not the sligh\u001b[31mtest effect,\u001b[0m\n",
      "As the pig had been dead for some years.\u001b[31m\u001b[0m\n",
      "\u001b[31m\u001b[0m\n",
      "The Judge left the Court, looking deeply\u001b[31m disgusted:\u001b[0m\n",
      "But the Snark, though a little aghast,\u001b[31m\u001b[0m\n",
      "As the lawyer to whom the defense was en\u001b[31mtrusted,\u001b[0m\n",
      "Went bellowing on to the last.\u001b[31m\u001b[0m\n",
      "\u001b[31m\u001b[0m\n",
      "Thus the Barrister dreamed, while the be\u001b[31mllowing seemed\u001b[0m\n",
      "To grow every moment more clear:\u001b[31m\u001b[0m\n",
      "Till he woke to the knell of a furious b\u001b[31mell,\u001b[0m\n",
      "Which the Bellman rang close at his ear.\u001b[31m\u001b[0m\n",
      "\u001b[31m\u001b[0m\n",
      "\u001b[31m\u001b[0m\n",
      "Fit the Seventh\u001b[31m\u001b[0m\n",
      "THE BANKER'S FATE\u001b[31m\u001b[0m\n",
      "\u001b[31m\u001b[0m\n",
      "They sought it with thimbles, they sough\u001b[31mt it with care;\u001b[0m\n",
      "They pursued it with forks and hope;\u001b[31m\u001b[0m\n",
      "They threatened its life with a railway-\u001b[31mshare;\u001b[0m\n",
      "They charmed it with smiles and soap.\u001b[31m\u001b[0m\n",
      "\u001b[31m\u001b[0m\n",
      "And the Banker, inspired with a courage \u001b[31mso new\u001b[0m\n",
      "It was matter for general remark,\u001b[31m\u001b[0m\n",
      "Rushed madly ahead and was lost to their\u001b[31m view\u001b[0m\n",
      "In his zeal to discover the Snark\u001b[31m\u001b[0m\n",
      "\u001b[31m\u001b[0m\n",
      "But while he was seeking with thimbles a\u001b[31mnd care,\u001b[0m\n",
      "A Bandersnatch swiftly drew nigh\u001b[31m\u001b[0m\n",
      "And grabbed at the Banker, who shrieked \u001b[31min despair,\u001b[0m\n",
      "For he knew it was useless to fly.\u001b[31m\u001b[0m\n",
      "\u001b[31m\u001b[0m\n",
      "He offered large discount--he offered a \u001b[31mcheck\u001b[0m\n",
      "(Drawn 'to bearer') for seven-pounds-ten\u001b[31m:\u001b[0m\n",
      "But the Bandersnatch merely extended its\u001b[31m neck\u001b[0m\n",
      "And grabbed at the Banker again.\u001b[31m\u001b[0m\n",
      "\u001b[31m\u001b[0m\n",
      "Without rest or pause--while those frumi\u001b[31mous jaws\u001b[0m\n",
      "Went savagely snapping around-\u001b[31m\u001b[0m\n",
      "He skipped and he hopped, and he flounde\u001b[31mred and flopped,\u001b[0m\n",
      "Till fainting he fell to the ground.\u001b[31m\u001b[0m\n",
      "\u001b[31m\u001b[0m\n",
      "The Bandersnatch fled as the others appe\u001b[31mared\u001b[0m\n",
      "Led on by that fear-stricken yell:\u001b[31m\u001b[0m\n",
      "And the Bellman remarked 'It is just as \u001b[31mI feared!'\u001b[0m\n",
      "And solemnly tolled on his bell.\u001b[31m\u001b[0m\n",
      "\u001b[31m\u001b[0m\n",
      "He was black in the face, and they scarc\u001b[31mely could trace\u001b[0m\n",
      "The least likeness to what he had been:\u001b[31m\u001b[0m\n",
      "While so great was his fright that his w\u001b[31maistcoat turned white-\u001b[0m\n",
      "A wonderful thing to be seen!\u001b[31m\u001b[0m\n",
      "\u001b[31m\u001b[0m\n",
      "To the horror of all who were present th\u001b[31mat day.\u001b[0m\n",
      "He uprose in full evening dress,\u001b[31m\u001b[0m\n",
      "And with senseless grimaces endeavored t\u001b[31mo say\u001b[0m\n",
      "What his tongue could no longer express.\u001b[31m\u001b[0m\n",
      "\u001b[31m\u001b[0m\n",
      "Down he sank in a chair--ran his hands t\u001b[31mhrough his hair--\u001b[0m\n",
      "And chanted in mimsiest tones\u001b[31m\u001b[0m\n",
      "Words whose utter inanity proved his ins\u001b[31manity,\u001b[0m\n",
      "While he rattled a couple of bones.\u001b[31m\u001b[0m\n",
      "\u001b[31m\u001b[0m\n",
      "'Leave him here to his fate--it is getti\u001b[31mng so late!'\u001b[0m\n",
      "The Bellman exclaimed in a fright.\u001b[31m\u001b[0m\n",
      "'We have lost half the day. Any further \u001b[31mdelay,\u001b[0m\n",
      "And we sha'nt catch a Snark before night\u001b[31m!'\u001b[0m\n",
      "\u001b[31m\u001b[0m\n",
      "\u001b[31m\u001b[0m\n",
      "Fit the Eighth\u001b[31m\u001b[0m\n",
      "THE VANISHING\u001b[31m\u001b[0m\n",
      "\u001b[31m\u001b[0m\n",
      "They sought it with thimbles, they sough\u001b[31mt it with care;\u001b[0m\n",
      "They pursued it with forks and hope;\u001b[31m\u001b[0m\n",
      "They threatened its life with a railway-\u001b[31mshare;\u001b[0m\n",
      "They charmed it with smiles and soap.\u001b[31m\u001b[0m\n",
      "\u001b[31m\u001b[0m\n",
      "They shuddered to think that the chase m\u001b[31might fail,\u001b[0m\n",
      "And the Beaver, excited at last,\u001b[31m\u001b[0m\n",
      "Went bounding along on the tip of its ta\u001b[31mil,\u001b[0m\n",
      "For the daylight was nearly past.\u001b[31m\u001b[0m\n",
      "\u001b[31m\u001b[0m\n",
      "'There is Thingumbob shouting!' the Bell\u001b[31mman said,\u001b[0m\n",
      "'He is shouting like mad, only hark!\u001b[31m\u001b[0m\n",
      "He is waving his hands, he is wagging hi\u001b[31ms head,\u001b[0m\n",
      "He has certainly found a Snark!'\u001b[31m\u001b[0m\n",
      "\u001b[31m\u001b[0m\n",
      "They gazed in delight, while the Butcher\u001b[31m exclaimed\u001b[0m\n",
      "'He was always a desperate wag!'\u001b[31m\u001b[0m\n",
      "They beheld him--their Baker--their hero\u001b[31m unnamed--\u001b[0m\n",
      "On the top of a neighbouring crag.\u001b[31m\u001b[0m\n",
      "\u001b[31m\u001b[0m\n",
      "Erect and sublime, for one moment of tim\u001b[31me.\u001b[0m\n",
      "In the next, that wild figure they saw\u001b[31m\u001b[0m\n",
      "(As if stung by a spasm) plunge into a c\u001b[31mhasm,\u001b[0m\n",
      "While they waited and listened in awe.\u001b[31m\u001b[0m\n",
      "\u001b[31m\u001b[0m\n",
      "'It's a Snark!' was the sound that first\u001b[31m came to their ears,\u001b[0m\n",
      "And seemed almost too good to be true.\u001b[31m\u001b[0m\n",
      "Then followed a torrent of laughter and \u001b[31mcheers:\u001b[0m\n",
      "Then the ominous words 'It's a Boo-'\u001b[31m\u001b[0m\n",
      "\u001b[31m\u001b[0m\n",
      "Then, silence. Some fancied they heard i\u001b[31mn the air\u001b[0m\n",
      "A weary and wandering sigh\u001b[31m\u001b[0m\n",
      "Then sounded like '-jum!' but the others\u001b[31m declare\u001b[0m\n",
      "It was only a breeze that went by.\u001b[31m\u001b[0m\n",
      "\u001b[31m\u001b[0m\n",
      "They hunted till darkness came on, but t\u001b[31mhey found\u001b[0m\n",
      "Not a button, or feather, or mark,\u001b[31m\u001b[0m\n",
      "By which they could tell that they stood\u001b[31m on the ground\u001b[0m\n",
      "Where the Baker had met with the Snark.\u001b[31m\u001b[0m\n",
      "\u001b[31m\u001b[0m\n",
      "In the midst of the word he was trying t\u001b[31mo say,\u001b[0m\n",
      "In the midst of his laughter and glee,\u001b[31m\u001b[0m\n",
      "He had softly and suddenly vanished away\u001b[31m---\u001b[0m\n",
      "For the Snark *was* a Boojum, you see.\u001b[31m\u001b[0m\n"
     ]
    }
   ],
   "source": [
    "# These techniques can be used with any command processor\n",
    "# This turns all characters after 40th spot to RED\n",
    "#\n",
    "run(`ruby -e 'w = $*.shift; $<.each { |l| puts \"#{l}\\e[31m#{l.chop!.slice!(w.to_i..-1)}\\e[0m\" }' 40 hunting-the-snark.txt`);\n"
   ]
  },
  {
   "cell_type": "code",
   "execution_count": 109,
   "metadata": {},
   "outputs": [
    {
     "name": "stdout",
     "output_type": "stream",
     "text": [
      "J1R3YXMgYnJpbGxpZywgYW5kIHRoZSBzbGl0aHkgdG92ZXMKRGlkIGd5cmUgYW5kIGdpbWJsZSBp\n",
      "biB0aGUgd2FiZToKQWxsIG1pbXN5IHdlcmUgdGhlIGJvcm9nb3ZlcywKQW5kIHRoZSBtb21lIHJh\n",
      "dGhzIG91dGdyYWJlLgoKJ0Jld2FyZSB0aGUgSmFiYmVyd29jaywgbXkgc29uIQpUaGUgamF3cyB0\n",
      "aGF0IGJpdGUsIHRoZSBjbGF3cyB0aGF0IGNhdGNoIQpCZXdhcmUgdGhlIEp1Ymp1YiBiaXJkLCBh\n",
      "bmQgc2h1bgpUaGUgZnJ1bWlvdXMgQmFuZGVyc25hdGNoIScKCkhlIHRvb2sgaGlzIHZvcnBhbCBz\n",
      "d29yZCBpbiBoYW5kOgpMb25nIHRpbWUgdGhlIG1hbnhvbWUgZm9lIGhlIHNvdWdodCAtLQpTbyBy\n",
      "ZXN0ZWQgaGUgYnkgdGhlIFR1bXR1bSB0cmVlLApBbmQgc3Rvb2QgYSB3aGlsZSBpbiB0aG91Z2h0\n",
      "LgoKQW5kLCBhcyBpbiB1ZmZpc2ggdGhvdWdodCBoZSBzdG9vZCwKVGhlIEphYmJlcndvY2ssIHdp\n",
      "dGggZXllcyBvZiBmbGFtZSwKQ2FtZSB3aGlmZmxpbmcgdGhyb3VnaCB0aGUgdHVsZ2V5IHdvb2Qs\n",
      "CkFuZCBidXJibGVkIGFzIGl0IGNhbWUhCgpPbmUgdHdvISBPbmUgdHdvISBBbmQgdGhyb3VnaCBh\n",
      "bmQgdGhyb3VnaApUaGUgdm9ycGFsIGJsYWRlIHdlbnQgc25pY2tlci1zbmFjayEKSGUgbGVmdCBp\n",
      "dCBkZWFkLCBhbmQgd2l0aCBpdHMgaGVhZApIZSB3ZW50IGdhbHVtcGhpbmcgYmFjay4KCidBbmQg\n",
      "aGFzdCB0aG91IHNsYWluIHRoZSBKYWJiZXJ3b2NrPwpDb21lIHRvIG15IGFybXMsIG15IGJlYW1p\n",
      "c2ggYm95IQpPaCBmcmFiam91cyBkYXkhIENhbGxvb2ghIENhbGxheSEnCkhlIGNob3J0bGVkIGlu\n",
      "IGhpcyBqb3kuCgonVHdhcyBicmlsbGlnLCBhbmQgdGhlIHNsaXRoeSB0b3ZlcwpEaWQgZ3lyZSBh\n",
      "bmQgZ2ltYmxlIGluIHRoZSB3YWJlOgpBbGwgbWltc3kgd2VyZSB0aGUgYm9yb2dvdmVzLApBbmQg\n",
      "dGhlIG1vbWUgcmF0aHMgb3V0Z3JhYmUK\n"
     ]
    }
   ],
   "source": [
    "# And also with Python\n",
    "# Encode the jabberwocky as Base 64\n",
    "\n",
    "cd(ENV[\"HOME\"]*\"/PacktPub/Alice\")\n",
    "f1=\"jabberwocky.txt\"\n",
    "f2=\"jabberwocky.b64\"\n",
    "b64encode = `python -c 'import base64,sys; base64.encode(open(sys.argv[1],\"rb\"),open(sys.argv[2],\"wb\"))' $f1 $f2`\n",
    "run(b64encode);\n",
    "\n",
    "# Check it\n",
    "run(`cat $f2`);\n"
   ]
  },
  {
   "cell_type": "code",
   "execution_count": 110,
   "metadata": {},
   "outputs": [
    {
     "name": "stdout",
     "output_type": "stream",
     "text": [
      "'Twas brillig, and the slithy toves\n",
      "Did gyre and gimble in the wabe:\n",
      "All mimsy were the borogoves,\n",
      "And the mome raths outgrabe.\n",
      "\n",
      "'Beware the Jabberwock, my son!\n",
      "The jaws that bite, the claws that catch!\n",
      "Beware the Jubjub bird, and shun\n",
      "The frumious Bandersnatch!'\n",
      "\n",
      "He took his vorpal sword in hand:\n",
      "Long time the manxome foe he sought --\n",
      "So rested he by the Tumtum tree,\n",
      "And stood a while in thought.\n",
      "\n",
      "And, as in uffish thought he stood,\n",
      "The Jabberwock, with eyes of flame,\n",
      "Came whiffling through the tulgey wood,\n",
      "And burbled as it came!\n",
      "\n",
      "One two! One two! And through and through\n",
      "The vorpal blade went snicker-snack!\n",
      "He left it dead, and with its head\n",
      "He went galumphing back.\n",
      "\n",
      "'And hast thou slain the Jabberwock?\n",
      "Come to my arms, my beamish boy!\n",
      "Oh frabjous day! Callooh! Callay!'\n",
      "He chortled in his joy.\n",
      "\n",
      "'Twas brillig, and the slithy toves\n",
      "Did gyre and gimble in the wabe:\n",
      "All mimsy were the borogoves,\n",
      "And the mome raths outgrabe\n"
     ]
    }
   ],
   "source": [
    "# Now reverse the process\n",
    "#\n",
    "run(`base64 --decode $f2`);\n"
   ]
  },
  {
   "cell_type": "markdown",
   "metadata": {},
   "source": [
    "---\n",
    "\n",
    "## Working with the filesystem"
   ]
  },
  {
   "cell_type": "code",
   "execution_count": null,
   "metadata": {
    "collapsed": true
   },
   "outputs": [],
   "source": [
    "cd(string(ENV[\"HOME\"],\"/PacktPub/Chp05\")); # You may have to change this"
   ]
  },
  {
   "cell_type": "code",
   "execution_count": null,
   "metadata": {
    "collapsed": true
   },
   "outputs": [],
   "source": [
    "# I got an error after exiting the following process\n",
    "# So have wrapped it in a try/catch block\n",
    "try run(`wc $(readdir())`) catch end"
   ]
  },
  {
   "cell_type": "code",
   "execution_count": null,
   "metadata": {
    "collapsed": true
   },
   "outputs": [],
   "source": [
    "# Define a macro to trap any run(CMD) errors\n",
    "macro traprun(c)\n",
    "  quote\n",
    "    if typeof($(esc(c))) == Cmd\n",
    "      try\n",
    "        run($(esc(c)))\n",
    "      catch\n",
    "      end\n",
    "    end\n",
    "  end\n",
    "end"
   ]
  },
  {
   "cell_type": "code",
   "execution_count": null,
   "metadata": {
    "collapsed": true
   },
   "outputs": [],
   "source": [
    "# Filter on a regular expression\n",
    "# This will get rid of the directory warnings above\n",
    "function filter(pat::Regex, dir=\".\")\n",
    "  a = Any[]\n",
    "  for f in readdir(dir)\n",
    "    occursin(pat,f) && push!(a, f)\n",
    "  end\n",
    "  return a\n",
    "end"
   ]
  },
  {
   "cell_type": "code",
   "execution_count": null,
   "metadata": {
    "collapsed": true
   },
   "outputs": [],
   "source": [
    "# ... and find all the files ending in '.txt'\n"
   ]
  },
  {
   "cell_type": "code",
   "execution_count": null,
   "metadata": {
    "collapsed": true
   },
   "outputs": [],
   "source": [
    "@traprun `wc $(filter(r\"\\.txt$\"))`;"
   ]
  },
  {
   "cell_type": "code",
   "execution_count": null,
   "metadata": {
    "collapsed": true
   },
   "outputs": [],
   "source": [
    "# Find all the Jupyter notebooks\n",
    "cd(\"..\")\n",
    "@traprun `find \"/Users/malcolm/PacktPub\" -name Chp\\*.ipynb`;"
   ]
  },
  {
   "cell_type": "markdown",
   "metadata": {},
   "source": [
    "---\n",
    "\n",
    "### Analyse an Apache (Web) Access Log"
   ]
  },
  {
   "cell_type": "code",
   "execution_count": null,
   "metadata": {
    "collapsed": true
   },
   "outputs": [],
   "source": [
    "# Location of an Apache access log\n",
    "\n",
    "logf = \"access_log\";\n",
    "run(`/usr/bin/wc -l $logf`);"
   ]
  },
  {
   "cell_type": "code",
   "execution_count": null,
   "metadata": {
    "collapsed": true
   },
   "outputs": [],
   "source": [
    "# First 5 lines - using head command\n",
    "# Can use the '$' prefix inside the backticks\n",
    "run(`head -5 $logf`)"
   ]
  },
  {
   "cell_type": "code",
   "execution_count": null,
   "metadata": {
    "collapsed": true
   },
   "outputs": [],
   "source": [
    "# Using PERL this is not a problem\n",
    "# Do a \"tail -5\" as a one-liner to show last 5 lines\n",
    "\n",
    "cmd = `perl -ne 'push @a, $_; @a = @a[@a-5..$#a]; END { print @a }' $logf`\n",
    "run(cmd);"
   ]
  },
  {
   "cell_type": "code",
   "execution_count": null,
   "metadata": {
    "collapsed": true
   },
   "outputs": [],
   "source": [
    ";cat hcount.pl"
   ]
  },
  {
   "cell_type": "code",
   "execution_count": null,
   "metadata": {
    "collapsed": true
   },
   "outputs": [],
   "source": [
    "# Show the top 10 IP addresses in the weblog\n",
    "\n",
    "println(\"Top Ten Hitters ($logf)\");\n",
    "@time run(`./hcount.pl $logf`);"
   ]
  }
 ],
 "metadata": {
  "kernelspec": {
   "display_name": "Julia 1.0.3",
   "language": "julia",
   "name": "julia-1.0"
  },
  "language_info": {
   "file_extension": ".jl",
   "mimetype": "application/julia",
   "name": "julia",
   "version": "1.0.3"
  }
 },
 "nbformat": 4,
 "nbformat_minor": 2
}
