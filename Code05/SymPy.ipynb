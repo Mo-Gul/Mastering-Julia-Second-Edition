{
 "cells": [
  {
   "cell_type": "code",
   "execution_count": 1,
   "metadata": {},
   "outputs": [
    {
     "name": "stderr",
     "output_type": "stream",
     "text": [
      "┌ Info: Recompiling stale cache file /Users/malcolm/.julia/compiled/v1.0/SymPy/KzewI.ji for SymPy [24249f21-da20-56a4-8eb1-6a02cf4ae2e6]\n",
      "└ @ Base loading.jl:1187\n"
     ]
    }
   ],
   "source": [
    "using SymPy"
   ]
  },
  {
   "cell_type": "code",
   "execution_count": 2,
   "metadata": {},
   "outputs": [
    {
     "data": {
      "text/latex": [
       "\\begin{equation*}\\alpha\\end{equation*}"
      ],
      "text/plain": [
       "alpha"
      ]
     },
     "execution_count": 2,
     "metadata": {},
     "output_type": "execute_result"
    }
   ],
   "source": [
    "u = symbols(\"u\")\n",
    "x = symbols(\"x\", real=true)\n",
    "y1, y2 = symbols(\"y1, y2\", positive=true)\n",
    "alpha = symbols(\"alpha\", integer=true, positive=true)"
   ]
  },
  {
   "cell_type": "code",
   "execution_count": 3,
   "metadata": {},
   "outputs": [
    {
     "data": {
      "text/plain": [
       "Sym"
      ]
     },
     "execution_count": 3,
     "metadata": {},
     "output_type": "execute_result"
    }
   ],
   "source": [
    "typeof(x)"
   ]
  },
  {
   "cell_type": "code",
   "execution_count": 4,
   "metadata": {},
   "outputs": [
    {
     "data": {
      "text/latex": [
       "\\begin{bmatrix}\\end{bmatrix}"
      ],
      "text/plain": [
       "0-element Array{Sym,1}"
      ]
     },
     "execution_count": 4,
     "metadata": {},
     "output_type": "execute_result"
    }
   ],
   "source": [
    "solve(x^2 + 1)"
   ]
  },
  {
   "cell_type": "code",
   "execution_count": 5,
   "metadata": {},
   "outputs": [
    {
     "data": {
      "text/latex": [
       "\\begin{bmatrix}- i\\\\i\\end{bmatrix}"
      ],
      "text/plain": [
       "2-element Array{Sym,1}:\n",
       " -I\n",
       "  I"
      ]
     },
     "execution_count": 5,
     "metadata": {},
     "output_type": "execute_result"
    }
   ],
   "source": [
    "solve(u^2 + 1)"
   ]
  },
  {
   "cell_type": "code",
   "execution_count": 6,
   "metadata": {},
   "outputs": [
    {
     "data": {
      "text/latex": [
       "\\begin{equation*}y^{2} + 2 y + 1\\end{equation*}"
      ],
      "text/plain": [
       " 2          \n",
       "y  + 2*y + 1"
      ]
     },
     "execution_count": 6,
     "metadata": {},
     "output_type": "execute_result"
    }
   ],
   "source": [
    "@vars x y\n",
    "ex = x^2 + 2x + 1\n",
    "subs(ex, x, y)"
   ]
  },
  {
   "cell_type": "code",
   "execution_count": 7,
   "metadata": {},
   "outputs": [
    {
     "data": {
      "text/latex": [
       "\\begin{equation*}4\\end{equation*}"
      ],
      "text/plain": [
       "4"
      ]
     },
     "execution_count": 7,
     "metadata": {},
     "output_type": "execute_result"
    }
   ],
   "source": [
    "ex |> subs(x, 1)"
   ]
  },
  {
   "cell_type": "code",
   "execution_count": 8,
   "metadata": {},
   "outputs": [
    {
     "data": {
      "text/latex": [
       "\\begin{equation*}x^{2} + 3 x + 2\\end{equation*}"
      ],
      "text/plain": [
       " 2          \n",
       "x  + 3*x + 2"
      ]
     },
     "execution_count": 8,
     "metadata": {},
     "output_type": "execute_result"
    }
   ],
   "source": [
    "p = x^2 + 3x + 2"
   ]
  },
  {
   "cell_type": "code",
   "execution_count": 9,
   "metadata": {},
   "outputs": [
    {
     "data": {
      "text/latex": [
       "\\begin{equation*}\\left(x + 1\\right) \\left(x + 2\\right)\\end{equation*}"
      ],
      "text/plain": [
       "(x + 1)*(x + 2)"
      ]
     },
     "execution_count": 9,
     "metadata": {},
     "output_type": "execute_result"
    }
   ],
   "source": [
    "factor(p)"
   ]
  },
  {
   "cell_type": "code",
   "execution_count": 10,
   "metadata": {},
   "outputs": [
    {
     "data": {
      "text/latex": [
       "\\begin{equation*}x^{5} - 15 x^{4} + 85 x^{3} - 225 x^{2} + 274 x - 120\\end{equation*}"
      ],
      "text/plain": [
       " 5       4       3        2              \n",
       "x  - 15*x  + 85*x  - 225*x  + 274*x - 120"
      ]
     },
     "execution_count": 10,
     "metadata": {},
     "output_type": "execute_result"
    }
   ],
   "source": [
    "expand(prod([(x-i) for i in 1:5]))"
   ]
  },
  {
   "cell_type": "code",
   "execution_count": 15,
   "metadata": {},
   "outputs": [
    {
     "data": {
      "text/latex": [
       "\\begin{equation*}\\left(x + 3\\right)^{2}\\end{equation*}"
      ],
      "text/plain": [
       "       2\n",
       "(x + 3) "
      ]
     },
     "execution_count": 15,
     "metadata": {},
     "output_type": "execute_result"
    }
   ],
   "source": [
    "p = x^2 + 6x + 9; factor(p)"
   ]
  },
  {
   "cell_type": "code",
   "execution_count": 16,
   "metadata": {},
   "outputs": [
    {
     "data": {
      "text/latex": [
       "\\begin{equation*}x^{2} y + x y^{2} + x y + x\\end{equation*}"
      ],
      "text/plain": [
       " 2        2          \n",
       "x *y + x*y  + x*y + x"
      ]
     },
     "execution_count": 16,
     "metadata": {},
     "output_type": "execute_result"
    }
   ],
   "source": [
    "q = x*y + x*y^2 + x^2*y + x"
   ]
  },
  {
   "cell_type": "code",
   "execution_count": 17,
   "metadata": {},
   "outputs": [
    {
     "data": {
      "text/latex": [
       "\\begin{equation*}x^{2} y + x \\left(y^{2} + y + 1\\right)\\end{equation*}"
      ],
      "text/plain": [
       " 2       / 2        \\\n",
       "x *y + x*\\y  + y + 1/"
      ]
     },
     "execution_count": 17,
     "metadata": {},
     "output_type": "execute_result"
    }
   ],
   "source": [
    "collect(q, x)"
   ]
  },
  {
   "cell_type": "code",
   "execution_count": 18,
   "metadata": {},
   "outputs": [
    {
     "data": {
      "text/latex": [
       "\\begin{equation*}x y^{2} + x + y \\left(x^{2} + x\\right)\\end{equation*}"
      ],
      "text/plain": [
       "   2         / 2    \\\n",
       "x*y  + x + y*\\x  + x/"
      ]
     },
     "execution_count": 18,
     "metadata": {},
     "output_type": "execute_result"
    }
   ],
   "source": [
    "collect(q,y)"
   ]
  },
  {
   "cell_type": "code",
   "execution_count": 19,
   "metadata": {},
   "outputs": [
    {
     "data": {
      "text/latex": [
       "\\begin{equation*}\\frac{1}{x} + \\frac{1}{x^{2}}\\end{equation*}"
      ],
      "text/plain": [
       "1   1 \n",
       "- + --\n",
       "x    2\n",
       "    x "
      ]
     },
     "execution_count": 19,
     "metadata": {},
     "output_type": "execute_result"
    }
   ],
   "source": [
    "r = 1/x + 1/x^2"
   ]
  },
  {
   "cell_type": "code",
   "execution_count": 20,
   "metadata": {},
   "outputs": [
    {
     "data": {
      "text/latex": [
       "\\begin{equation*}\\frac{1}{x^{2}} \\left(x + 1\\right)\\end{equation*}"
      ],
      "text/plain": [
       "x + 1\n",
       "-----\n",
       "   2 \n",
       "  x  "
      ]
     },
     "execution_count": 20,
     "metadata": {},
     "output_type": "execute_result"
    }
   ],
   "source": [
    "together(r)"
   ]
  },
  {
   "cell_type": "code",
   "execution_count": 21,
   "metadata": {},
   "outputs": [
    {
     "data": {
      "text/latex": [
       "\\begin{equation*}\\frac{2 x - 1}{x^{2} + x + 1} - \\frac{1}{x + 4} + \\frac{3}{x}\\end{equation*}"
      ],
      "text/plain": [
       " 2*x - 1       1     3\n",
       "---------- - ----- + -\n",
       " 2           x + 4   x\n",
       "x  + x + 1            "
      ]
     },
     "execution_count": 21,
     "metadata": {},
     "output_type": "execute_result"
    }
   ],
   "source": [
    "apart( (4x^3 + 21x^2 + 10x + 12) /  (x^4 + 5x^3 + 5x^2 + 4x))"
   ]
  },
  {
   "cell_type": "code",
   "execution_count": 22,
   "metadata": {},
   "outputs": [
    {
     "data": {
      "text/latex": [
       "\\begin{equation*}\\theta\\end{equation*}"
      ],
      "text/plain": [
       "theta"
      ]
     },
     "execution_count": 22,
     "metadata": {},
     "output_type": "execute_result"
    }
   ],
   "source": [
    "theta = symbols(\"theta\", real=true)"
   ]
  },
  {
   "cell_type": "code",
   "execution_count": 23,
   "metadata": {},
   "outputs": [
    {
     "data": {
      "text/latex": [
       "\\begin{equation*}\\sin^{2}{\\left (\\theta \\right )} + \\cos^{2}{\\left (\\theta \\right )}\\end{equation*}"
      ],
      "text/plain": [
       "   2             2       \n",
       "sin (theta) + cos (theta)"
      ]
     },
     "execution_count": 23,
     "metadata": {},
     "output_type": "execute_result"
    }
   ],
   "source": [
    "p = cos(theta)^2 + sin(theta)^2"
   ]
  },
  {
   "cell_type": "code",
   "execution_count": 24,
   "metadata": {},
   "outputs": [
    {
     "data": {
      "text/latex": [
       "\\begin{equation*}0\\end{equation*}"
      ],
      "text/plain": [
       "0"
      ]
     },
     "execution_count": 24,
     "metadata": {},
     "output_type": "execute_result"
    }
   ],
   "source": [
    "simplify(sin(2theta) - 2sin(theta)*cos(theta))"
   ]
  },
  {
   "cell_type": "code",
   "execution_count": 25,
   "metadata": {},
   "outputs": [
    {
     "data": {
      "text/latex": [
       "\\begin{equation*}x \\left(x - 3\\right)^{2} \\left(x - 2\\right) \\left(x - 1\\right) \\left(x + 1\\right) \\left(x^{2} + x + 1\\right)\\end{equation*}"
      ],
      "text/plain": [
       "         2                         / 2        \\\n",
       "x*(x - 3) *(x - 2)*(x - 1)*(x + 1)*\\x  + x + 1/"
      ]
     },
     "execution_count": 25,
     "metadata": {},
     "output_type": "execute_result"
    }
   ],
   "source": [
    "# SymPy can solve polynomial equations\n",
    "p = (x-3)^2*(x-2)*(x-1)*x*(x+1)*(x^2 + x + 1)"
   ]
  },
  {
   "cell_type": "code",
   "execution_count": 26,
   "metadata": {},
   "outputs": [
    {
     "data": {
      "text/latex": [
       "\\begin{bmatrix}-1\\\\0\\\\1\\\\2\\\\3\\\\3\\end{bmatrix}"
      ],
      "text/plain": [
       "6-element Array{Sym,1}:\n",
       " -1\n",
       "  0\n",
       "  1\n",
       "  2\n",
       "  3\n",
       "  3"
      ]
     },
     "execution_count": 26,
     "metadata": {},
     "output_type": "execute_result"
    }
   ],
   "source": [
    "real_roots(p)"
   ]
  },
  {
   "cell_type": "code",
   "execution_count": 27,
   "metadata": {},
   "outputs": [
    {
     "data": {
      "text/latex": [
       "\\begin{bmatrix}-1\\\\0\\\\1\\\\2\\\\3\\\\- \\frac{1}{2} - \\frac{\\sqrt{3} i}{2}\\\\- \\frac{1}{2} + \\frac{\\sqrt{3} i}{2}\\end{bmatrix}"
      ],
      "text/plain": [
       "7-element Array{Sym,1}:\n",
       "                 -1\n",
       "                  0\n",
       "                  1\n",
       "                  2\n",
       "                  3\n",
       " -1/2 - sqrt(3)*I/2\n",
       " -1/2 + sqrt(3)*I/2"
      ]
     },
     "execution_count": 27,
     "metadata": {},
     "output_type": "execute_result"
    }
   ],
   "source": [
    "solve(p)"
   ]
  },
  {
   "cell_type": "code",
   "execution_count": 29,
   "metadata": {},
   "outputs": [
    {
     "data": {
      "text/plain": [
       "Plots.PyPlotBackend()"
      ]
     },
     "execution_count": 29,
     "metadata": {},
     "output_type": "execute_result"
    }
   ],
   "source": [
    "# We can use the Plot API to display graphs\n",
    "x = symbols(\"x\")\n",
    "using Plots\n",
    "pyplot()"
   ]
  },
  {
   "cell_type": "code",
   "execution_count": 33,
   "metadata": {},
   "outputs": [
    {
     "data": {
      "image/png": "[encoded data removed]"
     },
     "execution_count": 33,
     "metadata": {},
     "output_type": "execute_result"
    }
   ],
   "source": [
    "plot(x*sin(3.0x)*exp(-0.3x), 0, 10)"
   ]
  },
  {
   "cell_type": "code",
   "execution_count": 35,
   "metadata": {},
   "outputs": [
    {
     "data": {
      "text/latex": [
       "\\begin{equation*}\\frac{n^{3}}{3} + \\frac{n^{2}}{2} + \\frac{n}{6}\\end{equation*}"
      ],
      "text/plain": [
       " 3    2    \n",
       "n    n    n\n",
       "-- + -- + -\n",
       "3    2    6"
      ]
     },
     "execution_count": 35,
     "metadata": {},
     "output_type": "execute_result"
    }
   ],
   "source": [
    "# This is the Basel series\n",
    "#\n",
    "i, n = symbols(\"i, n\")\n",
    "summation(i^2, (i, 1, n))"
   ]
  },
  {
   "cell_type": "code",
   "execution_count": 36,
   "metadata": {},
   "outputs": [
    {
     "data": {
      "text/latex": [
       "\\begin{equation*}\\operatorname{harmonic}{\\left (n,2 \\right )}\\end{equation*}"
      ],
      "text/plain": [
       "harmonic(n, 2)"
      ]
     },
     "execution_count": 36,
     "metadata": {},
     "output_type": "execute_result"
    }
   ],
   "source": [
    "sn = Sum(1/i^2, (i, 1, n))\n",
    "doit(sn)"
   ]
  },
  {
   "cell_type": "code",
   "execution_count": 37,
   "metadata": {},
   "outputs": [
    {
     "data": {
      "text/latex": [
       "\\begin{equation*}\\frac{\\pi^{2}}{6}\\end{equation*}"
      ],
      "text/plain": [
       "  2\n",
       "pi \n",
       "---\n",
       " 6 "
      ]
     },
     "execution_count": 37,
     "metadata": {},
     "output_type": "execute_result"
    }
   ],
   "source": [
    "limit(doit(sn), n, oo)"
   ]
  },
  {
   "cell_type": "code",
   "execution_count": 42,
   "metadata": {},
   "outputs": [
    {
     "data": {
      "image/png": "[encoded data removed]"
     },
     "execution_count": 42,
     "metadata": {},
     "output_type": "execute_result"
    }
   ],
   "source": [
    "pp = 0.3 + x*sin(3.0x)*exp(-0.3x)\n",
    "plot(pp, 0, 10)"
   ]
  },
  {
   "cell_type": "code",
   "execution_count": 41,
   "metadata": {},
   "outputs": [
    {
     "data": {
      "text/latex": [
       "\\begin{equation*}- 3 x y{\\left (x \\right )} + \\frac{d}{d x} y{\\left (x \\right )} - 1\\end{equation*}"
      ],
      "text/plain": [
       "            d           \n",
       "-3*x*y(x) + --(y(x)) - 1\n",
       "            dx          "
      ]
     },
     "execution_count": 41,
     "metadata": {},
     "output_type": "execute_result"
    }
   ],
   "source": [
    "# An initial valued problem\n",
    "#\n",
    "y = SymFunction(\"y\")\n",
    "a, x = symbols(\"a,x\")\n",
    "eqn = y'(x) - 3*x*y(x) - 1"
   ]
  },
  {
   "cell_type": "code",
   "execution_count": 43,
   "metadata": {},
   "outputs": [
    {
     "data": {
      "text/latex": [
       "\\begin{equation*}y{\\left (x \\right )} = \\left(\\frac{\\sqrt{6} \\sqrt{\\pi}}{6} \\operatorname{erf}{\\left (\\frac{\\sqrt{6} x}{2} \\right )} + 4\\right) e^{\\frac{3 x^{2}}{2}}\\end{equation*}"
      ],
      "text/plain": [
       "       /                /  ___  \\    \\     2\n",
       "       |  ___   ____    |\\/ 6 *x|    |  3*x \n",
       "       |\\/ 6 *\\/ pi *erf|-------|    |  ----\n",
       "       |                \\   2   /    |   2  \n",
       "y(x) = |------------------------- + 4|*e    \n",
       "       \\            6                /      "
      ]
     },
     "execution_count": 43,
     "metadata": {},
     "output_type": "execute_result"
    }
   ],
   "source": [
    "x0, y0 = 0, 4\n",
    "out = dsolve(eqn, x, (y, x0, y0))"
   ]
  },
  {
   "cell_type": "code",
   "execution_count": 44,
   "metadata": {},
   "outputs": [
    {
     "data": {
      "text/latex": [
       "\\begin{equation*}y{\\left (x \\right )} = \\left(a + \\frac{\\sqrt{6} \\sqrt{\\pi}}{6} \\operatorname{erf}{\\left (\\frac{\\sqrt{6} x}{2} \\right )}\\right) e^{\\frac{3 x^{2}}{2}}\\end{equation*}"
      ],
      "text/plain": [
       "       /                    /  ___  \\\\     2\n",
       "       |      ___   ____    |\\/ 6 *x||  3*x \n",
       "       |    \\/ 6 *\\/ pi *erf|-------||  ----\n",
       "       |                    \\   2   /|   2  \n",
       "y(x) = |a + -------------------------|*e    \n",
       "       \\                6            /      "
      ]
     },
     "execution_count": 44,
     "metadata": {},
     "output_type": "execute_result"
    }
   ],
   "source": [
    "x0, y0 = 0, a\n",
    "out = dsolve(eqn, x, (y, x0, y0))"
   ]
  },
  {
   "cell_type": "code",
   "execution_count": 45,
   "metadata": {},
   "outputs": [
    {
     "data": {
      "image/png": "[encoded data removed]"
     },
     "execution_count": 45,
     "metadata": {},
     "output_type": "execute_result"
    }
   ],
   "source": [
    "as = -2:0.6:2\n",
    "ex = rhs(out)\n",
    "p = plot(ex(a=>as[1]), -1.8, 1.8, ylims=(-4, 4))\n",
    "[plot!(p, ex(a=>i), -1.8, 1.8, ylims=(-4, 4)) for i in as[2:end]]\n",
    "p"
   ]
  },
  {
   "cell_type": "code",
   "execution_count": null,
   "metadata": {
    "collapsed": true
   },
   "outputs": [],
   "source": []
  }
 ],
 "metadata": {
  "kernelspec": {
   "display_name": "Julia 1.0.1",
   "language": "julia",
   "name": "julia-1.0"
  },
  "language_info": {
   "file_extension": ".jl",
   "mimetype": "application/julia",
   "name": "julia",
   "version": "1.0.1"
  }
 },
 "nbformat": 4,
 "nbformat_minor": 2
}
