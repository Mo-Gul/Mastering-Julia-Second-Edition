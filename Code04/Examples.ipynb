{
 "cells": [
  {
   "cell_type": "code",
   "execution_count": 2,
   "id": "f9b26c09",
   "metadata": {},
   "outputs": [],
   "source": [
    "using BenchmarkTools, MacroTools, Lazy, Statistics, SpecialFunctions"
   ]
  },
  {
   "cell_type": "code",
   "execution_count": 2,
   "id": "7a886017",
   "metadata": {},
   "outputs": [],
   "source": [
    "using Printf # This is not needed as it is defined in my startup file => /Users/malcolm/.julia/config/startup.jl"
   ]
  },
  {
   "cell_type": "markdown",
   "id": "31104eb7",
   "metadata": {},
   "source": [
    "---\n",
    "# Multiple Dispatch\n",
    "---"
   ]
  },
  {
   "cell_type": "code",
   "execution_count": 3,
   "id": "c4ef687d",
   "metadata": {},
   "outputs": [
    {
     "data": {
      "text/plain": [
       "recip (generic function with 1 method)"
      ]
     },
     "execution_count": 3,
     "metadata": {},
     "output_type": "execute_result"
    }
   ],
   "source": [
    "recip(x::Number) = (x == zero(typeof(x))) ?  error(\"Invalid reciprocal\") : one(typeof(x))/x"
   ]
  },
  {
   "cell_type": "code",
   "execution_count": 4,
   "id": "3bbaf4d5",
   "metadata": {},
   "outputs": [
    {
     "data": {
      "text/plain": [
       "0.5"
      ]
     },
     "execution_count": 4,
     "metadata": {},
     "output_type": "execute_result"
    }
   ],
   "source": [
    "recip(2)"
   ]
  },
  {
   "cell_type": "code",
   "execution_count": 5,
   "id": "0cb9ffa8",
   "metadata": {},
   "outputs": [
    {
     "data": {
      "text/plain": [
       "17//11"
      ]
     },
     "execution_count": 5,
     "metadata": {},
     "output_type": "execute_result"
    }
   ],
   "source": [
    "recip(11//17)"
   ]
  },
  {
   "cell_type": "code",
   "execution_count": 6,
   "id": "2a17b878",
   "metadata": {},
   "outputs": [
    {
     "data": {
      "text/plain": [
       "0.02682926829268293 - 0.041463414634146344im"
      ]
     },
     "execution_count": 6,
     "metadata": {},
     "output_type": "execute_result"
    }
   ],
   "source": [
    "recip(11 + 17im)"
   ]
  },
  {
   "cell_type": "code",
   "execution_count": 7,
   "id": "3cf9670d",
   "metadata": {},
   "outputs": [
    {
     "ename": "LoadError",
     "evalue": "MethodError: no method matching recip(::Vector{Float64})\n\n\u001b[0mClosest candidates are:\n\u001b[0m  recip(\u001b[91m::Number\u001b[39m)\n\u001b[0m\u001b[90m   @\u001b[39m \u001b[35mMain\u001b[39m \u001b[90m\u001b[4mIn[3]:1\u001b[24m\u001b[39m\n",
     "output_type": "error",
     "traceback": [
      "MethodError: no method matching recip(::Vector{Float64})\n\n\u001b[0mClosest candidates are:\n\u001b[0m  recip(\u001b[91m::Number\u001b[39m)\n\u001b[0m\u001b[90m   @\u001b[39m \u001b[35mMain\u001b[39m \u001b[90m\u001b[4mIn[3]:1\u001b[24m\u001b[39m\n",
      "",
      "Stacktrace:",
      " [1] top-level scope",
      "   @ In[7]:2"
     ]
    }
   ],
   "source": [
    "aa = rand(3)\n",
    "recip(aa)"
   ]
  },
  {
   "cell_type": "code",
   "execution_count": 8,
   "id": "281faf71",
   "metadata": {},
   "outputs": [
    {
     "data": {
      "text/plain": [
       "3-element Vector{Float64}:\n",
       " 1.1928657450413518\n",
       " 3.2229386614132087\n",
       " 5.681446315503077"
      ]
     },
     "execution_count": 8,
     "metadata": {},
     "output_type": "execute_result"
    }
   ],
   "source": [
    "recip(a::Array) = map(recip,a)\n",
    "recip(aa)"
   ]
  },
  {
   "cell_type": "code",
   "execution_count": 9,
   "id": "daf14c64",
   "metadata": {},
   "outputs": [
    {
     "data": {
      "text/plain": [
       "3-element Vector{Float64}:\n",
       "  0.929430236117361\n",
       " -0.08125632406691903\n",
       " -0.5660768706711086"
      ]
     },
     "execution_count": 9,
     "metadata": {},
     "output_type": "execute_result"
    }
   ],
   "source": [
    "map(sin,recip(aa))"
   ]
  },
  {
   "cell_type": "code",
   "execution_count": 10,
   "id": "00b6d464",
   "metadata": {},
   "outputs": [
    {
     "data": {
      "text/plain": [
       "2×3 Matrix{Float64}:\n",
       " 0.47619   0.3125    0.232558\n",
       " 0.102041  0.114943  0.131579"
      ]
     },
     "execution_count": 10,
     "metadata": {},
     "output_type": "execute_result"
    }
   ],
   "source": [
    "bb = [2.1 3.2 4.3; 9.8 8.7 7.6]\n",
    "recip(bb)"
   ]
  },
  {
   "cell_type": "code",
   "execution_count": 11,
   "id": "6ee42edd",
   "metadata": {},
   "outputs": [
    {
     "data": {
      "text/plain": [
       "2×3 Matrix{Float64}:\n",
       " 0.568031  1.00717   1.32127\n",
       " 0.121721  0.370453  0.747559"
      ]
     },
     "execution_count": 11,
     "metadata": {},
     "output_type": "execute_result"
    }
   ],
   "source": [
    "cc = recip(aa)'.*recip(bb)"
   ]
  },
  {
   "cell_type": "markdown",
   "id": "a0cd9f8e",
   "metadata": {},
   "source": [
    "## Code Generation"
   ]
  },
  {
   "cell_type": "code",
   "execution_count": 12,
   "id": "267649c3",
   "metadata": {},
   "outputs": [
    {
     "data": {
      "text/plain": [
       "3"
      ]
     },
     "execution_count": 12,
     "metadata": {},
     "output_type": "execute_result"
    }
   ],
   "source": [
    "incr(x) = x + 1\n",
    "incr(2)"
   ]
  },
  {
   "cell_type": "code",
   "execution_count": 13,
   "id": "e76d9738",
   "metadata": {},
   "outputs": [
    {
     "name": "stdout",
     "output_type": "stream",
     "text": [
      "\t\u001b[0m.section\t\u001b[0m__TEXT\u001b[0m,\u001b[0m__text\u001b[0m,\u001b[0mregular\u001b[0m,\u001b[0mpure_instructions\n",
      "\t\u001b[0m.build_version \u001b[0mmacos\u001b[0m, \u001b[33m11\u001b[39m\u001b[0m, \u001b[33m0\u001b[39m\n",
      "\t\u001b[0m.globl\t\u001b[0m_julia_incr_1713                \u001b[0m## \u001b[0m-- \u001b[0mBegin \u001b[0mfunction \u001b[0mjulia_incr_1713\n",
      "\t\u001b[0m.p2align\t\u001b[33m4\u001b[39m\u001b[0m, \u001b[33m0x90\u001b[39m\n",
      "\u001b[91m_julia_incr_1713:\u001b[39m                       \u001b[0m## \u001b[0m@julia_incr_1713\n",
      "\u001b[90m; ┌ @ In[12]:1 within `incr`\u001b[39m\n",
      "\t\u001b[0m.cfi_startproc\n",
      "\u001b[0m## \u001b[0m%bb.0\u001b[0m:                               \u001b[0m## \u001b[0m%top\n",
      "\u001b[90m; │┌ @ int.jl:87 within `+`\u001b[39m\n",
      "\t\u001b[96m\u001b[1mleaq\u001b[22m\u001b[39m\t\u001b[33m1\u001b[39m\u001b[33m(\u001b[39m\u001b[0m%rdi\u001b[33m)\u001b[39m\u001b[0m, \u001b[0m%rax\n",
      "\u001b[90m; │└\u001b[39m\n",
      "\t\u001b[96m\u001b[1mretq\u001b[22m\u001b[39m\n",
      "\t\u001b[0m.cfi_endproc\n",
      "\u001b[90m; └\u001b[39m\n",
      "                                        \u001b[0m## \u001b[0m-- \u001b[0mEnd \u001b[0mfunction\n",
      "\u001b[0m.subsections_via_symbols\n"
     ]
    }
   ],
   "source": [
    "@code_native incr(2)"
   ]
  },
  {
   "cell_type": "code",
   "execution_count": 14,
   "id": "fad0b5b9",
   "metadata": {},
   "outputs": [
    {
     "name": "stdout",
     "output_type": "stream",
     "text": [
      "\t\u001b[0m.section\t\u001b[0m__TEXT\u001b[0m,\u001b[0m__text\u001b[0m,\u001b[0mregular\u001b[0m,\u001b[0mpure_instructions\n",
      "\t\u001b[0m.build_version \u001b[0mmacos\u001b[0m, \u001b[33m11\u001b[39m\u001b[0m, \u001b[33m0\u001b[39m\n",
      "\t\u001b[0m.section\t\u001b[0m__TEXT\u001b[0m,\u001b[0m__literal8\u001b[0m,\u001b[0m8byte_literals\n",
      "\t\u001b[0m.p2align\t\u001b[33m3\u001b[39m                               \u001b[0m## \u001b[0m-- \u001b[0mBegin \u001b[0mfunction \u001b[0mjulia_incr_1736\n",
      "\u001b[91mLCPI0_0:\u001b[39m\n",
      "\t\u001b[0m.quad\t\u001b[33m0x3ff0000000000000\u001b[39m              \u001b[0m## \u001b[0mdouble \u001b[33m1\u001b[39m\n",
      "\t\u001b[0m.section\t\u001b[0m__TEXT\u001b[0m,\u001b[0m__text\u001b[0m,\u001b[0mregular\u001b[0m,\u001b[0mpure_instructions\n",
      "\t\u001b[0m.globl\t\u001b[0m_julia_incr_1736\n",
      "\t\u001b[0m.p2align\t\u001b[33m4\u001b[39m\u001b[0m, \u001b[33m0x90\u001b[39m\n",
      "\u001b[91m_julia_incr_1736:\u001b[39m                       \u001b[0m## \u001b[0m@julia_incr_1736\n",
      "\u001b[90m; ┌ @ In[12]:1 within `incr`\u001b[39m\n",
      "\t\u001b[0m.cfi_startproc\n",
      "\u001b[0m## \u001b[0m%bb.0\u001b[0m:                               \u001b[0m## \u001b[0m%top\n",
      "\t\u001b[96m\u001b[1mmovabsq\u001b[22m\u001b[39m\t\u001b[93m$LCPI0_0\u001b[39m\u001b[0m, \u001b[0m%rax\n",
      "\u001b[90m; │┌ @ promotion.jl:410 within `+` @ float.jl:408\u001b[39m\n",
      "\t\u001b[96m\u001b[1mvaddsd\u001b[22m\u001b[39m\t\u001b[33m(\u001b[39m\u001b[0m%rax\u001b[33m)\u001b[39m\u001b[0m, \u001b[0m%xmm0\u001b[0m, \u001b[0m%xmm0\n",
      "\u001b[90m; │└\u001b[39m\n",
      "\t\u001b[96m\u001b[1mretq\u001b[22m\u001b[39m\n",
      "\t\u001b[0m.cfi_endproc\n",
      "\u001b[90m; └\u001b[39m\n",
      "                                        \u001b[0m## \u001b[0m-- \u001b[0mEnd \u001b[0mfunction\n",
      "\u001b[0m.subsections_via_symbols\n"
     ]
    }
   ],
   "source": [
    "@code_native incr(2.7)"
   ]
  },
  {
   "cell_type": "code",
   "execution_count": 18,
   "id": "c0db9d87",
   "metadata": {},
   "outputs": [
    {
     "name": "stdout",
     "output_type": "stream",
     "text": [
      "\t\u001b[0m.section\t\u001b[0m__TEXT\u001b[0m,\u001b[0m__text\u001b[0m,\u001b[0mregular\u001b[0m,\u001b[0mpure_instructions\n",
      "\t\u001b[0m.build_version \u001b[0mmacos\u001b[0m, \u001b[33m11\u001b[39m\u001b[0m, \u001b[33m0\u001b[39m\n",
      "\t\u001b[0m.globl\t\u001b[0m_julia_incr_1747                \u001b[0m## \u001b[0m-- \u001b[0mBegin \u001b[0mfunction \u001b[0mjulia_incr_1747\n",
      "\t\u001b[0m.p2align\t\u001b[33m4\u001b[39m\u001b[0m, \u001b[33m0x90\u001b[39m\n",
      "\u001b[91m_julia_incr_1747:\u001b[39m                       \u001b[0m## \u001b[0m@julia_incr_1747\n",
      "\u001b[90m; ┌ @ In[12]:1 within `incr`\u001b[39m\n",
      "\t\u001b[0m.cfi_startproc\n",
      "\u001b[0m## \u001b[0m%bb.0\u001b[0m:                               \u001b[0m## \u001b[0m%top\n",
      "\t\u001b[96m\u001b[1msubq\u001b[22m\u001b[39m\t\u001b[33m$8\u001b[39m\u001b[0m, \u001b[0m%rsp\n",
      "\t\u001b[0m.cfi_def_cfa_offset \u001b[33m16\u001b[39m\n",
      "\t\u001b[96m\u001b[1mmovq\u001b[22m\u001b[39m\t\u001b[0m%rsi\u001b[0m, \u001b[0m%rax\n",
      "\u001b[90m; │┌ @ rational.jl:328 within `+`\u001b[39m\n",
      "\u001b[90m; ││┌ @ checked.jl:174 within `checked_add`\u001b[39m\n",
      "\u001b[90m; │││┌ @ checked.jl:141 within `add_with_overflow`\u001b[39m\n",
      "\t\u001b[96m\u001b[1mmovq\u001b[22m\u001b[39m\t\u001b[33m(\u001b[39m\u001b[0m%rsi\u001b[33m)\u001b[39m\u001b[0m, \u001b[0m%rsi\n",
      "\u001b[90m; ││└└\u001b[39m\n",
      "\u001b[90m; ││┌ @ checked.jl:296 within `checked_mul`\u001b[39m\n",
      "\u001b[90m; │││┌ @ checked.jl:243 within `mul_with_overflow`\u001b[39m\n",
      "\t\u001b[96m\u001b[1mmovq\u001b[22m\u001b[39m\t\u001b[33m8\u001b[39m\u001b[33m(\u001b[39m\u001b[0m%rax\u001b[33m)\u001b[39m\u001b[0m, \u001b[0m%rdx\n",
      "\u001b[90m; ││└└\u001b[39m\n",
      "\u001b[90m; ││┌ @ checked.jl:174 within `checked_add`\u001b[39m\n",
      "\u001b[90m; │││┌ @ checked.jl:141 within `add_with_overflow`\u001b[39m\n",
      "\t\u001b[96m\u001b[1mmovq\u001b[22m\u001b[39m\t\u001b[0m%rsi\u001b[0m, \u001b[0m%rax\n",
      "\t\u001b[96m\u001b[1maddq\u001b[22m\u001b[39m\t\u001b[0m%rdx\u001b[0m, \u001b[0m%rax\n",
      "\u001b[90m; │││└\u001b[39m\n",
      "\u001b[90m; │││ @ checked.jl:175 within `checked_add`\u001b[39m\n",
      "\t\u001b[96m\u001b[1mjo\u001b[22m\u001b[39m\t\u001b[91mLBB0_2\u001b[39m\n",
      "\u001b[0m## \u001b[0m%bb.1\u001b[0m:                               \u001b[0m## \u001b[0m%L17\n",
      "\u001b[90m; │└└\u001b[39m\n",
      "\t\u001b[96m\u001b[1mmovq\u001b[22m\u001b[39m\t\u001b[0m%rax\u001b[0m, \u001b[33m(\u001b[39m\u001b[0m%rdi\u001b[33m)\u001b[39m\n",
      "\t\u001b[96m\u001b[1mmovq\u001b[22m\u001b[39m\t\u001b[0m%rdx\u001b[0m, \u001b[33m8\u001b[39m\u001b[33m(\u001b[39m\u001b[0m%rdi\u001b[33m)\u001b[39m\n",
      "\t\u001b[96m\u001b[1mmovq\u001b[22m\u001b[39m\t\u001b[0m%rdi\u001b[0m, \u001b[0m%rax\n",
      "\t\u001b[96m\u001b[1mpopq\u001b[22m\u001b[39m\t\u001b[0m%rcx\n",
      "\t\u001b[96m\u001b[1mretq\u001b[22m\u001b[39m\n",
      "\u001b[91mLBB0_2:\u001b[39m                                 \u001b[0m## \u001b[0m%L14\n",
      "\u001b[90m; │┌ @ rational.jl:328 within `+`\u001b[39m\n",
      "\u001b[90m; ││┌ @ checked.jl:175 within `checked_add`\u001b[39m\n",
      "\t\u001b[96m\u001b[1mmovabsq\u001b[22m\u001b[39m\t\u001b[93m$_j_throw_overflowerr_binaryop_1749\u001b[39m\u001b[0m, \u001b[0m%rax\n",
      "\t\u001b[96m\u001b[1mmovabsq\u001b[22m\u001b[39m\t\u001b[33m$4502278360\u001b[39m\u001b[0m, \u001b[0m%rdi               \u001b[0m## \u001b[0mimm \u001b[0m= \u001b[33m0x10C5B50D8\u001b[39m\n",
      "\t\u001b[96m\u001b[1mcallq\u001b[22m\u001b[39m\t\u001b[0m*\u001b[0m%rax\n",
      "\t\u001b[0m.cfi_endproc\n",
      "\u001b[90m; └└└\u001b[39m\n",
      "                                        \u001b[0m## \u001b[0m-- \u001b[0mEnd \u001b[0mfunction\n",
      "\u001b[0m.subsections_via_symbols\n"
     ]
    }
   ],
   "source": [
    "@code_native incr(2//7)"
   ]
  },
  {
   "cell_type": "code",
   "execution_count": 19,
   "id": "5c579de5",
   "metadata": {},
   "outputs": [
    {
     "name": "stdout",
     "output_type": "stream",
     "text": [
      "\t\u001b[0m.section\t\u001b[0m__TEXT\u001b[0m,\u001b[0m__text\u001b[0m,\u001b[0mregular\u001b[0m,\u001b[0mpure_instructions\n",
      "\t\u001b[0m.build_version \u001b[0mmacos\u001b[0m, \u001b[33m11\u001b[39m\u001b[0m, \u001b[33m0\u001b[39m\n",
      "\t\u001b[0m.section\t\u001b[0m__TEXT\u001b[0m,\u001b[0m__literal8\u001b[0m,\u001b[0m8byte_literals\n",
      "\t\u001b[0m.p2align\t\u001b[33m3\u001b[39m                               \u001b[0m## \u001b[0m-- \u001b[0mBegin \u001b[0mfunction \u001b[0mjulia_incr_1754\n",
      "\u001b[91mLCPI0_0:\u001b[39m\n",
      "\t\u001b[0m.quad\t\u001b[33m0x3ff0000000000000\u001b[39m              \u001b[0m## \u001b[0mdouble \u001b[33m1\u001b[39m\n",
      "\t\u001b[0m.section\t\u001b[0m__TEXT\u001b[0m,\u001b[0m__text\u001b[0m,\u001b[0mregular\u001b[0m,\u001b[0mpure_instructions\n",
      "\t\u001b[0m.globl\t\u001b[0m_julia_incr_1754\n",
      "\t\u001b[0m.p2align\t\u001b[33m4\u001b[39m\u001b[0m, \u001b[33m0x90\u001b[39m\n",
      "\u001b[91m_julia_incr_1754:\u001b[39m                       \u001b[0m## \u001b[0m@julia_incr_1754\n",
      "\u001b[90m; ┌ @ In[12]:1 within `incr`\u001b[39m\n",
      "\t\u001b[0m.cfi_startproc\n",
      "\u001b[0m## \u001b[0m%bb.0\u001b[0m:                               \u001b[0m## \u001b[0m%top\n",
      "\t\u001b[96m\u001b[1mmovq\u001b[22m\u001b[39m\t\u001b[0m%rdi\u001b[0m, \u001b[0m%rax\n",
      "\u001b[90m; │┌ @ complex.jl:329 within `+` @ promotion.jl:410 @ float.jl:408\u001b[39m\n",
      "\t\u001b[96m\u001b[1mvmovsd\u001b[22m\u001b[39m\t\u001b[33m(\u001b[39m\u001b[0m%rsi\u001b[33m)\u001b[39m\u001b[0m, \u001b[0m%xmm0                   \u001b[0m## \u001b[0mxmm0 \u001b[0m= \u001b[0mmem\u001b[33m[\u001b[39m\u001b[33m0\u001b[39m\u001b[33m]\u001b[39m\u001b[0m,\u001b[0mzero\n",
      "\u001b[90m; ││ @ complex.jl:329 within `+`\u001b[39m\n",
      "\u001b[90m; ││┌ @ complex.jl:14 within `Complex` @ complex.jl:14\u001b[39m\n",
      "\t\u001b[96m\u001b[1mvmovsd\u001b[22m\u001b[39m\t\u001b[33m8\u001b[39m\u001b[33m(\u001b[39m\u001b[0m%rsi\u001b[33m)\u001b[39m\u001b[0m, \u001b[0m%xmm1                  \u001b[0m## \u001b[0mxmm1 \u001b[0m= \u001b[0mmem\u001b[33m[\u001b[39m\u001b[33m0\u001b[39m\u001b[33m]\u001b[39m\u001b[0m,\u001b[0mzero\n",
      "\t\u001b[96m\u001b[1mmovabsq\u001b[22m\u001b[39m\t\u001b[93m$LCPI0_0\u001b[39m\u001b[0m, \u001b[0m%rcx\n",
      "\u001b[90m; ││└\u001b[39m\n",
      "\u001b[90m; ││ @ complex.jl:329 within `+` @ promotion.jl:410 @ float.jl:408\u001b[39m\n",
      "\t\u001b[96m\u001b[1mvaddsd\u001b[22m\u001b[39m\t\u001b[33m(\u001b[39m\u001b[0m%rcx\u001b[33m)\u001b[39m\u001b[0m, \u001b[0m%xmm0\u001b[0m, \u001b[0m%xmm0\n",
      "\u001b[90m; │└\u001b[39m\n",
      "\t\u001b[96m\u001b[1mvmovsd\u001b[22m\u001b[39m\t\u001b[0m%xmm0\u001b[0m, \u001b[33m(\u001b[39m\u001b[0m%rdi\u001b[33m)\u001b[39m\n",
      "\t\u001b[96m\u001b[1mvmovsd\u001b[22m\u001b[39m\t\u001b[0m%xmm1\u001b[0m, \u001b[33m8\u001b[39m\u001b[33m(\u001b[39m\u001b[0m%rdi\u001b[33m)\u001b[39m\n",
      "\t\u001b[96m\u001b[1mretq\u001b[22m\u001b[39m\n",
      "\t\u001b[0m.cfi_endproc\n",
      "\u001b[90m; └\u001b[39m\n",
      "                                        \u001b[0m## \u001b[0m-- \u001b[0mEnd \u001b[0mfunction\n",
      "\u001b[0m.subsections_via_symbols\n"
     ]
    }
   ],
   "source": [
    "@code_native incr(2.0 + 7.0im)"
   ]
  },
  {
   "cell_type": "code",
   "execution_count": 20,
   "id": "9c8593cd",
   "metadata": {},
   "outputs": [
    {
     "name": "stdout",
     "output_type": "stream",
     "text": [
      "Expr\n",
      "  head: Symbol call\n",
      "  args: Array{Any}((2,))\n",
      "    1: Symbol incr\n",
      "    2: Float64 2.7\n"
     ]
    }
   ],
   "source": [
    "dump(:(incr(2.7)))"
   ]
  },
  {
   "cell_type": "code",
   "execution_count": 21,
   "id": "85ca7a47",
   "metadata": {},
   "outputs": [
    {
     "data": {
      "text/plain": [
       "CodeInfo(\n",
       "\u001b[90m1 ─\u001b[39m %1 = x + 1\n",
       "\u001b[90m└──\u001b[39m      return %1\n",
       ")"
      ]
     },
     "execution_count": 21,
     "metadata": {},
     "output_type": "execute_result"
    }
   ],
   "source": [
    "@code_lowered incr(2.7)"
   ]
  },
  {
   "cell_type": "code",
   "execution_count": 22,
   "id": "1f158fd8",
   "metadata": {},
   "outputs": [
    {
     "data": {
      "text/plain": [
       "CodeInfo(\n",
       "\u001b[90m1 ─\u001b[39m %1 = Base.add_float(x, 1.0)\u001b[36m::Float64\u001b[39m\n",
       "\u001b[90m└──\u001b[39m      return %1\n",
       ") => Float64"
      ]
     },
     "execution_count": 22,
     "metadata": {},
     "output_type": "execute_result"
    }
   ],
   "source": [
    "@code_typed incr(2.7)"
   ]
  },
  {
   "cell_type": "code",
   "execution_count": 23,
   "id": "8396d11d",
   "metadata": {},
   "outputs": [
    {
     "name": "stdout",
     "output_type": "stream",
     "text": [
      "\u001b[90m;  @ In[12]:1 within `incr`\u001b[39m\n",
      "\u001b[95mdefine\u001b[39m \u001b[36mdouble\u001b[39m \u001b[93m@julia_incr_2351\u001b[39m\u001b[33m(\u001b[39m\u001b[36mdouble\u001b[39m \u001b[0m%0\u001b[33m)\u001b[39m \u001b[0m#0 \u001b[33m{\u001b[39m\n",
      "\u001b[91mtop:\u001b[39m\n",
      "\u001b[90m; ┌ @ promotion.jl:410 within `+` @ float.jl:408\u001b[39m\n",
      "   \u001b[0m%1 \u001b[0m= \u001b[96m\u001b[1mfadd\u001b[22m\u001b[39m \u001b[36mdouble\u001b[39m \u001b[0m%0\u001b[0m, \u001b[33m1.000000e+00\u001b[39m\n",
      "\u001b[90m; └\u001b[39m\n",
      "  \u001b[96m\u001b[1mret\u001b[22m\u001b[39m \u001b[36mdouble\u001b[39m \u001b[0m%1\n",
      "\u001b[33m}\u001b[39m\n"
     ]
    }
   ],
   "source": [
    "@code_llvm(incr(2.7))"
   ]
  },
  {
   "cell_type": "markdown",
   "id": "ef9616cd",
   "metadata": {},
   "source": [
    "---\n",
    "# Metaprogramming\n",
    "---"
   ]
  },
  {
   "cell_type": "code",
   "execution_count": 24,
   "id": "f9655bb4",
   "metadata": {},
   "outputs": [
    {
     "data": {
      "text/plain": [
       ":(((x ^ 2 + y ^ 2) - 2 * x * y) ^ 0.5)"
      ]
     },
     "execution_count": 24,
     "metadata": {},
     "output_type": "execute_result"
    }
   ],
   "source": [
    "ex1 = :((x^2 + y^2 - 2*x*y)^0.5)"
   ]
  },
  {
   "cell_type": "code",
   "execution_count": 25,
   "id": "95147208",
   "metadata": {},
   "outputs": [
    {
     "data": {
      "text/plain": [
       "quote\n",
       "    \u001b[90m#= In[25]:2 =#\u001b[39m\n",
       "    ((x ^ 2 + y ^ 2) - 2 * x * y) ^ 0.5\n",
       "end"
      ]
     },
     "execution_count": 25,
     "metadata": {},
     "output_type": "execute_result"
    }
   ],
   "source": [
    "ex2 = quote\n",
    "(x^2 + y^2 - 2*x*y)^0.5\n",
    "end"
   ]
  },
  {
   "cell_type": "code",
   "execution_count": 27,
   "id": "0df0ce95",
   "metadata": {},
   "outputs": [
    {
     "data": {
      "text/plain": [
       "1.4"
      ]
     },
     "execution_count": 27,
     "metadata": {},
     "output_type": "execute_result"
    }
   ],
   "source": [
    "x = 1.1\n",
    "y = 2.5\n",
    "eval(ex1)"
   ]
  },
  {
   "cell_type": "code",
   "execution_count": 28,
   "id": "bc10f583",
   "metadata": {},
   "outputs": [
    {
     "data": {
      "text/plain": [
       ":(((x ^ 2 + y ^ 2) - 2 * x * y) ^ 0.5)"
      ]
     },
     "execution_count": 28,
     "metadata": {},
     "output_type": "execute_result"
    }
   ],
   "source": [
    "@eval ex1"
   ]
  },
  {
   "cell_type": "code",
   "execution_count": 33,
   "id": "1cf54c5c",
   "metadata": {},
   "outputs": [
    {
     "data": {
      "text/plain": [
       "1.4"
      ]
     },
     "execution_count": 33,
     "metadata": {},
     "output_type": "execute_result"
    }
   ],
   "source": [
    "@eval $ex1"
   ]
  },
  {
   "cell_type": "code",
   "execution_count": 34,
   "id": "f4c5e498",
   "metadata": {},
   "outputs": [
    {
     "data": {
      "text/plain": [
       "true"
      ]
     },
     "execution_count": 34,
     "metadata": {},
     "output_type": "execute_result"
    }
   ],
   "source": [
    "@eval $(ex1) === eval(ex1)"
   ]
  },
  {
   "cell_type": "code",
   "execution_count": 35,
   "id": "75ab880e",
   "metadata": {},
   "outputs": [
    {
     "data": {
      "text/plain": [
       "false"
      ]
     },
     "execution_count": 35,
     "metadata": {},
     "output_type": "execute_result"
    }
   ],
   "source": [
    "ex1 == ex2"
   ]
  },
  {
   "cell_type": "code",
   "execution_count": 36,
   "id": "01540e5f",
   "metadata": {},
   "outputs": [
    {
     "data": {
      "text/plain": [
       "true"
      ]
     },
     "execution_count": 36,
     "metadata": {},
     "output_type": "execute_result"
    }
   ],
   "source": [
    "eval(ex1) == eval(ex2)"
   ]
  },
  {
   "cell_type": "code",
   "execution_count": 38,
   "id": "bd937a9e",
   "metadata": {},
   "outputs": [
    {
     "name": "stdout",
     "output_type": "stream",
     "text": [
      "Expr\n",
      "  head: Symbol call\n",
      "  args: Array{Any}((3,))\n",
      "    1: Symbol ^\n",
      "    2: Expr\n",
      "      head: Symbol call\n",
      "      args: Array{Any}((3,))\n",
      "        1: Symbol -\n",
      "        2: Expr\n",
      "          head: Symbol call\n",
      "          args: Array{Any}((3,))\n",
      "            1: Symbol +\n",
      "            2: Expr\n",
      "              head: Symbol call\n",
      "              args: Array{Any}((3,))\n",
      "                1: Symbol ^\n",
      "                2: Symbol x\n",
      "                3: Int64 2\n",
      "            3: Expr\n",
      "              head: Symbol call\n",
      "              args: Array{Any}((3,))\n",
      "                1: Symbol ^\n",
      "                2: Symbol y\n",
      "                3: Int64 2\n",
      "        3: Expr\n",
      "          head: Symbol call\n",
      "          args: Array{Any}((4,))\n",
      "            1: Symbol *\n",
      "            2: Int64 2\n",
      "            3: Symbol x\n",
      "            4: Symbol y\n",
      "    3: Float64 0.5\n"
     ]
    }
   ],
   "source": [
    "dump(ex1)"
   ]
  },
  {
   "cell_type": "code",
   "execution_count": 39,
   "id": "57eb96ca",
   "metadata": {},
   "outputs": [
    {
     "name": "stdout",
     "output_type": "stream",
     "text": [
      "(:call, :^, (:call, :-, (:call, :+, (:call, :^, :x, 2), (:call, :^, :y, 2)), (:call, :*, 2, :x, :y)), 0.5)"
     ]
    }
   ],
   "source": [
    "Meta.show_sexpr(ex1)"
   ]
  },
  {
   "cell_type": "code",
   "execution_count": 40,
   "id": "e0b60d49",
   "metadata": {},
   "outputs": [
    {
     "data": {
      "text/plain": [
       "traverse! (generic function with 1 method)"
      ]
     },
     "execution_count": 40,
     "metadata": {},
     "output_type": "execute_result"
    }
   ],
   "source": [
    "function traverse!(ex, symbols) end"
   ]
  },
  {
   "cell_type": "code",
   "execution_count": 41,
   "id": "320c8fbf",
   "metadata": {},
   "outputs": [
    {
     "data": {
      "text/plain": [
       "traverse! (generic function with 2 methods)"
      ]
     },
     "execution_count": 41,
     "metadata": {},
     "output_type": "execute_result"
    }
   ],
   "source": [
    "# If ex is a symbol push it onto the tree\n",
    "function traverse!(ex::Symbol, symbols)\n",
    "  push!(symbols, ex)\n",
    "end"
   ]
  },
  {
   "cell_type": "code",
   "execution_count": 42,
   "id": "8488f136",
   "metadata": {},
   "outputs": [
    {
     "data": {
      "text/plain": [
       "traverse! (generic function with 3 methods)"
      ]
     },
     "execution_count": 42,
     "metadata": {},
     "output_type": "execute_result"
    }
   ],
   "source": [
    "# Main processing function.\n",
    "# We need to distinguish between a :call and\n",
    "# other arguments (recursively).\n",
    "#\n",
    "function traverse!(ex::Expr, symbols)\n",
    "  if ex.head == :call # function call\n",
    "    for arg in ex.args[2:end]\n",
    "      traverse!(arg, symbols) # recursive\n",
    "    end\n",
    "  else\n",
    "    for arg in ex.args\n",
    "      traverse!(arg, symbols) # recursive\n",
    "    end\n",
    "  end\n",
    "end"
   ]
  },
  {
   "cell_type": "code",
   "execution_count": 44,
   "id": "0a84cf47",
   "metadata": {},
   "outputs": [
    {
     "data": {
      "text/plain": [
       "traverse (generic function with 1 method)"
      ]
     },
     "execution_count": 44,
     "metadata": {},
     "output_type": "execute_result"
    }
   ],
   "source": [
    "# Define a wrapper function around traverse! function(s)\n",
    "# Define an empty symbols array and push any found.\n",
    "# Notice the use of unique to prune the symbols array\n",
    "#\n",
    "function traverse(ex::Expr)\n",
    "  symbols = Symbol[]\n",
    "  traverse!(ex, symbols)\n",
    "  return unique(symbols) # Don't output duplicates\n",
    "end"
   ]
  },
  {
   "cell_type": "code",
   "execution_count": 155,
   "id": "133c6c47",
   "metadata": {},
   "outputs": [
    {
     "data": {
      "text/plain": [
       "3-element Vector{Symbol}:\n",
       " :a\n",
       " :b\n",
       " :c"
      ]
     },
     "execution_count": 155,
     "metadata": {},
     "output_type": "execute_result"
    }
   ],
   "source": [
    "traverse(:(mad(a,b,c)))"
   ]
  },
  {
   "cell_type": "code",
   "execution_count": 46,
   "id": "e4d5b578",
   "metadata": {},
   "outputs": [
    {
     "data": {
      "text/plain": [
       "13"
      ]
     },
     "execution_count": 46,
     "metadata": {},
     "output_type": "execute_result"
    }
   ],
   "source": [
    "ex3 = :(2 * 3 + 7)\n",
    "eval(ex3)"
   ]
  },
  {
   "cell_type": "code",
   "execution_count": 47,
   "id": "1f797abf",
   "metadata": {},
   "outputs": [
    {
     "name": "stdout",
     "output_type": "stream",
     "text": [
      "Expr\n",
      "  head: Symbol call\n",
      "  args: Array{Any}((3,))\n",
      "    1: Symbol +\n",
      "    2: Expr\n",
      "      head: Symbol call\n",
      "      args: Array{Any}((3,))\n",
      "        1: Symbol *\n",
      "        2: Int64 2\n",
      "        3: Int64 3\n",
      "    3: Int64 7\n"
     ]
    }
   ],
   "source": [
    "dump(ex3)"
   ]
  },
  {
   "cell_type": "code",
   "execution_count": 48,
   "id": "d540bfb3",
   "metadata": {},
   "outputs": [
    {
     "name": "stdout",
     "output_type": "stream",
     "text": [
      "Expr\n",
      "  head: Symbol call\n",
      "  args: Array{Any}((3,))\n",
      "    1: Symbol *\n",
      "    2: Int64 2\n",
      "    3: Int64 3\n"
     ]
    }
   ],
   "source": [
    "dump(ex3.args[2])"
   ]
  },
  {
   "cell_type": "code",
   "execution_count": 49,
   "id": "9373add7",
   "metadata": {},
   "outputs": [
    {
     "data": {
      "text/plain": [
       "35"
      ]
     },
     "execution_count": 49,
     "metadata": {},
     "output_type": "execute_result"
    }
   ],
   "source": [
    "ex3.args[1] = :*\n",
    "(ex3.args[2]).args[1] = :+\n",
    "eval(ex3)"
   ]
  },
  {
   "cell_type": "code",
   "execution_count": 50,
   "id": "378d08e7",
   "metadata": {},
   "outputs": [
    {
     "name": "stdout",
     "output_type": "stream",
     "text": [
      "Expr\n",
      "  head: Symbol call\n",
      "  args: Array{Any}((3,))\n",
      "    1: Symbol *\n",
      "    2: Expr\n",
      "      head: Symbol call\n",
      "      args: Array{Any}((3,))\n",
      "        1: Symbol +\n",
      "        2: Int64 2\n",
      "        3: Int64 3\n",
      "    3: Int64 7\n"
     ]
    }
   ],
   "source": [
    "ex4 = :((2+3) * 7)\n",
    "dump(ex4)"
   ]
  },
  {
   "cell_type": "markdown",
   "id": "e333051f",
   "metadata": {},
   "source": [
    "---\n",
    "# Macros\n",
    "---"
   ]
  },
  {
   "cell_type": "code",
   "execution_count": 51,
   "id": "90525c1f",
   "metadata": {},
   "outputs": [
    {
     "data": {
      "text/plain": [
       "@pout (macro with 1 method)"
      ]
     },
     "execution_count": 51,
     "metadata": {},
     "output_type": "execute_result"
    }
   ],
   "source": [
    "macro pout(ex)\n",
    "  if typeof(ex) == Expr\n",
    "    println(ex.args)\n",
    "  end\n",
    "  return ex\n",
    "end"
   ]
  },
  {
   "cell_type": "code",
   "execution_count": 52,
   "id": "1e3f53c5",
   "metadata": {},
   "outputs": [
    {
     "data": {
      "text/plain": [
       "1.1"
      ]
     },
     "execution_count": 52,
     "metadata": {},
     "output_type": "execute_result"
    }
   ],
   "source": [
    "x = 1.1; @pout x"
   ]
  },
  {
   "cell_type": "code",
   "execution_count": 53,
   "id": "474a2921",
   "metadata": {},
   "outputs": [
    {
     "name": "stdout",
     "output_type": "stream",
     "text": [
      "Any[:^, :((x ^ 2 + y ^ 2) - 2 * x * y), 0.5]\n"
     ]
    },
    {
     "data": {
      "text/plain": [
       "1.1999999999999997"
      ]
     },
     "execution_count": 53,
     "metadata": {},
     "output_type": "execute_result"
    }
   ],
   "source": [
    "y = 2.3\n",
    "@pout (x^2 + y^2 - 2*x*y)^0.5"
   ]
  },
  {
   "cell_type": "code",
   "execution_count": 54,
   "id": "4fc921cc",
   "metadata": {},
   "outputs": [
    {
     "data": {
      "text/plain": [
       "@dotimes (macro with 1 method)"
      ]
     },
     "execution_count": 54,
     "metadata": {},
     "output_type": "execute_result"
    }
   ],
   "source": [
    "macro dotimes(n, body)\n",
    "  quote\n",
    "    for i = 1:$(esc(n))\n",
    "      $(esc(body))\n",
    "    end\n",
    "  end\n",
    "end"
   ]
  },
  {
   "cell_type": "code",
   "execution_count": 55,
   "id": "ff41c9ca",
   "metadata": {},
   "outputs": [
    {
     "name": "stdout",
     "output_type": "stream",
     "text": [
      "HiHiHi"
     ]
    }
   ],
   "source": [
    "@dotimes 3 print(\"Hi\")"
   ]
  },
  {
   "cell_type": "code",
   "execution_count": 56,
   "id": "60637b24",
   "metadata": {},
   "outputs": [
    {
     "name": "stdout",
     "output_type": "stream",
     "text": [
      "1\n",
      "4\n",
      "9\n"
     ]
    }
   ],
   "source": [
    "i = 0\n",
    "@dotimes 3 [global i += 1; println(i*i)]"
   ]
  },
  {
   "cell_type": "code",
   "execution_count": 57,
   "id": "7b7e5c8a",
   "metadata": {},
   "outputs": [
    {
     "data": {
      "text/plain": [
       "@until (macro with 1 method)"
      ]
     },
     "execution_count": 57,
     "metadata": {},
     "output_type": "execute_result"
    }
   ],
   "source": [
    "macro until(condition, block)\n",
    "  quote\n",
    "    while true\n",
    "      $(esc(block))\n",
    "      if $(esc(condition))\n",
    "        break\n",
    "      end\n",
    "    end\n",
    "  end\n",
    "end"
   ]
  },
  {
   "cell_type": "code",
   "execution_count": 58,
   "id": "b5c925c8",
   "metadata": {},
   "outputs": [
    {
     "name": "stdout",
     "output_type": "stream",
     "text": [
      "1\n",
      "4\n",
      "9\n"
     ]
    }
   ],
   "source": [
    "i = 0\n",
    "@until (i >= 3) [global i += 1; println(i*i)]"
   ]
  },
  {
   "cell_type": "code",
   "execution_count": 59,
   "id": "b556aec2",
   "metadata": {},
   "outputs": [
    {
     "data": {
      "text/plain": [
       "@iif (macro with 1 method)"
      ]
     },
     "execution_count": 59,
     "metadata": {},
     "output_type": "execute_result"
    }
   ],
   "source": [
    "macro iif(cond, body1, body2)\n",
    "  :(if !$cond\n",
    "    $(esc(body1))\n",
    "  else\n",
    "    $(esc(body2))\n",
    "  end)\n",
    "end"
   ]
  },
  {
   "cell_type": "code",
   "execution_count": 62,
   "id": "18ede7d9",
   "metadata": {},
   "outputs": [],
   "source": [
    "using SpecialFunctions"
   ]
  },
  {
   "cell_type": "code",
   "execution_count": 64,
   "id": "36030a21",
   "metadata": {},
   "outputs": [
    {
     "data": {
      "text/plain": [
       "3628800"
      ]
     },
     "execution_count": 64,
     "metadata": {},
     "output_type": "execute_result"
    }
   ],
   "source": [
    "n = 10\n",
    "@iif (n < 1) factorial(n) ArgumentError(\"$n not positive\")"
   ]
  },
  {
   "cell_type": "code",
   "execution_count": 65,
   "id": "d540007c",
   "metadata": {},
   "outputs": [
    {
     "data": {
      "text/plain": [
       "ArgumentError(\"-1 not positive\")"
      ]
     },
     "execution_count": 65,
     "metadata": {},
     "output_type": "execute_result"
    }
   ],
   "source": [
    "n = -1\n",
    "@iif (n < 1) factorial(n) ArgumentError(\"$n not positive\")"
   ]
  },
  {
   "cell_type": "code",
   "execution_count": 66,
   "id": "0472bc4d",
   "metadata": {},
   "outputs": [
    {
     "data": {
      "text/plain": [
       "kempner (generic function with 1 method)"
      ]
     },
     "execution_count": 66,
     "metadata": {},
     "output_type": "execute_result"
    }
   ],
   "source": [
    "function kempner(n::Integer)\n",
    "  @assert n > 0\n",
    "  s = 0.0\n",
    "  r9 = r\"9\" # Match a string containing a 9\n",
    "  for i in 1:n\n",
    "    if (match(r9,string(i)) == nothing)\n",
    "      s += 1.0/float(i)\n",
    "    end\n",
    "  end\n",
    "  return s\n",
    "end"
   ]
  },
  {
   "cell_type": "code",
   "execution_count": 67,
   "id": "c4c2c89e",
   "metadata": {},
   "outputs": [
    {
     "data": {
      "text/plain": [
       "7-element Vector{Float64}:\n",
       "  2.8178571428571426\n",
       "  4.78184876508206\n",
       "  6.590720190283038\n",
       "  8.223184402866208\n",
       "  9.692877792106202\n",
       " 11.015651849872553\n",
       " 12.206153722565858"
      ]
     },
     "execution_count": 67,
     "metadata": {},
     "output_type": "execute_result"
    }
   ],
   "source": [
    "[kempner(10^i) for i in 1:7]"
   ]
  },
  {
   "cell_type": "code",
   "execution_count": 68,
   "id": "a5e6c614",
   "metadata": {},
   "outputs": [
    {
     "data": {
      "text/plain": [
       "@bmk (macro with 1 method)"
      ]
     },
     "execution_count": 68,
     "metadata": {},
     "output_type": "execute_result"
    }
   ],
   "source": [
    "macro bmk(fex, n::Integer)\n",
    "  quote\n",
    "    let s = 0.0\n",
    "      if $(esc(n)) > 0\n",
    "        val = $(esc(fex))\n",
    "        for i = 1:$(esc(n))\n",
    "          local t0 = Base.time_ns()\n",
    "          local val = $(esc(fex))\n",
    "          s += Base.time_ns() - t0\n",
    "        end\n",
    "        return s/($(esc(n)) * 10e9)\n",
    "      else\n",
    "      end\n",
    "    end\n",
    "  end\n",
    "end"
   ]
  },
  {
   "cell_type": "code",
   "execution_count": 69,
   "id": "c15ebd97",
   "metadata": {},
   "outputs": [
    {
     "data": {
      "text/plain": [
       "0.26684991671"
      ]
     },
     "execution_count": 69,
     "metadata": {},
     "output_type": "execute_result"
    }
   ],
   "source": [
    "@bmk kempner(10^7) 10"
   ]
  },
  {
   "cell_type": "code",
   "execution_count": 70,
   "id": "1ee65753",
   "metadata": {},
   "outputs": [
    {
     "data": {
      "text/plain": [
       "time (generic function with 1 method)"
      ]
     },
     "execution_count": 70,
     "metadata": {},
     "output_type": "execute_result"
    }
   ],
   "source": [
    "import Base.@time\n",
    "time(n::Integer) = kempner(n)"
   ]
  },
  {
   "cell_type": "code",
   "execution_count": 71,
   "id": "d40e0518",
   "metadata": {},
   "outputs": [
    {
     "name": "stdout",
     "output_type": "stream",
     "text": [
      "  2.621327 seconds (35.65 M allocations: 1.675 GiB, 8.25% gc time)\n"
     ]
    },
    {
     "data": {
      "text/plain": [
       "12.206153722565858"
      ]
     },
     "execution_count": 71,
     "metadata": {},
     "output_type": "execute_result"
    }
   ],
   "source": [
    "@time time(10^7)"
   ]
  },
  {
   "cell_type": "code",
   "execution_count": 72,
   "id": "fb1e5494",
   "metadata": {},
   "outputs": [
    {
     "data": {
      "text/plain": [
       ":(if n > 0\n",
       "      nothing\n",
       "  else\n",
       "      Base.throw(Base.AssertionError(\"n > 0\"))\n",
       "  end)"
      ]
     },
     "execution_count": 72,
     "metadata": {},
     "output_type": "execute_result"
    }
   ],
   "source": [
    "macroexpand(Main,:(@assert n > 0))"
   ]
  },
  {
   "cell_type": "code",
   "execution_count": 73,
   "id": "a4cafb97",
   "metadata": {},
   "outputs": [
    {
     "data": {
      "text/plain": [
       ":(if n > 0\n",
       "      nothing\n",
       "  else\n",
       "      Base.throw(Base.AssertionError(\"n > 0\"))\n",
       "  end)"
      ]
     },
     "execution_count": 73,
     "metadata": {},
     "output_type": "execute_result"
    }
   ],
   "source": [
    "@macroexpand @assert n > 0"
   ]
  },
  {
   "cell_type": "code",
   "execution_count": 74,
   "id": "2ff089af",
   "metadata": {},
   "outputs": [
    {
     "ename": "LoadError",
     "evalue": "AssertionError: n > 0",
     "output_type": "error",
     "traceback": [
      "AssertionError: n > 0",
      "",
      "Stacktrace:",
      " [1] top-level scope",
      "   @ In[74]:1"
     ]
    }
   ],
   "source": [
    "n = -1; @assert n > 0"
   ]
  },
  {
   "cell_type": "code",
   "execution_count": 75,
   "id": "cf982344",
   "metadata": {},
   "outputs": [
    {
     "data": {
      "text/plain": [
       "quote\n",
       "    \u001b[90m#= In[54]:3 =#\u001b[39m\n",
       "    for var\"#55#i\" = 1:3\n",
       "        \u001b[90m#= In[54]:4 =#\u001b[39m\n",
       "        [global i += 1; println(i * i)]\n",
       "        \u001b[90m#= In[54]:5 =#\u001b[39m\n",
       "    end\n",
       "end"
      ]
     },
     "execution_count": 75,
     "metadata": {},
     "output_type": "execute_result"
    }
   ],
   "source": [
    "@macroexpand @dotimes 3 [global i += 1; println(i*i)]"
   ]
  },
  {
   "cell_type": "code",
   "execution_count": 76,
   "id": "8038c3c0",
   "metadata": {},
   "outputs": [
    {
     "data": {
      "text/plain": [
       "quote\n",
       "    let var\"#56#s\" = 0.0\n",
       "        if 10 > 0\n",
       "            var\"#59#val\" = kempner(10 ^ 7)\n",
       "            for var\"#57#i\" = 1:10\n",
       "                local var\"#58#t0\" = (Main.Base).time_ns()\n",
       "                local var\"#59#val\" = kempner(10 ^ 7)\n",
       "                var\"#56#s\" += (Main.Base).time_ns() - var\"#58#t0\"\n",
       "            end\n",
       "            return var\"#56#s\" / (10 * 1.0e10)\n",
       "        else\n",
       "        end\n",
       "    end\n",
       "end"
      ]
     },
     "execution_count": 76,
     "metadata": {},
     "output_type": "execute_result"
    }
   ],
   "source": [
    "Base.remove_linenums!(@macroexpand @bmk kempner(10^7) 10)"
   ]
  },
  {
   "cell_type": "code",
   "execution_count": 78,
   "id": "22d97fee",
   "metadata": {},
   "outputs": [
    {
     "data": {
      "text/plain": [
       "poly_native (generic function with 1 method)"
      ]
     },
     "execution_count": 78,
     "metadata": {},
     "output_type": "execute_result"
    }
   ],
   "source": [
    "function poly_native(x, a...)\n",
    "  p=zero(x)\n",
    "  for i = 1:length(a)\n",
    "    p = p + a[i] * x^(i-1)\n",
    "  end\n",
    "  return p\n",
    "end"
   ]
  },
  {
   "cell_type": "code",
   "execution_count": 79,
   "id": "d9098754",
   "metadata": {},
   "outputs": [
    {
     "data": {
      "text/plain": [
       "f_native (generic function with 1 method)"
      ]
     },
     "execution_count": 79,
     "metadata": {},
     "output_type": "execute_result"
    }
   ],
   "source": [
    "f_native(x) = poly_native(x,1,2,3,4,5)"
   ]
  },
  {
   "cell_type": "code",
   "execution_count": 80,
   "id": "777b058f",
   "metadata": {},
   "outputs": [
    {
     "data": {
      "text/plain": [
       "152.71450000000004"
      ]
     },
     "execution_count": 80,
     "metadata": {},
     "output_type": "execute_result"
    }
   ],
   "source": [
    "f_native(2.1)"
   ]
  },
  {
   "cell_type": "code",
   "execution_count": 81,
   "id": "ce8132a0",
   "metadata": {},
   "outputs": [
    {
     "data": {
      "text/plain": [
       "poly_horner (generic function with 1 method)"
      ]
     },
     "execution_count": 81,
     "metadata": {},
     "output_type": "execute_result"
    }
   ],
   "source": [
    "function poly_horner(x, a...)\n",
    "  b = zero(x)\n",
    "  for i = length(a):-1:1\n",
    "    b = a[i] + b * x\n",
    "  end\n",
    "  return b\n",
    "end"
   ]
  },
  {
   "cell_type": "code",
   "execution_count": 84,
   "id": "b44220bd",
   "metadata": {},
   "outputs": [
    {
     "data": {
      "text/plain": [
       "152.7145"
      ]
     },
     "execution_count": 84,
     "metadata": {},
     "output_type": "execute_result"
    }
   ],
   "source": [
    "f_horner(x) = poly_horner(x,1,2,3,4,5)\n",
    "round(f_horner(2.1),digits=4)"
   ]
  },
  {
   "cell_type": "code",
   "execution_count": 85,
   "id": "66a7f0fb",
   "metadata": {},
   "outputs": [
    {
     "data": {
      "text/plain": [
       "14.5"
      ]
     },
     "execution_count": 85,
     "metadata": {},
     "output_type": "execute_result"
    }
   ],
   "source": [
    "mad(x,a,b) = a*x + b\n",
    "mad(2.1,5,4)"
   ]
  },
  {
   "cell_type": "code",
   "execution_count": 86,
   "id": "4f647166",
   "metadata": {},
   "outputs": [
    {
     "data": {
      "text/plain": [
       "@horner (macro with 1 method)"
      ]
     },
     "execution_count": 86,
     "metadata": {},
     "output_type": "execute_result"
    }
   ],
   "source": [
    "macro horner(x, p...)\n",
    "  ex = esc(p[end])\n",
    "  for i = length(p)-1:-1:1\n",
    "    ex = :(mad(t, $ex, $(esc(p[i]))))\n",
    "  end\n",
    "  Expr(:block, :(t = $(esc(x))), ex)\n",
    "end"
   ]
  },
  {
   "cell_type": "code",
   "execution_count": 87,
   "id": "d94a65f4",
   "metadata": {},
   "outputs": [
    {
     "data": {
      "text/plain": [
       "152.7145"
      ]
     },
     "execution_count": 87,
     "metadata": {},
     "output_type": "execute_result"
    }
   ],
   "source": [
    "round(@horner(2.1,1,2,3,4,5), digits=4)"
   ]
  },
  {
   "cell_type": "code",
   "execution_count": 88,
   "id": "5f3362fc",
   "metadata": {},
   "outputs": [
    {
     "data": {
      "text/plain": [
       "quote\n",
       "    var\"#68#t\" = 2.1\n",
       "    Main.mad(var\"#68#t\", Main.mad(var\"#68#t\", Main.mad(var\"#68#t\", Main.mad(var\"#68#t\", 5, 4), 3), 2), 1)\n",
       "end"
      ]
     },
     "execution_count": 88,
     "metadata": {},
     "output_type": "execute_result"
    }
   ],
   "source": [
    "@macroexpand @horner 2.1 1 2 3 4 5"
   ]
  },
  {
   "cell_type": "markdown",
   "id": "e313b7c2",
   "metadata": {},
   "source": [
    "## Macrotools"
   ]
  },
  {
   "cell_type": "code",
   "execution_count": 89,
   "id": "5588b039",
   "metadata": {},
   "outputs": [],
   "source": [
    "using MacroTools"
   ]
  },
  {
   "cell_type": "code",
   "execution_count": 90,
   "id": "056fd6ad",
   "metadata": {},
   "outputs": [
    {
     "data": {
      "text/plain": [
       ":(1 + (2 + 3) + 4)"
      ]
     },
     "execution_count": 90,
     "metadata": {},
     "output_type": "execute_result"
    }
   ],
   "source": [
    "ex = :(1 + (2 + 3) + 4)"
   ]
  },
  {
   "cell_type": "code",
   "execution_count": 92,
   "id": "aaa86724",
   "metadata": {},
   "outputs": [
    {
     "data": {
      "text/plain": [
       ":(1 + (2 + 6) + 24)"
      ]
     },
     "execution_count": 92,
     "metadata": {},
     "output_type": "execute_result"
    }
   ],
   "source": [
    "p = postwalk(ex) do x\n",
    "  x isa Integer ? factorial(x) : x\n",
    "end"
   ]
  },
  {
   "cell_type": "code",
   "execution_count": 93,
   "id": "781d482c",
   "metadata": {},
   "outputs": [
    {
     "data": {
      "text/plain": [
       "33"
      ]
     },
     "execution_count": 93,
     "metadata": {},
     "output_type": "execute_result"
    }
   ],
   "source": [
    "eval(p)"
   ]
  },
  {
   "cell_type": "code",
   "execution_count": 95,
   "id": "f92feb7c",
   "metadata": {},
   "outputs": [
    {
     "name": "stdout",
     "output_type": "stream",
     "text": [
      "x = 1\n",
      "x = 2\n",
      "x = 3\n",
      "x = 4\n"
     ]
    }
   ],
   "source": [
    "map(x -> @show(x), [1,2,3,4]);"
   ]
  },
  {
   "cell_type": "code",
   "execution_count": 96,
   "id": "92a44dec",
   "metadata": {},
   "outputs": [
    {
     "name": "stdout",
     "output_type": "stream",
     "text": [
      "x = :+\n",
      "x = 1\n",
      "x = :+\n",
      "x = 2\n",
      "x = 3\n",
      "x = :(2 + 3)\n",
      "x = 4\n",
      "x = :(1 + (2 + 3) + 4)\n"
     ]
    },
    {
     "data": {
      "text/plain": [
       ":(1 + (2 + 3) + 4)"
      ]
     },
     "execution_count": 96,
     "metadata": {},
     "output_type": "execute_result"
    }
   ],
   "source": [
    "postwalk(ex) do x\n",
    "  @show x\n",
    "end"
   ]
  },
  {
   "cell_type": "code",
   "execution_count": 98,
   "id": "890375a4",
   "metadata": {},
   "outputs": [
    {
     "data": {
      "text/plain": [
       "true"
      ]
     },
     "execution_count": 98,
     "metadata": {},
     "output_type": "execute_result"
    }
   ],
   "source": [
    "@capture(ex, a_ + b_ + c_)"
   ]
  },
  {
   "cell_type": "code",
   "execution_count": 99,
   "id": "623cfd37",
   "metadata": {},
   "outputs": [
    {
     "data": {
      "text/plain": [
       ":(2 + 3)"
      ]
     },
     "execution_count": 99,
     "metadata": {},
     "output_type": "execute_result"
    }
   ],
   "source": [
    "b"
   ]
  },
  {
   "cell_type": "code",
   "execution_count": 100,
   "id": "7110005d",
   "metadata": {},
   "outputs": [
    {
     "data": {
      "text/plain": [
       "9"
      ]
     },
     "execution_count": 100,
     "metadata": {},
     "output_type": "execute_result"
    }
   ],
   "source": [
    "a*eval(b) + c"
   ]
  },
  {
   "cell_type": "code",
   "execution_count": 101,
   "id": "3e98a8df",
   "metadata": {},
   "outputs": [
    {
     "data": {
      "text/plain": [
       "55"
      ]
     },
     "execution_count": 101,
     "metadata": {},
     "output_type": "execute_result"
    }
   ],
   "source": [
    "reduce(+, 1:10)"
   ]
  },
  {
   "cell_type": "code",
   "execution_count": 102,
   "id": "c895248d",
   "metadata": {},
   "outputs": [
    {
     "data": {
      "text/plain": [
       "plus (generic function with 1 method)"
      ]
     },
     "execution_count": 102,
     "metadata": {},
     "output_type": "execute_result"
    }
   ],
   "source": [
    "plus(a, b) = :($a + $b)"
   ]
  },
  {
   "cell_type": "code",
   "execution_count": 103,
   "id": "db8ae062",
   "metadata": {},
   "outputs": [
    {
     "data": {
      "text/plain": [
       ":(((((((((1 + 2) + 3) + 4) + 5) + 6) + 7) + 8) + 9) + 10)"
      ]
     },
     "execution_count": 103,
     "metadata": {},
     "output_type": "execute_result"
    }
   ],
   "source": [
    "p = reduce(plus, 1:10)"
   ]
  },
  {
   "cell_type": "code",
   "execution_count": 104,
   "id": "fb44dad6",
   "metadata": {},
   "outputs": [
    {
     "data": {
      "text/plain": [
       "55"
      ]
     },
     "execution_count": 104,
     "metadata": {},
     "output_type": "execute_result"
    }
   ],
   "source": [
    "eval(p)"
   ]
  },
  {
   "cell_type": "code",
   "execution_count": 105,
   "id": "d6401bde",
   "metadata": {},
   "outputs": [
    {
     "data": {
      "text/plain": [
       "6-element Vector{Expr}:\n",
       " :((1 * x ^ 1) / 1)\n",
       " :((-1 * x ^ 3) / 6)\n",
       " :((1 * x ^ 5) / 120)\n",
       " :((-1 * x ^ 7) / 5040)\n",
       " :((1 * x ^ 9) / 362880)\n",
       " :((-1 * x ^ 11) / 39916800)"
      ]
     },
     "execution_count": 105,
     "metadata": {},
     "output_type": "execute_result"
    }
   ],
   "source": [
    "k = 2\n",
    "pp = [:($((-1)^k)*x^$(1+2k) / $(factorial(1+2k))) for k = 0:5]"
   ]
  },
  {
   "cell_type": "code",
   "execution_count": 106,
   "id": "332ae4ec",
   "metadata": {},
   "outputs": [
    {
     "data": {
      "text/plain": [
       ":((((((1 * x ^ 1) / 1 + (-1 * x ^ 3) / 6) + (1 * x ^ 5) / 120) + (-1 * x ^ 7) / 5040) + (1 * x ^ 9) / 362880) + (-1 * x ^ 11) / 39916800)"
      ]
     },
     "execution_count": 106,
     "metadata": {},
     "output_type": "execute_result"
    }
   ],
   "source": [
    "reduce(plus,pp)"
   ]
  },
  {
   "cell_type": "code",
   "execution_count": 107,
   "id": "2b44632b",
   "metadata": {},
   "outputs": [
    {
     "data": {
      "text/plain": [
       "0.8632069372306019"
      ]
     },
     "execution_count": 107,
     "metadata": {},
     "output_type": "execute_result"
    }
   ],
   "source": [
    "x = 2.1\n",
    "eval(reduce(plus,pp))"
   ]
  },
  {
   "cell_type": "markdown",
   "id": "f134a980",
   "metadata": {},
   "source": [
    "### Lazy"
   ]
  },
  {
   "cell_type": "code",
   "execution_count": 133,
   "id": "206ed19d",
   "metadata": {},
   "outputs": [],
   "source": [
    "using Lazy\n",
    "import Lazy: cycle, range, drop, take"
   ]
  },
  {
   "cell_type": "code",
   "execution_count": 109,
   "id": "60541c10",
   "metadata": {},
   "outputs": [],
   "source": [
    "fibs = @lazy 0:1:(fibs + drop(1, fibs));"
   ]
  },
  {
   "cell_type": "code",
   "execution_count": 110,
   "id": "acf43da6",
   "metadata": {},
   "outputs": [
    {
     "data": {
      "text/plain": [
       "List: (0 1 1 2 3 5 8 13 21 34 55 …)"
      ]
     },
     "execution_count": 110,
     "metadata": {},
     "output_type": "execute_result"
    }
   ],
   "source": [
    "take(15, fibs)"
   ]
  },
  {
   "cell_type": "code",
   "execution_count": 111,
   "id": "b9144b5d",
   "metadata": {},
   "outputs": [
    {
     "data": {
      "text/plain": [
       "1.648721270700128"
      ]
     },
     "execution_count": 111,
     "metadata": {},
     "output_type": "execute_result"
    }
   ],
   "source": [
    "@> π/6 sin exp"
   ]
  },
  {
   "cell_type": "code",
   "execution_count": 120,
   "id": "734e6c8d",
   "metadata": {},
   "outputs": [
    {
     "data": {
      "text/plain": [
       "f (generic function with 1 method)"
      ]
     },
     "execution_count": 120,
     "metadata": {},
     "output_type": "execute_result"
    }
   ],
   "source": [
    "f(x,y) = (x + y)^2"
   ]
  },
  {
   "cell_type": "code",
   "execution_count": 121,
   "id": "b2b09e86",
   "metadata": {},
   "outputs": [
    {
     "data": {
      "text/plain": [
       "4.509671759722594"
      ]
     },
     "execution_count": 121,
     "metadata": {},
     "output_type": "execute_result"
    }
   ],
   "source": [
    "@> π/6 f(1.6)"
   ]
  },
  {
   "cell_type": "code",
   "execution_count": 122,
   "id": "61d72142",
   "metadata": {},
   "outputs": [
    {
     "data": {
      "text/plain": [
       "List: (4 16 36 64 100 144 196 256 324 400 484 …)"
      ]
     },
     "execution_count": 122,
     "metadata": {},
     "output_type": "execute_result"
    }
   ],
   "source": [
    "esquares = @>> range() map(x -> x^2) filter(iseven)"
   ]
  },
  {
   "cell_type": "code",
   "execution_count": 124,
   "id": "bb056121",
   "metadata": {},
   "outputs": [
    {
     "data": {
      "text/plain": [
       "List: (4 16 36 64 100 144 196)"
      ]
     },
     "execution_count": 124,
     "metadata": {},
     "output_type": "execute_result"
    }
   ],
   "source": [
    "take(7, esquares)"
   ]
  },
  {
   "cell_type": "code",
   "execution_count": 130,
   "id": "d8d917ef",
   "metadata": {},
   "outputs": [
    {
     "data": {
      "text/plain": [
       "isprime (generic function with 1 method)"
      ]
     },
     "execution_count": 130,
     "metadata": {},
     "output_type": "execute_result"
    }
   ],
   "source": [
    "isprime(n) =\n",
    "  @>> primes begin\n",
    "  takewhile(x -> x<=sqrt(n))\n",
    "  map(x -> n % x == 0)\n",
    "  any;!\n",
    "end"
   ]
  },
  {
   "cell_type": "code",
   "execution_count": 131,
   "id": "328baff5",
   "metadata": {},
   "outputs": [
    {
     "data": {
      "text/plain": [
       "List: (2 3 5 7 11 13 17 19 23 29 31 …)"
      ]
     },
     "execution_count": 131,
     "metadata": {},
     "output_type": "execute_result"
    }
   ],
   "source": [
    "primes = filter(isprime, range(2))"
   ]
  },
  {
   "cell_type": "code",
   "execution_count": 132,
   "id": "1457ed02",
   "metadata": {},
   "outputs": [
    {
     "data": {
      "text/plain": [
       "true"
      ]
     },
     "execution_count": 132,
     "metadata": {},
     "output_type": "execute_result"
    }
   ],
   "source": [
    "isprime(113)"
   ]
  },
  {
   "cell_type": "markdown",
   "id": "16930a68",
   "metadata": {},
   "source": [
    "### Generated functions"
   ]
  },
  {
   "cell_type": "code",
   "execution_count": 141,
   "id": "0ad8513d",
   "metadata": {},
   "outputs": [
    {
     "data": {
      "text/plain": [
       "mad (generic function with 1 method)"
      ]
     },
     "execution_count": 141,
     "metadata": {},
     "output_type": "execute_result"
    }
   ],
   "source": [
    "@generated function mad(a,b,c)\n",
    "  Core.println(\"Calculating a*b + c\")\n",
    "  return :(a * b + c)\n",
    "end"
   ]
  },
  {
   "cell_type": "code",
   "execution_count": 142,
   "id": "24349434",
   "metadata": {},
   "outputs": [
    {
     "name": "stdout",
     "output_type": "stream",
     "text": [
      "Calculating a*b + c\n"
     ]
    },
    {
     "ename": "LoadError",
     "evalue": "UndefVarError: `Calculating` not defined",
     "output_type": "error",
     "traceback": [
      "UndefVarError: `Calculating` not defined",
      "",
      "Stacktrace:",
      " [1] top-level scope",
      "   @ In[142]:2"
     ]
    }
   ],
   "source": [
    "mad(2.3,1.7,1.1)\n",
    "Calculating: a*b + c\n",
    "5.01"
   ]
  },
  {
   "cell_type": "code",
   "execution_count": 144,
   "id": "81199f89",
   "metadata": {},
   "outputs": [
    {
     "data": {
      "text/plain": [
       "6.01"
      ]
     },
     "execution_count": 144,
     "metadata": {},
     "output_type": "execute_result"
    }
   ],
   "source": [
    "mad(2.3,1.7,2.1)"
   ]
  },
  {
   "cell_type": "code",
   "execution_count": 145,
   "id": "9d49faaf",
   "metadata": {},
   "outputs": [
    {
     "name": "stdout",
     "output_type": "stream",
     "text": [
      "Calculating a*b + c\n"
     ]
    },
    {
     "data": {
      "text/plain": [
       "4.91"
      ]
     },
     "execution_count": 145,
     "metadata": {},
     "output_type": "execute_result"
    }
   ],
   "source": [
    "mad(2.3,1.7,1)"
   ]
  },
  {
   "cell_type": "code",
   "execution_count": 146,
   "id": "74812bb5",
   "metadata": {},
   "outputs": [
    {
     "data": {
      "text/plain": [
       "pdims (generic function with 1 method)"
      ]
     },
     "execution_count": 146,
     "metadata": {},
     "output_type": "execute_result"
    }
   ],
   "source": [
    "function pdims(x::Array{T,N}) where {T,N}\n",
    "  s = 1\n",
    "  for i = 1:N\n",
    "    s = s * size(x, i)\n",
    "  end\n",
    "  return s\n",
    "end"
   ]
  },
  {
   "cell_type": "code",
   "execution_count": 147,
   "id": "be315ed7",
   "metadata": {},
   "outputs": [
    {
     "data": {
      "text/plain": [
       "gpdims (generic function with 1 method)"
      ]
     },
     "execution_count": 147,
     "metadata": {},
     "output_type": "execute_result"
    }
   ],
   "source": [
    "@generated function gpdims(x::Array{T,N}) where {T,N}\n",
    "  ex = :(1)\n",
    "  for i = 1:N\n",
    "    ex = :(size(x, $i) * $ex)\n",
    "  end\n",
    "  return ex\n",
    "end"
   ]
  },
  {
   "cell_type": "code",
   "execution_count": 148,
   "id": "96ae7649",
   "metadata": {},
   "outputs": [
    {
     "data": {
      "text/plain": [
       "(10, 5, 5, 4)"
      ]
     },
     "execution_count": 148,
     "metadata": {},
     "output_type": "execute_result"
    }
   ],
   "source": [
    "aa = [rand() for i = 1:1000]\n",
    "aax = reshape(aa,10,5,5,4)\n",
    "size(aax)"
   ]
  },
  {
   "cell_type": "code",
   "execution_count": 149,
   "id": "810ac8cc",
   "metadata": {},
   "outputs": [
    {
     "data": {
      "text/plain": [
       "true"
      ]
     },
     "execution_count": 149,
     "metadata": {},
     "output_type": "execute_result"
    }
   ],
   "source": [
    "pdims(aax) == gpdims(aax)"
   ]
  },
  {
   "cell_type": "code",
   "execution_count": 150,
   "id": "64c64bb5",
   "metadata": {},
   "outputs": [
    {
     "data": {
      "text/plain": [
       "CodeInfo(\n",
       "\u001b[90m1 ─\u001b[39m       s = 1\n",
       "\u001b[90m│  \u001b[39m %2  = 1:$(Expr(:static_parameter, 2))\n",
       "\u001b[90m│  \u001b[39m       @_3 = Base.iterate(%2)\n",
       "\u001b[90m│  \u001b[39m %4  = @_3 === nothing\n",
       "\u001b[90m│  \u001b[39m %5  = Base.not_int(%4)\n",
       "\u001b[90m└──\u001b[39m       goto #4 if not %5\n",
       "\u001b[90m2 ┄\u001b[39m %7  = @_3\n",
       "\u001b[90m│  \u001b[39m       i = Core.getfield(%7, 1)\n",
       "\u001b[90m│  \u001b[39m %9  = Core.getfield(%7, 2)\n",
       "\u001b[90m│  \u001b[39m %10 = s\n",
       "\u001b[90m│  \u001b[39m %11 = Main.size(x, i)\n",
       "\u001b[90m│  \u001b[39m       s = %10 * %11\n",
       "\u001b[90m│  \u001b[39m       @_3 = Base.iterate(%2, %9)\n",
       "\u001b[90m│  \u001b[39m %14 = @_3 === nothing\n",
       "\u001b[90m│  \u001b[39m %15 = Base.not_int(%14)\n",
       "\u001b[90m└──\u001b[39m       goto #4 if not %15\n",
       "\u001b[90m3 ─\u001b[39m       goto #2\n",
       "\u001b[90m4 ┄\u001b[39m       return s\n",
       ")"
      ]
     },
     "execution_count": 150,
     "metadata": {},
     "output_type": "execute_result"
    }
   ],
   "source": [
    "@code_lowered pdims(aax)"
   ]
  },
  {
   "cell_type": "code",
   "execution_count": 151,
   "id": "70289128",
   "metadata": {},
   "outputs": [
    {
     "data": {
      "text/plain": [
       "CodeInfo(\n",
       "   \u001b[33m @ In[147]:1 within `gpdims`\u001b[39m\n",
       "   \u001b[33m┌ @ In[147] within `macro expansion`\u001b[39m\n",
       "\u001b[90m1 ─\u001b[39m\u001b[33m│\u001b[39m %1 = Main.size(x, 4)\n",
       "\u001b[90m│  \u001b[39m\u001b[33m│\u001b[39m %2 = Main.size(x, 3)\n",
       "\u001b[90m│  \u001b[39m\u001b[33m│\u001b[39m %3 = Main.size(x, 2)\n",
       "\u001b[90m│  \u001b[39m\u001b[33m│\u001b[39m %4 = Main.size(x, 1)\n",
       "\u001b[90m│  \u001b[39m\u001b[33m│\u001b[39m %5 = %4 * 1\n",
       "\u001b[90m│  \u001b[39m\u001b[33m│\u001b[39m %6 = %3 * %5\n",
       "\u001b[90m│  \u001b[39m\u001b[33m│\u001b[39m %7 = %2 * %6\n",
       "\u001b[90m│  \u001b[39m\u001b[33m│\u001b[39m %8 = %1 * %7\n",
       "\u001b[90m└──\u001b[39m\u001b[33m│\u001b[39m      return %8\n",
       "   \u001b[33m└\u001b[39m\n",
       ")"
      ]
     },
     "execution_count": 151,
     "metadata": {},
     "output_type": "execute_result"
    }
   ],
   "source": [
    "@code_lowered gpdims(aax)"
   ]
  },
  {
   "cell_type": "code",
   "execution_count": 152,
   "id": "8dedbb82",
   "metadata": {},
   "outputs": [
    {
     "name": "stdout",
     "output_type": "stream",
     "text": [
      "\t\u001b[0m.section\t\u001b[0m__TEXT\u001b[0m,\u001b[0m__text\u001b[0m,\u001b[0mregular\u001b[0m,\u001b[0mpure_instructions\n",
      "\t\u001b[0m.build_version \u001b[0mmacos\u001b[0m, \u001b[33m11\u001b[39m\u001b[0m, \u001b[33m0\u001b[39m\n",
      "\t\u001b[0m.globl\t\u001b[0m_julia_pdims_4256               \u001b[0m## \u001b[0m-- \u001b[0mBegin \u001b[0mfunction \u001b[0mjulia_pdims_4256\n",
      "\t\u001b[0m.p2align\t\u001b[33m4\u001b[39m\u001b[0m, \u001b[33m0x90\u001b[39m\n",
      "\u001b[91m_julia_pdims_4256:\u001b[39m                      \u001b[0m## \u001b[0m@julia_pdims_4256\n",
      "\u001b[90m; ┌ @ In[146]:1 within `pdims`\u001b[39m\n",
      "\t\u001b[0m.cfi_startproc\n",
      "\u001b[0m## \u001b[0m%bb.0\u001b[0m:                               \u001b[0m## \u001b[0m%arraysize.3\n",
      "\u001b[90m; │ @ In[146]:4 within `pdims`\u001b[39m\n",
      "\u001b[90m; │┌ @ array.jl:148 within `size`\u001b[39m\n",
      "\t\u001b[96m\u001b[1mmovq\u001b[22m\u001b[39m\t\u001b[33m32\u001b[39m\u001b[33m(\u001b[39m\u001b[0m%rdi\u001b[33m)\u001b[39m\u001b[0m, \u001b[0m%rax\n",
      "\u001b[90m; │└\u001b[39m\n",
      "\u001b[90m; │┌ @ int.jl:88 within `*`\u001b[39m\n",
      "\t\u001b[96m\u001b[1mimulq\u001b[22m\u001b[39m\t\u001b[33m24\u001b[39m\u001b[33m(\u001b[39m\u001b[0m%rdi\u001b[33m)\u001b[39m\u001b[0m, \u001b[0m%rax\n",
      "\t\u001b[96m\u001b[1mimulq\u001b[22m\u001b[39m\t\u001b[33m40\u001b[39m\u001b[33m(\u001b[39m\u001b[0m%rdi\u001b[33m)\u001b[39m\u001b[0m, \u001b[0m%rax\n",
      "\t\u001b[96m\u001b[1mimulq\u001b[22m\u001b[39m\t\u001b[33m48\u001b[39m\u001b[33m(\u001b[39m\u001b[0m%rdi\u001b[33m)\u001b[39m\u001b[0m, \u001b[0m%rax\n",
      "\u001b[90m; │└\u001b[39m\n",
      "\u001b[90m; │ @ In[146]:6 within `pdims`\u001b[39m\n",
      "\t\u001b[96m\u001b[1mretq\u001b[22m\u001b[39m\n",
      "\t\u001b[0m.cfi_endproc\n",
      "\u001b[90m; └\u001b[39m\n",
      "                                        \u001b[0m## \u001b[0m-- \u001b[0mEnd \u001b[0mfunction\n",
      "\t\u001b[0m.section\t\u001b[0m__TEXT\u001b[0m,\u001b[0m__cstring\u001b[0m,\u001b[0mcstring_literals\n",
      "\t\u001b[0m.p2align\t\u001b[33m4\u001b[39m                               \u001b[0m## \u001b[0m@_j_str1\n",
      "\u001b[91mL__j_str1:\u001b[39m\n",
      "\t\u001b[0m.asciz\t\u001b[0m\"arraysize\u001b[0m: \u001b[0mdimension \u001b[0mout \u001b[0mof \u001b[0mrange\"\n",
      "\n",
      "\u001b[0m.subsections_via_symbols\n"
     ]
    }
   ],
   "source": [
    "@code_native pdims(aax)"
   ]
  },
  {
   "cell_type": "code",
   "execution_count": 153,
   "id": "29fcd0e9",
   "metadata": {},
   "outputs": [
    {
     "name": "stdout",
     "output_type": "stream",
     "text": [
      "\t\u001b[0m.section\t\u001b[0m__TEXT\u001b[0m,\u001b[0m__text\u001b[0m,\u001b[0mregular\u001b[0m,\u001b[0mpure_instructions\n",
      "\t\u001b[0m.build_version \u001b[0mmacos\u001b[0m, \u001b[33m11\u001b[39m\u001b[0m, \u001b[33m0\u001b[39m\n",
      "\t\u001b[0m.globl\t\u001b[0m_julia_gpdims_4258              \u001b[0m## \u001b[0m-- \u001b[0mBegin \u001b[0mfunction \u001b[0mjulia_gpdims_4258\n",
      "\t\u001b[0m.p2align\t\u001b[33m4\u001b[39m\u001b[0m, \u001b[33m0x90\u001b[39m\n",
      "\u001b[91m_julia_gpdims_4258:\u001b[39m                     \u001b[0m## \u001b[0m@julia_gpdims_4258\n",
      "\u001b[90m; ┌ @ In[147]:1 within `gpdims`\u001b[39m\n",
      "\t\u001b[0m.cfi_startproc\n",
      "\u001b[0m## \u001b[0m%bb.0\u001b[0m:                               \u001b[0m## \u001b[0m%top\n",
      "\u001b[90m; │┌ @ In[147] within `macro expansion`\u001b[39m\n",
      "\u001b[90m; ││┌ @ array.jl:148 within `size`\u001b[39m\n",
      "\t\u001b[96m\u001b[1mmovq\u001b[22m\u001b[39m\t\u001b[33m40\u001b[39m\u001b[33m(\u001b[39m\u001b[0m%rdi\u001b[33m)\u001b[39m\u001b[0m, \u001b[0m%rax\n",
      "\u001b[90m; ││└\u001b[39m\n",
      "\u001b[90m; ││┌ @ int.jl:88 within `*`\u001b[39m\n",
      "\t\u001b[96m\u001b[1mimulq\u001b[22m\u001b[39m\t\u001b[33m48\u001b[39m\u001b[33m(\u001b[39m\u001b[0m%rdi\u001b[33m)\u001b[39m\u001b[0m, \u001b[0m%rax\n",
      "\t\u001b[96m\u001b[1mimulq\u001b[22m\u001b[39m\t\u001b[33m32\u001b[39m\u001b[33m(\u001b[39m\u001b[0m%rdi\u001b[33m)\u001b[39m\u001b[0m, \u001b[0m%rax\n",
      "\t\u001b[96m\u001b[1mimulq\u001b[22m\u001b[39m\t\u001b[33m24\u001b[39m\u001b[33m(\u001b[39m\u001b[0m%rdi\u001b[33m)\u001b[39m\u001b[0m, \u001b[0m%rax\n",
      "\u001b[90m; ││└\u001b[39m\n",
      "\t\u001b[96m\u001b[1mretq\u001b[22m\u001b[39m\n",
      "\t\u001b[0m.cfi_endproc\n",
      "\u001b[90m; └└\u001b[39m\n",
      "                                        \u001b[0m## \u001b[0m-- \u001b[0mEnd \u001b[0mfunction\n",
      "\u001b[0m.subsections_via_symbols\n"
     ]
    }
   ],
   "source": [
    "@code_native gpdims(aax)"
   ]
  },
  {
   "cell_type": "markdown",
   "id": "1eb0f0a2",
   "metadata": {},
   "source": [
    "---"
   ]
  },
  {
   "cell_type": "code",
   "execution_count": 5,
   "id": "192b8aee",
   "metadata": {},
   "outputs": [
    {
     "data": {
      "text/plain": [
       "Main.ModInts"
      ]
     },
     "execution_count": 5,
     "metadata": {},
     "output_type": "execute_result"
    }
   ],
   "source": [
    "module ModInts\n",
    "export ModInt\n",
    "import Base: +, -, *, /, inv\n",
    "struct ModInt{n} <: Integer\n",
    "  k::Int\n",
    "  ModInt{n}(k) where n = new(mod(k,n))\n",
    "end\n",
    "Base.show(io::IO, k::ModInt{n}) where n =\n",
    "print(io, get(io, :compact, false) ? k.k : \"$(k.k) mod $n\")\n",
    "(a::ModInt{n} + b::ModInt{n}) where n = ModInt{n}(a.k+b.k)\n",
    "(a::ModInt{n} - b::ModInt{n}) where n = ModInt{n}(a.k-b.k)\n",
    "(a::ModInt{n} * b::ModInt{n}) where n = ModInt{n}(a.k*b.k)\n",
    "-(a::ModInt{n}) where n = ModInt{n}(-a.k)\n",
    "inv(a::ModInt{n}) where n = ModInt{n}(invmod(a.k, n))\n",
    "(a::ModInt{n} / b::ModInt{n}) where n = a*inv(b)\n",
    "Base.promote_rule(::Type{ModInt{n}}, ::Type{Int}) where n = ModInt{n}\n",
    "Base.convert(::Type{ModInt{n}}, i::Int) where n = ModInt{n}(i)\n",
    "end"
   ]
  },
  {
   "cell_type": "code",
   "execution_count": 6,
   "id": "8a147e37",
   "metadata": {},
   "outputs": [
    {
     "data": {
      "text/plain": [
       "2 mod 11"
      ]
     },
     "execution_count": 6,
     "metadata": {},
     "output_type": "execute_result"
    }
   ],
   "source": [
    "using Main.ModInts\n",
    "m1 = ModInt{11}(2)\n",
    "m2 = ModInt{11}(7)\n",
    "m3 = 3*m1 + m2"
   ]
  },
  {
   "cell_type": "code",
   "execution_count": 7,
   "id": "f9733787",
   "metadata": {},
   "outputs": [
    {
     "data": {
      "text/plain": [
       "10×10 Matrix{ModInt{11}}:\n",
       " 0  10  0   9   6  0   0  5  8  0\n",
       " 0   4  0   2  10  0  10  7  0  0\n",
       " 0  10  0   6   2  0  10  2  9  0\n",
       " 0   4  0   2   6  0   6  7  8  0\n",
       " 0  10  0   8   5  0   2  6  7  0\n",
       " 0   1  0  10   9  0   9  6  7  0\n",
       " 0   3  0   2   4  0   6  4  2  0\n",
       " 0   7  0   1   1  0   8  8  1  0\n",
       " 0   3  0   2   1  0   6  8  2  0\n",
       " 0   7  0   1   1  0   1  6  8  0"
      ]
     },
     "execution_count": 7,
     "metadata": {},
     "output_type": "execute_result"
    }
   ],
   "source": [
    "mm = reshape([ModInt{11}(rand(0:10)) for i = 1:100],10,10)\n",
    "ma = [ModInt{11}(rand(0:10)) for i = 1:10]\n",
    "mm.*ma'"
   ]
  },
  {
   "cell_type": "code",
   "execution_count": 8,
   "id": "9c78cf6e",
   "metadata": {},
   "outputs": [],
   "source": [
    "using Test"
   ]
  },
  {
   "cell_type": "code",
   "execution_count": 9,
   "id": "61565167",
   "metadata": {},
   "outputs": [
    {
     "data": {
      "text/plain": [
       "\u001b[32m\u001b[1mTest Passed\u001b[22m\u001b[39m"
      ]
     },
     "execution_count": 9,
     "metadata": {},
     "output_type": "execute_result"
    }
   ],
   "source": [
    "x = 1\n",
    "@test x == 1"
   ]
  },
  {
   "cell_type": "code",
   "execution_count": 10,
   "id": "4183b51b",
   "metadata": {},
   "outputs": [
    {
     "name": "stdout",
     "output_type": "stream",
     "text": [
      "\u001b[91m\u001b[1mTest Failed\u001b[22m\u001b[39m at \u001b[39m\u001b[1mIn[10]:1\u001b[22m\n",
      "  Expression: x == 2\n",
      "   Evaluated: 1 == 2\n",
      "\n"
     ]
    },
    {
     "ename": "LoadError",
     "evalue": "\u001b[91mThere was an error during testing\u001b[39m",
     "output_type": "error",
     "traceback": [
      "\u001b[91mThere was an error during testing\u001b[39m",
      "",
      "Stacktrace:",
      " [1] record(ts::Test.FallbackTestSet, t::Union{Test.Error, Test.Fail})",
      "   @ Test /Applications/Julia-1.9.app/Contents/Resources/julia/share/julia/stdlib/v1.9/Test/src/Test.jl:960",
      " [2] do_test(result::Test.ExecutionResult, orig_expr::Any)",
      "   @ Test /Applications/Julia-1.9.app/Contents/Resources/julia/share/julia/stdlib/v1.9/Test/src/Test.jl:670",
      " [3] top-level scope",
      "   @ /Applications/Julia-1.9.app/Contents/Resources/julia/share/julia/stdlib/v1.9/Test/src/Test.jl:478"
     ]
    }
   ],
   "source": [
    "@test x == 2"
   ]
  },
  {
   "cell_type": "code",
   "execution_count": 11,
   "id": "cc4f0fae",
   "metadata": {},
   "outputs": [
    {
     "data": {
      "text/plain": [
       "10-element Vector{Float64}:\n",
       " 0.6732681321910536\n",
       " 0.5114958830723525\n",
       " 0.647550435513172\n",
       " 0.30762745755034604\n",
       " 0.3670177036820047\n",
       " 0.5854018270986431\n",
       " 0.16050204402577206\n",
       " 0.6557146600948265\n",
       " 0.46730693904326503\n",
       " 0.10359924299610068"
      ]
     },
     "execution_count": 11,
     "metadata": {},
     "output_type": "execute_result"
    }
   ],
   "source": [
    "a = rand(10)"
   ]
  },
  {
   "cell_type": "code",
   "execution_count": 12,
   "id": "9c23a247",
   "metadata": {},
   "outputs": [
    {
     "data": {
      "text/plain": [
       "\u001b[32m\u001b[1mTest Passed\u001b[22m\u001b[39m\n",
       "      Thrown: BoundsError"
      ]
     },
     "execution_count": 12,
     "metadata": {},
     "output_type": "execute_result"
    }
   ],
   "source": [
    "@test_throws BoundsError a[11] = 0.1"
   ]
  },
  {
   "cell_type": "code",
   "execution_count": 13,
   "id": "edf90820",
   "metadata": {},
   "outputs": [
    {
     "name": "stdout",
     "output_type": "stream",
     "text": [
      "\u001b[91m\u001b[1mTest Failed\u001b[22m\u001b[39m at \u001b[39m\u001b[1mIn[13]:1\u001b[22m\n",
      "  Expression: a[11] = 0.1\n",
      "    Expected: DomainError\n",
      "      Thrown: BoundsError\n",
      "\n"
     ]
    },
    {
     "ename": "LoadError",
     "evalue": "\u001b[91mThere was an error during testing\u001b[39m",
     "output_type": "error",
     "traceback": [
      "\u001b[91mThere was an error during testing\u001b[39m",
      "",
      "Stacktrace:",
      " [1] record(ts::Test.FallbackTestSet, t::Union{Test.Error, Test.Fail})",
      "   @ Test /Applications/Julia-1.9.app/Contents/Resources/julia/share/julia/stdlib/v1.9/Test/src/Test.jl:960",
      " [2] do_test_throws(result::Test.ExecutionResult, orig_expr::Any, extype::Any)",
      "   @ Test /Applications/Julia-1.9.app/Contents/Resources/julia/share/julia/stdlib/v1.9/Test/src/Test.jl:793",
      " [3] top-level scope",
      "   @ In[13]:1"
     ]
    }
   ],
   "source": [
    "@test_throws DomainError a[11] = 0.1"
   ]
  },
  {
   "cell_type": "code",
   "execution_count": 14,
   "id": "6fdb8b63",
   "metadata": {},
   "outputs": [
    {
     "name": "stdout",
     "output_type": "stream",
     "text": [
      "Trigonometric identities: \u001b[91m\u001b[1mTest Failed\u001b[22m\u001b[39m at \u001b[39m\u001b[1mIn[14]:4\u001b[22m\n",
      "  Expression: cos(-x) ≈ -(cos(x))\n",
      "   Evaluated: -0.4999999999999998 ≈ 0.4999999999999998\n",
      "\n",
      "Stacktrace:\n",
      " [1] \u001b[0m\u001b[1mmacro expansion\u001b[22m\n",
      "\u001b[90m   @\u001b[39m \u001b[90m/Applications/Julia-1.9.app/Contents/Resources/julia/share/julia/stdlib/v1.9/Test/src/\u001b[39m\u001b[90m\u001b[4mTest.jl:478\u001b[24m\u001b[39m\u001b[90m [inlined]\u001b[39m\n",
      " [2] \u001b[0m\u001b[1mmacro expansion\u001b[22m\n",
      "\u001b[90m   @\u001b[39m \u001b[90m\u001b[4mIn[14]:4\u001b[24m\u001b[39m\u001b[90m [inlined]\u001b[39m\n",
      " [3] \u001b[0m\u001b[1mmacro expansion\u001b[22m\n",
      "\u001b[90m   @\u001b[39m \u001b[90m/Applications/Julia-1.9.app/Contents/Resources/julia/share/julia/stdlib/v1.9/Test/src/\u001b[39m\u001b[90m\u001b[4mTest.jl:1498\u001b[24m\u001b[39m\u001b[90m [inlined]\u001b[39m\n",
      " [4] top-level scope\n",
      "\u001b[90m   @\u001b[39m \u001b[90m\u001b[4mIn[14]:2\u001b[24m\u001b[39m\n",
      "\u001b[0m\u001b[1mTest Summary:            | \u001b[22m\u001b[32m\u001b[1mPass  \u001b[22m\u001b[39m\u001b[91m\u001b[1mFail  \u001b[22m\u001b[39m\u001b[36m\u001b[1mTotal  \u001b[22m\u001b[39m\u001b[0m\u001b[1mTime\u001b[22m\n",
      "Trigonometric identities | \u001b[32m   3  \u001b[39m\u001b[91m   1  \u001b[39m\u001b[36m    4  \u001b[39m\u001b[0m1.8s\n"
     ]
    },
    {
     "ename": "LoadError",
     "evalue": "\u001b[91mSome tests did not pass: 3 passed, 1 failed, 0 errored, 0 broken.\u001b[39m",
     "output_type": "error",
     "traceback": [
      "\u001b[91mSome tests did not pass: 3 passed, 1 failed, 0 errored, 0 broken.\u001b[39m",
      "",
      "Stacktrace:",
      " [1] finish(ts::Test.DefaultTestSet)",
      "   @ Test /Applications/Julia-1.9.app/Contents/Resources/julia/share/julia/stdlib/v1.9/Test/src/Test.jl:1151",
      " [2] macro expansion",
      "   @ /Applications/Julia-1.9.app/Contents/Resources/julia/share/julia/stdlib/v1.9/Test/src/Test.jl:1514 [inlined]",
      " [3] top-level scope",
      "   @ In[14]:2"
     ]
    }
   ],
   "source": [
    "@testset \"Trigonometric identities\" begin\n",
    "x = 2/3*π\n",
    "@test sin(-x) ≈ -sin(x)\n",
    "@test cos(-x) ≈ -cos(x)\n",
    "@test sin(2x) ≈ 2*sin(x)*cos(x)\n",
    "@test cos(2x) ≈ cos(x)^2 - sin(x)^2\n",
    "end;"
   ]
  },
  {
   "cell_type": "markdown",
   "id": "8901631f",
   "metadata": {},
   "source": [
    "---\n",
    "## Order Pairs\n",
    "---"
   ]
  },
  {
   "cell_type": "code",
   "execution_count": 39,
   "id": "0851a8b9",
   "metadata": {},
   "outputs": [
    {
     "name": "stderr",
     "output_type": "stream",
     "text": [
      "WARNING: replacing module OrdPairs.\n"
     ]
    },
    {
     "data": {
      "text/plain": [
       "Main.OrdPairs"
      ]
     },
     "execution_count": 39,
     "metadata": {},
     "output_type": "execute_result"
    }
   ],
   "source": [
    "module OrdPairs\n",
    "\n",
    "import Base: +,-,*,/,==,!=,>,<,>=,<=\n",
    "import Base: abs,conj,inv,zero,one,show\n",
    "import LinearAlgebra: transpose,adjoint,norm\n",
    "\n",
    "struct OrdPair{T<:Number}\n",
    "    a::T\n",
    "    b::T\n",
    "end\n",
    "\n",
    "OrdPair(x::Number) = OrdPair(x, zero(Number))\n",
    "\n",
    "value(u::OrdPair)   = u.a\n",
    "epsilon(u::OrdPair) = u.b\n",
    "\n",
    "zero(::Type{OrdPairs.OrdPair}) = OrdPair(zero(Number),zero(Number))\n",
    "one(::Type{OrdPairs.OrdPair})  = OrdPair(one(Number),zero(Number))\n",
    "\n",
    "abs(u::OrdPair)  = abs(value(u))\n",
    "norm(u::OrdPair) = norm(value(u))\n",
    "\n",
    "+(u::OrdPair, v::OrdPair) = OrdPair(value(u)+value(v), epsilon(u)+epsilon(v))\n",
    "-(u::OrdPair, v::OrdPair) = OrdPair(value(u)-value(v), epsilon(u)-epsilon(v))\n",
    "*(u::OrdPair, v::OrdPair) = OrdPair(value(u)*value(v), epsilon(u)*value(v)+value(u)*epsilon(v))\n",
    "/(u::OrdPair, v::OrdPair) = OrdPair(value(u)/value(v),(epsilon(u)*value(v)-value(u)*epsilon(v))/(value(v)*value(v)))\n",
    "\n",
    "==(u::OrdPair, v::OrdPair) = norm(u) == norm(v)\n",
    "!=(u::OrdPair, v::OrdPair) = norm(u) != norm(v)\n",
    ">(u::OrdPair, v::OrdPair)  = norm(u) > norm(v)\n",
    ">=(u::OrdPair, v::OrdPair) = norm(u) >= norm(v)\n",
    "<(u::OrdPair, v::OrdPair)  = norm(u) < norm(v)\n",
    "<=(u::OrdPair, v::OrdPair) = norm(u) <= norm(v)\n",
    "\n",
    "function show(io::IO,u::OrdPair)\n",
    "  op::String = (epsilon(u) < 0.0) ? \" - \" : \" + \";\n",
    "  print(io,value(u),op,abs(epsilon(u)),\" ϵ\")\n",
    "end\n",
    "\n",
    "export OrdPair\n",
    "\n",
    "end"
   ]
  },
  {
   "cell_type": "code",
   "execution_count": 40,
   "id": "94d44f39",
   "metadata": {},
   "outputs": [
    {
     "name": "stderr",
     "output_type": "stream",
     "text": [
      "WARNING: using OrdPairs.OrdPair in module Main conflicts with an existing identifier.\n"
     ]
    }
   ],
   "source": [
    "using Main.OrdPairs"
   ]
  },
  {
   "cell_type": "code",
   "execution_count": 41,
   "id": "e19ee094",
   "metadata": {},
   "outputs": [
    {
     "ename": "LoadError",
     "evalue": "MethodError: no method matching OrdPair(::Float64, ::Float64)\n\n\u001b[0mClosest candidates are:\n\u001b[0m  OrdPair(::Number)\n\u001b[0m\u001b[90m   @\u001b[39m \u001b[36mMain.OrdPairs\u001b[39m \u001b[90m\u001b[4mIn[23]:10\u001b[24m\u001b[39m\n",
     "output_type": "error",
     "traceback": [
      "MethodError: no method matching OrdPair(::Float64, ::Float64)\n\n\u001b[0mClosest candidates are:\n\u001b[0m  OrdPair(::Number)\n\u001b[0m\u001b[90m   @\u001b[39m \u001b[36mMain.OrdPairs\u001b[39m \u001b[90m\u001b[4mIn[23]:10\u001b[24m\u001b[39m\n",
      "",
      "Stacktrace:",
      " [1] top-level scope",
      "   @ In[41]:1"
     ]
    }
   ],
   "source": [
    "p1 = OrdPair(2.3,-1.7)"
   ]
  },
  {
   "cell_type": "code",
   "execution_count": 32,
   "id": "7ef8b911",
   "metadata": {},
   "outputs": [
    {
     "ename": "LoadError",
     "evalue": "UndefVarError: `p2` not defined",
     "output_type": "error",
     "traceback": [
      "UndefVarError: `p2` not defined",
      "",
      "Stacktrace:",
      " [1] top-level scope",
      "   @ In[32]:1"
     ]
    }
   ],
   "source": [
    "p2/p1"
   ]
  },
  {
   "cell_type": "code",
   "execution_count": null,
   "id": "61583eb6",
   "metadata": {},
   "outputs": [],
   "source": []
  }
 ],
 "metadata": {
  "kernelspec": {
   "display_name": "Julia 1.9.1",
   "language": "julia",
   "name": "julia-1.9"
  },
  "language_info": {
   "file_extension": ".jl",
   "mimetype": "application/julia",
   "name": "julia",
   "version": "1.9.2"
  }
 },
 "nbformat": 4,
 "nbformat_minor": 5
}
